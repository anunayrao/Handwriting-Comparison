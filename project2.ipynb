{
 "cells": [
  {
   "cell_type": "code",
   "execution_count": null,
   "metadata": {},
   "outputs": [],
   "source": []
  },
  {
   "cell_type": "code",
   "execution_count": null,
   "metadata": {},
   "outputs": [],
   "source": []
  },
  {
   "cell_type": "code",
   "execution_count": null,
   "metadata": {},
   "outputs": [],
   "source": []
  },
  {
   "cell_type": "markdown",
   "metadata": {},
   "source": [
    "## Linear Regression on Human Observed Dataset with Feature Concatenation\n"
   ]
  },
  {
   "cell_type": "code",
   "execution_count": 33,
   "metadata": {},
   "outputs": [],
   "source": [
    "from sklearn.cluster import KMeans\n",
    "import numpy as np\n",
    "import csv\n",
    "import math\n",
    "import matplotlib.pyplot\n",
    "from matplotlib import pyplot as plt"
   ]
  },
  {
   "cell_type": "code",
   "execution_count": 506,
   "metadata": {},
   "outputs": [],
   "source": [
    "maxAcc = 0.0\n",
    "maxIter = 0\n",
    "C_Lambda = 0.03 #Regularisation term for closed form\n",
    "#Percentage Data Split\n",
    "TrainingPercent = 80\n",
    "ValidationPercent = 10\n",
    "TestPercent = 10\n",
    "M = 18 #Number of Basis Functions \n",
    "PHI = []\n",
    "IsSynthetic = False\n",
    "s=100"
   ]
  },
  {
   "cell_type": "code",
   "execution_count": 35,
   "metadata": {},
   "outputs": [],
   "source": [
    "def GetTargetVector(filePath,target):\n",
    "    t = []\n",
    "    with open(filePath, 'rU') as f:\n",
    "        reader = csv.reader(f)\n",
    "        for row in reader:  \n",
    "            t.append(int(row[target]))\n",
    "    #print(\"Raw Training Generated..\")\n",
    "    return t\n",
    "\n",
    "def GenerateRawData(filePath, IsSynthetic,target,s=100):    \n",
    "    dataMatrix = [] \n",
    "    with open(filePath, 'rU') as fi:\n",
    "        reader = csv.reader(fi)\n",
    "        for row in reader:\n",
    "            dataRow = []\n",
    "            for column in row[0:target]:\n",
    "                dataRow.append(float(column))\n",
    "            dataMatrix.append(dataRow)   \n",
    "    \n",
    "    if IsSynthetic == True :\n",
    "        if(s==0):\n",
    "            dataMatrix = np.delete(dataMatrix, [450,452,456,457,962,964,968], axis=1)\n",
    "        if(s==1):\n",
    "            dataMatrix = np.delete(dataMatrix, [450,452,456], axis=1)\n",
    "    dataMatrix = np.transpose(dataMatrix)     \n",
    "    #print (\"Data Matrix Generated..\")\n",
    "    return dataMatrix\n",
    "\n",
    "def GenerateTrainingTarget(rawTraining,TrainingPercent = 80):\n",
    "    TrainingLen = int(math.ceil(len(rawTraining)*(TrainingPercent*0.01)))\n",
    "    t           = rawTraining[:TrainingLen]\n",
    "    #print(str(TrainingPercent) + \"% Training Target Generated..\")\n",
    "    return t\n",
    "\n",
    "def GenerateTrainingDataMatrix(rawData, TrainingPercent = 80):\n",
    "    T_len = int(math.ceil(len(rawData[0])*0.01*TrainingPercent))\n",
    "    d2 = rawData[:,0:T_len]\n",
    "    #print(str(TrainingPercent) + \"% Training Data Generated..\")\n",
    "    return d2\n",
    "\n",
    "def GenerateValData(rawData, ValPercent, TrainingCount): \n",
    "    valSize = int(math.ceil(len(rawData[0])*ValPercent*0.01))\n",
    "    V_End = TrainingCount + valSize\n",
    "    dataMatrix = rawData[:,TrainingCount+1:V_End]\n",
    "    #print (str(ValPercent) + \"% Val Data Generated..\")  \n",
    "    return dataMatrix\n",
    "\n",
    "def GenerateValTargetVector(rawData, ValPercent, TrainingCount): \n",
    "    valSize = int(math.ceil(len(rawData)*ValPercent*0.01))\n",
    "    V_End = TrainingCount + valSize\n",
    "    t =rawData[TrainingCount+1:V_End]\n",
    "    #print (str(ValPercent) + \"% Val Target Data Generated..\")\n",
    "    return t\n",
    "\n",
    "#Function to generate covariance matrix\n",
    "def GenerateBigSigma(Data, MuMatrix,TrainingPercent,IsSynthetic):\n",
    "    BigSigma    = np.zeros((len(Data),len(Data)))\n",
    "    DataT       = np.transpose(Data)\n",
    "    TrainingLen = math.ceil(len(DataT)*(TrainingPercent*0.01))        \n",
    "    varVect     = []\n",
    "    for i in range(0,len(DataT[0])):\n",
    "        vct = []\n",
    "        for j in range(0,int(TrainingLen)):\n",
    "            vct.append(Data[i][j])    \n",
    "        varVect.append(np.var(vct))\n",
    "    \n",
    "    for j in range(len(Data)):\n",
    "        BigSigma[j][j] = varVect[j]\n",
    "    if IsSynthetic == True:\n",
    "        BigSigma = np.dot(3,BigSigma)\n",
    "    else:\n",
    "        BigSigma = np.dot(200,BigSigma)\n",
    "    ##print (\"BigSigma Generated..\")\n",
    "    return BigSigma\n",
    "\n",
    "def GetScalar(DataRow,MuRow, BigSigInv):  \n",
    "    R = np.subtract(DataRow,MuRow)\n",
    "    T = np.dot(BigSigInv,np.transpose(R))  \n",
    "    L = np.dot(R,T)\n",
    "    return L\n",
    "\n",
    "def GetRadialBasisOut(DataRow,MuRow, BigSigInv): #Basis function computation for data\n",
    "    phi_x = math.exp(-0.5*GetScalar(DataRow,MuRow,BigSigInv))\n",
    "    return phi_x\n",
    "\n",
    "\n",
    "#Obtaining weights for closed form solution\n",
    "def GetWeightsClosedForm(PHI, T, Lambda):\n",
    "    Lambda_I = np.identity(len(PHI[0]))\n",
    "    for i in range(0,len(PHI[0])):\n",
    "        Lambda_I[i][i] = Lambda\n",
    "    PHI_T       = np.transpose(PHI)\n",
    "    PHI_SQR     = np.dot(PHI_T,PHI)\n",
    "    PHI_SQR_LI  = np.add(Lambda_I,PHI_SQR)\n",
    "    PHI_SQR_INV = np.linalg.inv(PHI_SQR_LI)\n",
    "    INTER       = np.dot(PHI_SQR_INV, PHI_T)\n",
    "    W           = np.dot(INTER, T)\n",
    "    ##print (\"Training Weights Generated..\")\n",
    "    return W\n",
    "\n",
    "#Function to get Design Matrix PHI\n",
    "def GetPhiMatrix(Data, MuMatrix, BigSigma, TrainingPercent):\n",
    "    DataT = np.transpose(Data)\n",
    "    TrainingLen = math.ceil(len(DataT)*(TrainingPercent*0.01))         \n",
    "    PHI = np.zeros((int(TrainingLen),len(MuMatrix))) \n",
    "    BigSigInv = np.linalg.inv(BigSigma)\n",
    "    for  C in range(0,len(MuMatrix)):\n",
    "        for R in range(0,int(TrainingLen)):\n",
    "            PHI[R][C] = GetRadialBasisOut(DataT[R], MuMatrix[C], BigSigInv)\n",
    "    #print (\"PHI Generated..\")\n",
    "    return PHI\n",
    "\n",
    "#Validation testing with validation design matrix\n",
    "def GetValTest(VAL_PHI,W):\n",
    "    Y = np.dot(W,np.transpose(VAL_PHI))\n",
    "    ##print (\"Test Out Generated..\")\n",
    "    return Y\n",
    "\n",
    "#Computing training, validation and testing ERMS\n",
    "def GetErms(VAL_TEST_OUT,ValDataAct):\n",
    "    sum = 0.0\n",
    "    t=0\n",
    "    accuracy = 0.0\n",
    "    counter = 0\n",
    "    val = 0.0\n",
    "    for i in range (0,len(VAL_TEST_OUT)):\n",
    "        sum = sum + math.pow((ValDataAct[i] - VAL_TEST_OUT[i]),2)\n",
    "        if(int(np.around(VAL_TEST_OUT[i], 0)) == ValDataAct[i]):\n",
    "            counter+=1\n",
    "    accuracy = (float((counter*100))/float(len(VAL_TEST_OUT)))\n",
    "    ##print (\"Accuracy Generated..\")\n",
    "    ##print (\"Validation E_RMS : \" + str(math.sqrt(sum/len(VAL_TEST_OUT))))\n",
    "    return (str(accuracy) + ',' +  str(math.sqrt(sum/len(VAL_TEST_OUT))))"
   ]
  },
  {
   "cell_type": "markdown",
   "metadata": {},
   "source": [
    "### Fetch and Prepare Dataset"
   ]
  },
  {
   "cell_type": "code",
   "execution_count": 36,
   "metadata": {},
   "outputs": [
    {
     "name": "stderr",
     "output_type": "stream",
     "text": [
      "/anaconda3/lib/python3.6/site-packages/ipykernel_launcher.py:3: DeprecationWarning: 'U' mode is deprecated\n",
      "  This is separate from the ipykernel package so we can avoid doing imports until\n",
      "/anaconda3/lib/python3.6/site-packages/ipykernel_launcher.py:12: DeprecationWarning: 'U' mode is deprecated\n",
      "  if sys.path[0] == '':\n"
     ]
    }
   ],
   "source": [
    "t = 18\n",
    "RawTarget = GetTargetVector('final_cat.csv',t)\n",
    "RawData   = GenerateRawData('final_cat.csv',IsSynthetic,t)"
   ]
  },
  {
   "cell_type": "markdown",
   "metadata": {},
   "source": [
    "### Prepare Training Data"
   ]
  },
  {
   "cell_type": "code",
   "execution_count": 37,
   "metadata": {},
   "outputs": [
    {
     "name": "stdout",
     "output_type": "stream",
     "text": [
      "(1265,)\n",
      "(18, 1265)\n"
     ]
    }
   ],
   "source": [
    "TrainingTarget = np.array(GenerateTrainingTarget(RawTarget,TrainingPercent))\n",
    "TrainingData   = GenerateTrainingDataMatrix(RawData,TrainingPercent)\n",
    "print(TrainingTarget.shape)\n",
    "print(TrainingData.shape)\n",
    "tr = int(TrainingTarget.shape[0])"
   ]
  },
  {
   "cell_type": "markdown",
   "metadata": {},
   "source": [
    "### Prepare Validation Data"
   ]
  },
  {
   "cell_type": "code",
   "execution_count": 38,
   "metadata": {},
   "outputs": [
    {
     "name": "stdout",
     "output_type": "stream",
     "text": [
      "(158,)\n",
      "(18, 158)\n"
     ]
    }
   ],
   "source": [
    "ValDataAct = np.array(GenerateValTargetVector(RawTarget,ValidationPercent, (len(TrainingTarget))))\n",
    "ValData    = GenerateValData(RawData,ValidationPercent, (len(TrainingTarget)))\n",
    "print(ValDataAct.shape)\n",
    "print(ValData.shape)\n",
    "v = int(ValDataAct.shape[0])"
   ]
  },
  {
   "cell_type": "markdown",
   "metadata": {},
   "source": [
    "### Prepare Test Data"
   ]
  },
  {
   "cell_type": "code",
   "execution_count": 39,
   "metadata": {},
   "outputs": [
    {
     "name": "stdout",
     "output_type": "stream",
     "text": [
      "(157,)\n",
      "(18, 157)\n"
     ]
    }
   ],
   "source": [
    "TestDataAct = np.array(GenerateValTargetVector(RawTarget,TestPercent, (len(TrainingTarget)+len(ValDataAct))))\n",
    "TestData = GenerateValData(RawData,TestPercent, (len(TrainingTarget)+len(ValDataAct)))\n",
    "print(TestDataAct.shape)\n",
    "print(TestData.shape)\n",
    "te = int(TestDataAct.shape[0])"
   ]
  },
  {
   "cell_type": "markdown",
   "metadata": {},
   "source": [
    "### Closed Form Solution [Finding Weights using Moore- Penrose pseudo- Inverse Matrix]\n"
   ]
  },
  {
   "cell_type": "code",
   "execution_count": 40,
   "metadata": {},
   "outputs": [],
   "source": [
    "ErmsArr = []\n",
    "AccuracyArr = []\n",
    "#random_state=0 is used to make randomness deterministic.\n",
    "kmeans = KMeans(n_clusters=M, random_state=0).fit(np.transpose(TrainingData))\n",
    "Mu = kmeans.cluster_centers_\n",
    "\n",
    "BigSigma     = GenerateBigSigma(RawData, Mu, TrainingPercent,IsSynthetic)\n",
    "TRAINING_PHI = GetPhiMatrix(RawData, Mu, BigSigma, TrainingPercent)\n",
    "W            = GetWeightsClosedForm(TRAINING_PHI,TrainingTarget,(C_Lambda)) \n",
    "TEST_PHI     = GetPhiMatrix(TestData, Mu, BigSigma, 100) \n",
    "VAL_PHI      = GetPhiMatrix(ValData, Mu, BigSigma, 100)"
   ]
  },
  {
   "cell_type": "code",
   "execution_count": 41,
   "metadata": {},
   "outputs": [
    {
     "name": "stdout",
     "output_type": "stream",
     "text": [
      "(10, 18)\n",
      "(18, 18)\n",
      "(1265, 10)\n",
      "(10,)\n",
      "(158, 10)\n",
      "(157, 10)\n"
     ]
    }
   ],
   "source": [
    "print(Mu.shape)\n",
    "print(BigSigma.shape)\n",
    "print(TRAINING_PHI.shape)\n",
    "print(W.shape)\n",
    "print(VAL_PHI.shape)\n",
    "print(TEST_PHI.shape)"
   ]
  },
  {
   "cell_type": "markdown",
   "metadata": {},
   "source": [
    "### Finding Erms on training, validation and test set \n"
   ]
  },
  {
   "cell_type": "code",
   "execution_count": 42,
   "metadata": {},
   "outputs": [],
   "source": [
    "TR_TEST_OUT  = GetValTest(TRAINING_PHI,W)\n",
    "VAL_TEST_OUT = GetValTest(VAL_PHI,W)\n",
    "TEST_OUT     = GetValTest(TEST_PHI,W)\n",
    "\n",
    "TrainingAccuracy   = str(GetErms(TR_TEST_OUT,TrainingTarget))\n",
    "ValidationAccuracy = str(GetErms(VAL_TEST_OUT,ValDataAct))\n",
    "TestAccuracy       = str(GetErms(TEST_OUT,TestDataAct))"
   ]
  },
  {
   "cell_type": "code",
   "execution_count": 43,
   "metadata": {},
   "outputs": [
    {
     "name": "stdout",
     "output_type": "stream",
     "text": [
      "UBITname      = anunayra\n",
      "Person Number = 50291493\n",
      "--------------------------------------------------------------------------\n",
      "--Linear Regression on Human Observed Dataset with Feature Concatenation--\n",
      "--------------------------------------------------------------------------\n",
      "-------------------Closed Form with Radial Basis Function-----------------\n",
      "--------------------------------------------------------------------------\n",
      "M = 10 \n",
      "Lambda = 0.03\n",
      "E_rms Training   = 0.4967303666643748\n",
      "E_rms Validation = 0.4936395796664404\n",
      "E_rms Testing    = 0.49767401628116004\n"
     ]
    }
   ],
   "source": [
    "print ('UBITname      = anunayra')\n",
    "print ('Person Number = 50291493')\n",
    "print ('--------------------------------------------------------------------------')\n",
    "print (\"--Linear Regression on Human Observed Dataset with Feature Concatenation--\")\n",
    "print ('--------------------------------------------------------------------------')\n",
    "print (\"-------------------Closed Form with Radial Basis Function-----------------\")\n",
    "print ('--------------------------------------------------------------------------')\n",
    "print (\"M = 10 \\nLambda = 0.03\")\n",
    "print (\"E_rms Training   = \" + str(float(TrainingAccuracy.split(',')[1])))\n",
    "print (\"E_rms Validation = \" + str(float(ValidationAccuracy.split(',')[1])))\n",
    "print (\"E_rms Testing    = \" + str(float(TestAccuracy.split(',')[1])))\n",
    "#print (\"Training Accuracy   = \" + str(float(TrainingAccuracy.split(',')[0])))\n",
    "#print (\"Validation Accuracy = \" + str(float(ValidationAccuracy.split(',')[0])))\n",
    "#print (\"Testing Accuracy    = \" + str(float(TestAccuracy.split(',')[0])))"
   ]
  },
  {
   "cell_type": "markdown",
   "metadata": {},
   "source": [
    "### Gradient Descent solution for Linear Regression\n"
   ]
  },
  {
   "cell_type": "code",
   "execution_count": 44,
   "metadata": {},
   "outputs": [],
   "source": [
    "#Random initialisation of Weights   \n",
    "#W_Now        = np.dot(220, W)\n",
    "f = 10\n",
    "W_Now        = np.zeros(f)\n",
    "La           = 1.8\n",
    "learningRate = 0.01\n",
    "L_Erms_Val   = []\n",
    "L_Erms_TR    = []\n",
    "L_Erms_Test  = []\n",
    "W_Mat        = []\n",
    "\n",
    "for i in range(0,tr):\n",
    "    #Weight updation process\n",
    "\t#print ('---------Iteration: ' + str(i) + '--------------')\n",
    "\tDelta_E_D     = -np.dot((TrainingTarget[i] - np.dot(np.transpose(W_Now),TRAINING_PHI[i])),TRAINING_PHI[i])\n",
    "\tLa_Delta_E_W  = np.dot(La,W_Now)\n",
    "\tDelta_E       = np.add(Delta_E_D,La_Delta_E_W)    \n",
    "\tDelta_W       = -np.dot(learningRate,Delta_E)\n",
    "\tW_T_Next      = W_Now + Delta_W\n",
    "\tW_Now         = W_T_Next\n",
    "    \n",
    "    #-----------------TrainingData Accuracy---------------------#\n",
    "\tTR_TEST_OUT   = GetValTest(TRAINING_PHI,W_T_Next) \n",
    "\tErms_TR       = GetErms(TR_TEST_OUT,TrainingTarget)\n",
    "\tL_Erms_TR.append(float(Erms_TR.split(',')[1]))\n",
    "    \n",
    "    #-----------------ValidationData Accuracy---------------------#\n",
    "\tVAL_TEST_OUT  = GetValTest(VAL_PHI,W_T_Next) \n",
    "\tErms_Val      = GetErms(VAL_TEST_OUT,ValDataAct)\n",
    "\tL_Erms_Val.append(float(Erms_Val.split(',')[1]))\n",
    "    \n",
    "    #-----------------TestingData Accuracy---------------------#\n",
    "\tTEST_OUT      = GetValTest(TEST_PHI,W_T_Next) \n",
    "\tErms_Test = GetErms(TEST_OUT,TestDataAct)\n",
    "\tL_Erms_Test.append(float(Erms_Test.split(',')[1]))\n",
    "\n",
    "\n"
   ]
  },
  {
   "cell_type": "code",
   "execution_count": 45,
   "metadata": {},
   "outputs": [
    {
     "name": "stdout",
     "output_type": "stream",
     "text": [
      "--------------------------------------------------------------------------\n",
      "--Linear Regression on Human Observed Dataset with Feature Concatenation--\n",
      "--------------------------------------------------------------------------\n",
      "----------------------Gradient Descent Solution---------------------------\n",
      "M = 10 \n",
      "Lambda  = 1.8\n",
      "eta=0.01\n",
      "E_rms Training   = 0.49957\n",
      "E_rms Validation = 0.49914\n",
      "E_rms Testing    = 0.49795\n"
     ]
    }
   ],
   "source": [
    "print ('--------------------------------------------------------------------------')\n",
    "print (\"--Linear Regression on Human Observed Dataset with Feature Concatenation--\")\n",
    "print ('--------------------------------------------------------------------------')\n",
    "print ('----------------------Gradient Descent Solution---------------------------')\n",
    "print (\"M = 10 \\nLambda  = 1.8\\neta=0.01\")\n",
    "print (\"E_rms Training   = \" + str(np.around(min(L_Erms_TR),5)))\n",
    "print (\"E_rms Validation = \" + str(np.around(min(L_Erms_Val),5)))\n",
    "print (\"E_rms Testing    = \" + str(np.around(min(L_Erms_Test),5)))"
   ]
  },
  {
   "cell_type": "markdown",
   "metadata": {},
   "source": [
    "## Linear Regression on Human Observed Dataset with Feature Subtraction \n"
   ]
  },
  {
   "cell_type": "markdown",
   "metadata": {},
   "source": [
    "### Fetch and Prepare Dataset\n"
   ]
  },
  {
   "cell_type": "code",
   "execution_count": 46,
   "metadata": {},
   "outputs": [
    {
     "name": "stderr",
     "output_type": "stream",
     "text": [
      "/anaconda3/lib/python3.6/site-packages/ipykernel_launcher.py:3: DeprecationWarning: 'U' mode is deprecated\n",
      "  This is separate from the ipykernel package so we can avoid doing imports until\n",
      "/anaconda3/lib/python3.6/site-packages/ipykernel_launcher.py:12: DeprecationWarning: 'U' mode is deprecated\n",
      "  if sys.path[0] == '':\n"
     ]
    }
   ],
   "source": [
    "M = 9 \n",
    "t = 9\n",
    "RawTarget = GetTargetVector('final_sub.csv',t)\n",
    "RawData   = GenerateRawData('final_sub.csv',IsSynthetic,t)"
   ]
  },
  {
   "cell_type": "markdown",
   "metadata": {},
   "source": [
    "### Prepare Training Data"
   ]
  },
  {
   "cell_type": "code",
   "execution_count": 47,
   "metadata": {},
   "outputs": [
    {
     "name": "stdout",
     "output_type": "stream",
     "text": [
      "(1265,)\n",
      "(9, 1265)\n"
     ]
    }
   ],
   "source": [
    "TrainingTarget = np.array(GenerateTrainingTarget(RawTarget,TrainingPercent))\n",
    "TrainingData   = GenerateTrainingDataMatrix(RawData,TrainingPercent)\n",
    "print(TrainingTarget.shape)\n",
    "print(TrainingData.shape)\n",
    "tr = int(TrainingTarget.shape[0])"
   ]
  },
  {
   "cell_type": "markdown",
   "metadata": {},
   "source": [
    "### Prepare Validation Data"
   ]
  },
  {
   "cell_type": "code",
   "execution_count": 48,
   "metadata": {},
   "outputs": [
    {
     "name": "stdout",
     "output_type": "stream",
     "text": [
      "(158,)\n",
      "(9, 158)\n"
     ]
    }
   ],
   "source": [
    "ValDataAct = np.array(GenerateValTargetVector(RawTarget,ValidationPercent, (len(TrainingTarget))))\n",
    "ValData    = GenerateValData(RawData,ValidationPercent, (len(TrainingTarget)))\n",
    "print(ValDataAct.shape)\n",
    "print(ValData.shape)\n",
    "v = ValDataAct.shape"
   ]
  },
  {
   "cell_type": "markdown",
   "metadata": {},
   "source": [
    "### Prepare Test Data"
   ]
  },
  {
   "cell_type": "code",
   "execution_count": 49,
   "metadata": {},
   "outputs": [
    {
     "name": "stdout",
     "output_type": "stream",
     "text": [
      "(157,)\n",
      "(9, 157)\n"
     ]
    }
   ],
   "source": [
    "TestDataAct = np.array(GenerateValTargetVector(RawTarget,TestPercent, (len(TrainingTarget)+len(ValDataAct))))\n",
    "TestData = GenerateValData(RawData,TestPercent, (len(TrainingTarget)+len(ValDataAct)))\n",
    "print(TestDataAct.shape)\n",
    "print(TestData.shape)\n",
    "te = TestDataAct.shape"
   ]
  },
  {
   "cell_type": "markdown",
   "metadata": {},
   "source": [
    "### Closed Form Solution [Finding Weights using Moore- Penrose pseudo- Inverse Matrix]\n",
    "\n"
   ]
  },
  {
   "cell_type": "code",
   "execution_count": 50,
   "metadata": {},
   "outputs": [],
   "source": [
    "ErmsArr = []\n",
    "AccuracyArr = []\n",
    "#random_state=0 is used to make randomness deterministic.\n",
    "kmeans = KMeans(n_clusters=M, random_state=0).fit(np.transpose(TrainingData))\n",
    "Mu = kmeans.cluster_centers_\n",
    "\n",
    "BigSigma     = GenerateBigSigma(RawData, Mu, TrainingPercent,IsSynthetic)\n",
    "TRAINING_PHI = GetPhiMatrix(RawData, Mu, BigSigma, TrainingPercent)\n",
    "W            = GetWeightsClosedForm(TRAINING_PHI,TrainingTarget,(C_Lambda)) \n",
    "TEST_PHI     = GetPhiMatrix(TestData, Mu, BigSigma, 100) \n",
    "VAL_PHI      = GetPhiMatrix(ValData, Mu, BigSigma, 100)"
   ]
  },
  {
   "cell_type": "code",
   "execution_count": 51,
   "metadata": {},
   "outputs": [
    {
     "name": "stdout",
     "output_type": "stream",
     "text": [
      "(10, 9)\n",
      "(9, 9)\n",
      "(1265, 10)\n",
      "(10,)\n",
      "(158, 10)\n",
      "(157, 10)\n"
     ]
    }
   ],
   "source": [
    "print(Mu.shape)\n",
    "print(BigSigma.shape)\n",
    "print(TRAINING_PHI.shape)\n",
    "print(W.shape)\n",
    "print(VAL_PHI.shape)\n",
    "print(TEST_PHI.shape)"
   ]
  },
  {
   "cell_type": "markdown",
   "metadata": {},
   "source": [
    "### Finding Erms on training, validation and test set \n",
    "\n"
   ]
  },
  {
   "cell_type": "code",
   "execution_count": 52,
   "metadata": {},
   "outputs": [],
   "source": [
    "TR_TEST_OUT  = GetValTest(TRAINING_PHI,W)\n",
    "VAL_TEST_OUT = GetValTest(VAL_PHI,W)\n",
    "TEST_OUT     = GetValTest(TEST_PHI,W)\n",
    "\n",
    "TrainingAccuracy   = str(GetErms(TR_TEST_OUT,TrainingTarget))\n",
    "ValidationAccuracy = str(GetErms(VAL_TEST_OUT,ValDataAct))\n",
    "TestAccuracy       = str(GetErms(TEST_OUT,TestDataAct))"
   ]
  },
  {
   "cell_type": "code",
   "execution_count": 53,
   "metadata": {},
   "outputs": [
    {
     "name": "stdout",
     "output_type": "stream",
     "text": [
      "UBITname      = anunayra\n",
      "Person Number = 50291493\n",
      "--------------------------------------------------------------------------\n",
      "--Linear Regression on Human Observed Dataset with Feature Subtraction--\n",
      "--------------------------------------------------------------------------\n",
      "-------------------Closed Form with Radial Basis Function-----------------\n",
      "--------------------------------------------------------------------------\n",
      "M = 10 \n",
      "Lambda = 0.03\n",
      "E_rms Training   = 0.4991599889825706\n",
      "E_rms Validation = 0.497113631312705\n",
      "E_rms Testing    = 0.4973578173205024\n"
     ]
    }
   ],
   "source": [
    "print ('UBITname      = anunayra')\n",
    "print ('Person Number = 50291493')\n",
    "print ('--------------------------------------------------------------------------')\n",
    "print (\"--Linear Regression on Human Observed Dataset with Feature Subtraction--\")\n",
    "print ('--------------------------------------------------------------------------')\n",
    "print (\"-------------------Closed Form with Radial Basis Function-----------------\")\n",
    "print ('--------------------------------------------------------------------------')\n",
    "print (\"M = 10 \\nLambda = 0.03\")\n",
    "print (\"E_rms Training   = \" + str(float(TrainingAccuracy.split(',')[1])))\n",
    "print (\"E_rms Validation = \" + str(float(ValidationAccuracy.split(',')[1])))\n",
    "print (\"E_rms Testing    = \" + str(float(TestAccuracy.split(',')[1])))\n",
    "#print (\"Training Accuracy   = \" + str(float(TrainingAccuracy.split(',')[0])))\n",
    "#print (\"Validation Accuracy = \" + str(float(ValidationAccuracy.split(',')[0])))\n",
    "#print (\"Testing Accuracy    = \" + str(float(TestAccuracy.split(',')[0])))"
   ]
  },
  {
   "cell_type": "markdown",
   "metadata": {},
   "source": [
    "### Gradient Descent solution for Linear Regression\n",
    "\n"
   ]
  },
  {
   "cell_type": "code",
   "execution_count": 54,
   "metadata": {},
   "outputs": [],
   "source": [
    "#Random initialisation of Weights   \n",
    "#W_Now        = np.dot(220, W)\n",
    "f = 10\n",
    "W_Now        = np.zeros(f)\n",
    "La           = 1.8\n",
    "learningRate = 0.01\n",
    "L_Erms_Val   = []\n",
    "L_Erms_TR    = []\n",
    "L_Erms_Test  = []\n",
    "W_Mat        = []\n",
    "\n",
    "for i in range(0,tr):\n",
    "    #Weight updation process\n",
    "\t#print ('---------Iteration: ' + str(i) + '--------------')\n",
    "\tDelta_E_D     = -np.dot((TrainingTarget[i] - np.dot(np.transpose(W_Now),TRAINING_PHI[i])),TRAINING_PHI[i])\n",
    "\tLa_Delta_E_W  = np.dot(La,W_Now)\n",
    "\tDelta_E       = np.add(Delta_E_D,La_Delta_E_W)    \n",
    "\tDelta_W       = -np.dot(learningRate,Delta_E)\n",
    "\tW_T_Next      = W_Now + Delta_W\n",
    "\tW_Now         = W_T_Next\n",
    "    \n",
    "    #-----------------TrainingData Accuracy---------------------#\n",
    "\tTR_TEST_OUT   = GetValTest(TRAINING_PHI,W_T_Next) \n",
    "\tErms_TR       = GetErms(TR_TEST_OUT,TrainingTarget)\n",
    "\tL_Erms_TR.append(float(Erms_TR.split(',')[1]))\n",
    "    \n",
    "    #-----------------ValidationData Accuracy---------------------#\n",
    "\tVAL_TEST_OUT  = GetValTest(VAL_PHI,W_T_Next) \n",
    "\tErms_Val      = GetErms(VAL_TEST_OUT,ValDataAct)\n",
    "\tL_Erms_Val.append(float(Erms_Val.split(',')[1]))\n",
    "    \n",
    "    #-----------------TestingData Accuracy---------------------#\n",
    "\tTEST_OUT      = GetValTest(TEST_PHI,W_T_Next) \n",
    "\tErms_Test = GetErms(TEST_OUT,TestDataAct)\n",
    "\tL_Erms_Test.append(float(Erms_Test.split(',')[1]))\n",
    "\n"
   ]
  },
  {
   "cell_type": "code",
   "execution_count": 55,
   "metadata": {},
   "outputs": [
    {
     "name": "stdout",
     "output_type": "stream",
     "text": [
      "--------------------------------------------------------------------------\n",
      "--Linear Regression on Human Observed Dataset with Feature Concatenation--\n",
      "--------------------------------------------------------------------------\n",
      "----------------------Gradient Descent Solution---------------------------\n",
      "M = 10 \n",
      "Lambda  = 1.8\n",
      "eta=0.01\n",
      "E_rms Training   = 0.50009\n",
      "E_rms Validation = 0.49994\n",
      "E_rms Testing    = 0.49513\n"
     ]
    }
   ],
   "source": [
    "print ('--------------------------------------------------------------------------')\n",
    "print (\"--Linear Regression on Human Observed Dataset with Feature Concatenation--\")\n",
    "print ('--------------------------------------------------------------------------')\n",
    "print ('----------------------Gradient Descent Solution---------------------------')\n",
    "print (\"M = 10 \\nLambda  = 1.8\\neta=0.01\")\n",
    "print (\"E_rms Training   = \" + str(np.around(min(L_Erms_TR),5)))\n",
    "print (\"E_rms Validation = \" + str(np.around(min(L_Erms_Val),5)))\n",
    "print (\"E_rms Testing    = \" + str(np.around(min(L_Erms_Test),5)))"
   ]
  },
  {
   "cell_type": "markdown",
   "metadata": {},
   "source": [
    "## Linear Regression on GSC Dataset with Feature Concatenation \n"
   ]
  },
  {
   "cell_type": "code",
   "execution_count": null,
   "metadata": {},
   "outputs": [],
   "source": []
  },
  {
   "cell_type": "code",
   "execution_count": null,
   "metadata": {},
   "outputs": [],
   "source": []
  },
  {
   "cell_type": "markdown",
   "metadata": {},
   "source": [
    "### Fetch and Prepare Dataset\n",
    "\n"
   ]
  },
  {
   "cell_type": "code",
   "execution_count": 452,
   "metadata": {},
   "outputs": [
    {
     "name": "stderr",
     "output_type": "stream",
     "text": [
      "/anaconda3/lib/python3.6/site-packages/ipykernel_launcher.py:3: DeprecationWarning: 'U' mode is deprecated\n",
      "  This is separate from the ipykernel package so we can avoid doing imports until\n",
      "/anaconda3/lib/python3.6/site-packages/ipykernel_launcher.py:12: DeprecationWarning: 'U' mode is deprecated\n",
      "  if sys.path[0] == '':\n"
     ]
    },
    {
     "name": "stdout",
     "output_type": "stream",
     "text": [
      "(1017, 143062)\n"
     ]
    }
   ],
   "source": [
    "IsSynthetic = True\n",
    "t = 1024\n",
    "RawTarget = GetTargetVector('final-gsc-cat.csv',t)\n",
    "RawData   = GenerateRawData('final-gsc-cat.csv',IsSynthetic,t,0)\n",
    "print(RawData.shape)"
   ]
  },
  {
   "cell_type": "markdown",
   "metadata": {},
   "source": [
    "### Prepare Training Data"
   ]
  },
  {
   "cell_type": "code",
   "execution_count": 461,
   "metadata": {},
   "outputs": [
    {
     "name": "stdout",
     "output_type": "stream",
     "text": [
      "(114450,)\n",
      "(1017, 114450)\n"
     ]
    }
   ],
   "source": [
    "TrainingTarget = np.array(GenerateTrainingTarget(RawTarget,TrainingPercent))\n",
    "TrainingData   = GenerateTrainingDataMatrix(RawData,TrainingPercent)\n",
    "print(TrainingTarget.shape)\n",
    "print(TrainingData.shape)\n",
    "tr = int(TrainingTarget.shape[0])"
   ]
  },
  {
   "cell_type": "markdown",
   "metadata": {},
   "source": [
    "### Prepare Validation Data"
   ]
  },
  {
   "cell_type": "code",
   "execution_count": 462,
   "metadata": {},
   "outputs": [
    {
     "name": "stdout",
     "output_type": "stream",
     "text": [
      "(14306,)\n",
      "(1017, 14306)\n"
     ]
    }
   ],
   "source": [
    "ValDataAct = np.array(GenerateValTargetVector(RawTarget,ValidationPercent, (len(TrainingTarget))))\n",
    "ValData    = GenerateValData(RawData,ValidationPercent, (len(TrainingTarget)))\n",
    "print(ValDataAct.shape)\n",
    "print(ValData.shape)\n",
    "v = ValDataAct.shape"
   ]
  },
  {
   "cell_type": "markdown",
   "metadata": {},
   "source": [
    "### Prepare Test Data"
   ]
  },
  {
   "cell_type": "code",
   "execution_count": 463,
   "metadata": {},
   "outputs": [
    {
     "name": "stdout",
     "output_type": "stream",
     "text": [
      "(14305,)\n",
      "(1017, 14305)\n"
     ]
    }
   ],
   "source": [
    "TestDataAct = np.array(GenerateValTargetVector(RawTarget,TestPercent, (len(TrainingTarget)+len(ValDataAct))))\n",
    "TestData = GenerateValData(RawData,TestPercent, (len(TrainingTarget)+len(ValDataAct)))\n",
    "print(TestDataAct.shape)\n",
    "print(TestData.shape)\n",
    "te = TestDataAct.shape"
   ]
  },
  {
   "cell_type": "code",
   "execution_count": 464,
   "metadata": {},
   "outputs": [],
   "source": [
    "ErmsArr = []\n",
    "AccuracyArr = []\n",
    "#random_state=0 is used to make randomness deterministic.\n",
    "kmeans = KMeans(n_clusters=M, random_state=0).fit(np.transpose(TrainingData))\n",
    "Mu = kmeans.cluster_centers_\n",
    "\n",
    "BigSigma     = GenerateBigSigma(RawData, Mu, TrainingPercent,IsSynthetic)\n",
    "TRAINING_PHI = GetPhiMatrix(RawData, Mu, BigSigma, TrainingPercent)\n",
    "W            = GetWeightsClosedForm(TRAINING_PHI,TrainingTarget,(C_Lambda)) \n",
    "TEST_PHI     = GetPhiMatrix(TestData, Mu, BigSigma, 100) \n",
    "VAL_PHI      = GetPhiMatrix(ValData, Mu, BigSigma, 100)"
   ]
  },
  {
   "cell_type": "code",
   "execution_count": 465,
   "metadata": {},
   "outputs": [
    {
     "name": "stdout",
     "output_type": "stream",
     "text": [
      "(10, 1017)\n",
      "(1017, 1017)\n",
      "(114450, 10)\n",
      "(10,)\n",
      "(14306, 10)\n",
      "(14305, 10)\n"
     ]
    }
   ],
   "source": [
    "print(Mu.shape)\n",
    "print(BigSigma.shape)\n",
    "print(TRAINING_PHI.shape)\n",
    "print(W.shape)\n",
    "print(VAL_PHI.shape)\n",
    "print(TEST_PHI.shape)"
   ]
  },
  {
   "cell_type": "code",
   "execution_count": 466,
   "metadata": {},
   "outputs": [],
   "source": [
    "TR_TEST_OUT  = GetValTest(TRAINING_PHI,W)\n",
    "VAL_TEST_OUT = GetValTest(VAL_PHI,W)\n",
    "TEST_OUT     = GetValTest(TEST_PHI,W)\n",
    "\n",
    "TrainingAccuracy   = str(GetErms(TR_TEST_OUT,TrainingTarget))\n",
    "ValidationAccuracy = str(GetErms(VAL_TEST_OUT,ValDataAct))\n",
    "TestAccuracy       = str(GetErms(TEST_OUT,TestDataAct))"
   ]
  },
  {
   "cell_type": "code",
   "execution_count": 467,
   "metadata": {},
   "outputs": [
    {
     "name": "stdout",
     "output_type": "stream",
     "text": [
      "UBITname      = anunayra\n",
      "Person Number = 50291493\n",
      "--------------------------------------------------------------------------\n",
      "------------Linear Regression on GSC with Feature Concatenation-----------\n",
      "--------------------------------------------------------------------------\n",
      "-------------------Closed Form with Radial Basis Function-----------------\n",
      "--------------------------------------------------------------------------\n",
      "M = 10 \n",
      "Lambda = 0.03\n",
      "E_rms Training   = 0.5070384151105187\n",
      "E_rms Validation = 0.5052882346175389\n",
      "E_rms Testing    = 0.506047865254507\n"
     ]
    }
   ],
   "source": [
    "print ('UBITname      = anunayra')\n",
    "print ('Person Number = 50291493')\n",
    "print ('--------------------------------------------------------------------------')\n",
    "print (\"------------Linear Regression on GSC with Feature Concatenation-----------\")\n",
    "print ('--------------------------------------------------------------------------')\n",
    "print (\"-------------------Closed Form with Radial Basis Function-----------------\")\n",
    "print ('--------------------------------------------------------------------------')\n",
    "print (\"M = 10 \\nLambda = 0.03\")\n",
    "print (\"E_rms Training   = \" + str(float(TrainingAccuracy.split(',')[1])))\n",
    "print (\"E_rms Validation = \" + str(float(ValidationAccuracy.split(',')[1])))\n",
    "print (\"E_rms Testing    = \" + str(float(TestAccuracy.split(',')[1])))\n",
    "#print (\"Training Accuracy   = \" + str(float(TrainingAccuracy.split(',')[0])))\n",
    "#print (\"Validation Accuracy = \" + str(float(ValidationAccuracy.split(',')[0])))\n",
    "#print (\"Testing Accuracy    = \" + str(float(TestAccuracy.split(',')[0])))"
   ]
  },
  {
   "cell_type": "code",
   "execution_count": 468,
   "metadata": {},
   "outputs": [],
   "source": [
    "f = 10\n",
    "W_Now        = np.zeros(f)\n",
    "La           = 1.8\n",
    "learningRate = 0.01\n",
    "L_Erms_Val   = []\n",
    "L_Erms_TR    = []\n",
    "L_Erms_Test  = []\n",
    "W_Mat        = []\n",
    "\n",
    "for i in range(0,500):\n",
    "    #Weight updation process\n",
    "\t#print ('---------Iteration: ' + str(i) + '--------------')\n",
    "\tDelta_E_D     = -np.dot((TrainingTarget[i] - np.dot(np.transpose(W_Now),TRAINING_PHI[i])),TRAINING_PHI[i])\n",
    "\tLa_Delta_E_W  = np.dot(La,W_Now)\n",
    "\tDelta_E       = np.add(Delta_E_D,La_Delta_E_W)    \n",
    "\tDelta_W       = -np.dot(learningRate,Delta_E)\n",
    "\tW_T_Next      = W_Now + Delta_W\n",
    "\tW_Now         = W_T_Next\n",
    "    \n",
    "    #-----------------TrainingData Accuracy---------------------#\n",
    "\tTR_TEST_OUT   = GetValTest(TRAINING_PHI,W_T_Next) \n",
    "\tErms_TR       = GetErms(TR_TEST_OUT,TrainingTarget)\n",
    "\tL_Erms_TR.append(float(Erms_TR.split(',')[1]))\n",
    "    \n",
    "    #-----------------ValidationData Accuracy---------------------#\n",
    "\tVAL_TEST_OUT  = GetValTest(VAL_PHI,W_T_Next) \n",
    "\tErms_Val      = GetErms(VAL_TEST_OUT,ValDataAct)\n",
    "\tL_Erms_Val.append(float(Erms_Val.split(',')[1]))\n",
    "    \n",
    "    #-----------------TestingData Accuracy---------------------#\n",
    "\tTEST_OUT      = GetValTest(TEST_PHI,W_T_Next) \n",
    "\tErms_Test = GetErms(TEST_OUT,TestDataAct)\n",
    "\tL_Erms_Test.append(float(Erms_Test.split(',')[1]))"
   ]
  },
  {
   "cell_type": "code",
   "execution_count": 469,
   "metadata": {},
   "outputs": [
    {
     "name": "stdout",
     "output_type": "stream",
     "text": [
      "--------------------------------------------------------------------------\n",
      "--Linear Regression on Human Observed Dataset with Feature Concatenation--\n",
      "--------------------------------------------------------------------------\n",
      "----------------------Gradient Descent Solution---------------------------\n",
      "M = 10 \n",
      "Lambda  = 1.8\n",
      "eta=0.01\n",
      "E_rms Training   = 0.68516\n",
      "E_rms Validation = 0.67824\n",
      "E_rms Testing    = 0.68111\n"
     ]
    }
   ],
   "source": [
    "print ('--------------------------------------------------------------------------')\n",
    "print (\"--Linear Regression on Human Observed Dataset with Feature Concatenation--\")\n",
    "print ('--------------------------------------------------------------------------')\n",
    "print ('----------------------Gradient Descent Solution---------------------------')\n",
    "print (\"M = 10 \\nLambda  = 1.8\\neta=0.01\")\n",
    "print (\"E_rms Training   = \" + str(np.around(min(L_Erms_TR),5)))\n",
    "print (\"E_rms Validation = \" + str(np.around(min(L_Erms_Val),5)))\n",
    "print (\"E_rms Testing    = \" + str(np.around(min(L_Erms_Test),5)))"
   ]
  },
  {
   "cell_type": "markdown",
   "metadata": {},
   "source": [
    "## Linear Regression on GSC Dataset with Feature Subtraction\n",
    "\n"
   ]
  },
  {
   "cell_type": "markdown",
   "metadata": {},
   "source": [
    "### Fetch and Prepare Dataset\n",
    "\n"
   ]
  },
  {
   "cell_type": "code",
   "execution_count": 470,
   "metadata": {},
   "outputs": [
    {
     "name": "stderr",
     "output_type": "stream",
     "text": [
      "/anaconda3/lib/python3.6/site-packages/ipykernel_launcher.py:3: DeprecationWarning: 'U' mode is deprecated\n",
      "  This is separate from the ipykernel package so we can avoid doing imports until\n",
      "/anaconda3/lib/python3.6/site-packages/ipykernel_launcher.py:12: DeprecationWarning: 'U' mode is deprecated\n",
      "  if sys.path[0] == '':\n"
     ]
    },
    {
     "name": "stdout",
     "output_type": "stream",
     "text": [
      "(509, 143062)\n"
     ]
    }
   ],
   "source": [
    "IsSynthetic = True\n",
    "t = 512\n",
    "RawTarget = GetTargetVector('final-gsc-sub.csv',t)\n",
    "RawData   = GenerateRawData('final-gsc-sub.csv',IsSynthetic,t,1)\n",
    "print(RawData.shape)"
   ]
  },
  {
   "cell_type": "markdown",
   "metadata": {},
   "source": [
    "### Prepare Training Data"
   ]
  },
  {
   "cell_type": "code",
   "execution_count": 471,
   "metadata": {},
   "outputs": [
    {
     "name": "stdout",
     "output_type": "stream",
     "text": [
      "(114450,)\n",
      "(509, 114450)\n"
     ]
    }
   ],
   "source": [
    "TrainingTarget = np.array(GenerateTrainingTarget(RawTarget,TrainingPercent))\n",
    "TrainingData   = GenerateTrainingDataMatrix(RawData,TrainingPercent)\n",
    "print(TrainingTarget.shape)\n",
    "print(TrainingData.shape)\n",
    "tr = int(TrainingTarget.shape[0])"
   ]
  },
  {
   "cell_type": "markdown",
   "metadata": {},
   "source": [
    "### Prepare Validation Data\n"
   ]
  },
  {
   "cell_type": "code",
   "execution_count": 472,
   "metadata": {},
   "outputs": [
    {
     "name": "stdout",
     "output_type": "stream",
     "text": [
      "(14306,)\n",
      "(509, 14306)\n"
     ]
    }
   ],
   "source": [
    "ValDataAct = np.array(GenerateValTargetVector(RawTarget,ValidationPercent, (len(TrainingTarget))))\n",
    "ValData    = GenerateValData(RawData,ValidationPercent, (len(TrainingTarget)))\n",
    "print(ValDataAct.shape)\n",
    "print(ValData.shape)\n",
    "v = ValDataAct.shape"
   ]
  },
  {
   "cell_type": "markdown",
   "metadata": {},
   "source": [
    "### Prepare Test Data\n"
   ]
  },
  {
   "cell_type": "code",
   "execution_count": 473,
   "metadata": {},
   "outputs": [
    {
     "name": "stdout",
     "output_type": "stream",
     "text": [
      "(14305,)\n",
      "(509, 14305)\n"
     ]
    }
   ],
   "source": [
    "TestDataAct = np.array(GenerateValTargetVector(RawTarget,TestPercent, (len(TrainingTarget)+len(ValDataAct))))\n",
    "TestData = GenerateValData(RawData,TestPercent, (len(TrainingTarget)+len(ValDataAct)))\n",
    "print(TestDataAct.shape)\n",
    "print(TestData.shape)\n",
    "te = TestDataAct.shape"
   ]
  },
  {
   "cell_type": "code",
   "execution_count": 474,
   "metadata": {},
   "outputs": [],
   "source": [
    "ErmsArr = []\n",
    "AccuracyArr = []\n",
    "#random_state=0 is used to make randomness deterministic.\n",
    "kmeans = KMeans(n_clusters=M, random_state=0).fit(np.transpose(TrainingData))\n",
    "Mu = kmeans.cluster_centers_\n",
    "\n",
    "BigSigma     = GenerateBigSigma(RawData, Mu, TrainingPercent,IsSynthetic)\n",
    "TRAINING_PHI = GetPhiMatrix(RawData, Mu, BigSigma, TrainingPercent)\n",
    "W            = GetWeightsClosedForm(TRAINING_PHI,TrainingTarget,(C_Lambda)) \n",
    "TEST_PHI     = GetPhiMatrix(TestData, Mu, BigSigma, 100) \n",
    "VAL_PHI      = GetPhiMatrix(ValData, Mu, BigSigma, 100)"
   ]
  },
  {
   "cell_type": "code",
   "execution_count": 475,
   "metadata": {},
   "outputs": [
    {
     "name": "stdout",
     "output_type": "stream",
     "text": [
      "(10, 509)\n",
      "(509, 509)\n",
      "(114450, 10)\n",
      "(10,)\n",
      "(14306, 10)\n",
      "(14305, 10)\n"
     ]
    }
   ],
   "source": [
    "print(Mu.shape)\n",
    "print(BigSigma.shape)\n",
    "print(TRAINING_PHI.shape)\n",
    "print(W.shape)\n",
    "print(VAL_PHI.shape)\n",
    "print(TEST_PHI.shape)"
   ]
  },
  {
   "cell_type": "code",
   "execution_count": 476,
   "metadata": {},
   "outputs": [],
   "source": [
    "TR_TEST_OUT  = GetValTest(TRAINING_PHI,W)\n",
    "VAL_TEST_OUT = GetValTest(VAL_PHI,W)\n",
    "TEST_OUT     = GetValTest(TEST_PHI,W)\n",
    "\n",
    "TrainingAccuracy   = str(GetErms(TR_TEST_OUT,TrainingTarget))\n",
    "ValidationAccuracy = str(GetErms(VAL_TEST_OUT,ValDataAct))\n",
    "TestAccuracy       = str(GetErms(TEST_OUT,TestDataAct))"
   ]
  },
  {
   "cell_type": "code",
   "execution_count": 477,
   "metadata": {},
   "outputs": [
    {
     "name": "stdout",
     "output_type": "stream",
     "text": [
      "UBITname      = anunayra\n",
      "Person Number = 50291493\n",
      "--------------------------------------------------------------------------\n",
      "------------Linear Regression on GSC with Feature Subtraction-------------\n",
      "--------------------------------------------------------------------------\n",
      "-------------------Closed Form with Radial Basis Function-----------------\n",
      "--------------------------------------------------------------------------\n",
      "M = 10 \n",
      "Lambda = 0.03\n",
      "E_rms Training   = 0.7082241711685279\n",
      "E_rms Validation = 0.7010008622415624\n",
      "E_rms Testing    = 0.704159509748694\n"
     ]
    }
   ],
   "source": [
    "print ('UBITname      = anunayra')\n",
    "print ('Person Number = 50291493')\n",
    "print ('--------------------------------------------------------------------------')\n",
    "print (\"------------Linear Regression on GSC with Feature Subtraction-------------\")\n",
    "print ('--------------------------------------------------------------------------')\n",
    "print (\"-------------------Closed Form with Radial Basis Function-----------------\")\n",
    "print ('--------------------------------------------------------------------------')\n",
    "print (\"M = 10 \\nLambda = 0.03\")\n",
    "print (\"E_rms Training   = \" + str(float(TrainingAccuracy.split(',')[1])))\n",
    "print (\"E_rms Validation = \" + str(float(ValidationAccuracy.split(',')[1])))\n",
    "print (\"E_rms Testing    = \" + str(float(TestAccuracy.split(',')[1])))\n",
    "#print (\"Training Accuracy   = \" + str(float(TrainingAccuracy.split(',')[0])))\n",
    "#print (\"Validation Accuracy = \" + str(float(ValidationAccuracy.split(',')[0])))\n",
    "#print (\"Testing Accuracy    = \" + str(float(TestAccuracy.split(',')[0])))"
   ]
  },
  {
   "cell_type": "code",
   "execution_count": 478,
   "metadata": {},
   "outputs": [],
   "source": [
    "f = 10\n",
    "W_Now        = np.zeros(f)\n",
    "La           = 1.8\n",
    "learningRate = 0.01\n",
    "L_Erms_Val   = []\n",
    "L_Erms_TR    = []\n",
    "L_Erms_Test  = []\n",
    "W_Mat        = []\n",
    "\n",
    "for i in range(0,500):\n",
    "    #Weight updation process\n",
    "\t#print ('---------Iteration: ' + str(i) + '--------------')\n",
    "\tDelta_E_D     = -np.dot((TrainingTarget[i] - np.dot(np.transpose(W_Now),TRAINING_PHI[i])),TRAINING_PHI[i])\n",
    "\tLa_Delta_E_W  = np.dot(La,W_Now)\n",
    "\tDelta_E       = np.add(Delta_E_D,La_Delta_E_W)    \n",
    "\tDelta_W       = -np.dot(learningRate,Delta_E)\n",
    "\tW_T_Next      = W_Now + Delta_W\n",
    "\tW_Now         = W_T_Next\n",
    "    \n",
    "    #-----------------TrainingData Accuracy---------------------#\n",
    "\tTR_TEST_OUT   = GetValTest(TRAINING_PHI,W_T_Next) \n",
    "\tErms_TR       = GetErms(TR_TEST_OUT,TrainingTarget)\n",
    "\tL_Erms_TR.append(float(Erms_TR.split(',')[1]))\n",
    "    \n",
    "    #-----------------ValidationData Accuracy---------------------#\n",
    "\tVAL_TEST_OUT  = GetValTest(VAL_PHI,W_T_Next) \n",
    "\tErms_Val      = GetErms(VAL_TEST_OUT,ValDataAct)\n",
    "\tL_Erms_Val.append(float(Erms_Val.split(',')[1]))\n",
    "    \n",
    "    #-----------------TestingData Accuracy---------------------#\n",
    "\tTEST_OUT      = GetValTest(TEST_PHI,W_T_Next) \n",
    "\tErms_Test = GetErms(TEST_OUT,TestDataAct)\n",
    "\tL_Erms_Test.append(float(Erms_Test.split(',')[1]))"
   ]
  },
  {
   "cell_type": "code",
   "execution_count": 479,
   "metadata": {},
   "outputs": [
    {
     "name": "stdout",
     "output_type": "stream",
     "text": [
      "--------------------------------------------------------------------------\n",
      "--------Linear Regression on GSC Dataset with Feature Subtraction---------\n",
      "--------------------------------------------------------------------------\n",
      "----------------------Gradient Descent Solution---------------------------\n",
      "M = 10 \n",
      "Lambda  = 1.8\n",
      "eta=0.01\n",
      "E_rms Training   = 0.70822\n",
      "E_rms Validation = 0.701\n",
      "E_rms Testing    = 0.70416\n"
     ]
    }
   ],
   "source": [
    "print ('--------------------------------------------------------------------------')\n",
    "print (\"--------Linear Regression on GSC Dataset with Feature Subtraction---------\")\n",
    "print ('--------------------------------------------------------------------------')\n",
    "print ('----------------------Gradient Descent Solution---------------------------')\n",
    "print (\"M = 10 \\nLambda  = 1.8\\neta=0.01\")\n",
    "print (\"E_rms Training   = \" + str(np.around(min(L_Erms_TR),5)))\n",
    "print (\"E_rms Validation = \" + str(np.around(min(L_Erms_Val),5)))\n",
    "print (\"E_rms Testing    = \" + str(np.around(min(L_Erms_Test),5)))"
   ]
  },
  {
   "cell_type": "markdown",
   "metadata": {},
   "source": [
    "## Logistic Regression on Human Observed Dataset with Feature Concatenation"
   ]
  },
  {
   "cell_type": "markdown",
   "metadata": {},
   "source": [
    "### Fetch and Prepare Dataset\n",
    "\n"
   ]
  },
  {
   "cell_type": "code",
   "execution_count": 169,
   "metadata": {},
   "outputs": [
    {
     "name": "stdout",
     "output_type": "stream",
     "text": [
      "(18, 1581)\n"
     ]
    },
    {
     "name": "stderr",
     "output_type": "stream",
     "text": [
      "/anaconda3/lib/python3.6/site-packages/ipykernel_launcher.py:3: DeprecationWarning: 'U' mode is deprecated\n",
      "  This is separate from the ipykernel package so we can avoid doing imports until\n",
      "/anaconda3/lib/python3.6/site-packages/ipykernel_launcher.py:12: DeprecationWarning: 'U' mode is deprecated\n",
      "  if sys.path[0] == '':\n"
     ]
    }
   ],
   "source": [
    "IsSynthetic = False\n",
    "t = 18\n",
    "RawTarget = GetTargetVector('final_cat.csv',t)\n",
    "RawData   = GenerateRawData('final_cat.csv',IsSynthetic,t)\n",
    "print(RawData.shape)"
   ]
  },
  {
   "cell_type": "markdown",
   "metadata": {},
   "source": [
    "### Prepare Training Data\n"
   ]
  },
  {
   "cell_type": "code",
   "execution_count": 170,
   "metadata": {},
   "outputs": [
    {
     "name": "stdout",
     "output_type": "stream",
     "text": [
      "(1265,)\n",
      "(18, 1265)\n"
     ]
    }
   ],
   "source": [
    "TrainingTarget = np.array(GenerateTrainingTarget(RawTarget,TrainingPercent))\n",
    "TrainingData   = GenerateTrainingDataMatrix(RawData,TrainingPercent)\n",
    "print(TrainingTarget.shape)\n",
    "print(TrainingData.shape)\n",
    "tr = int(TrainingTarget.shape[0])"
   ]
  },
  {
   "cell_type": "markdown",
   "metadata": {},
   "source": [
    "### Prepare Validation Data\n",
    "\n"
   ]
  },
  {
   "cell_type": "code",
   "execution_count": 171,
   "metadata": {},
   "outputs": [
    {
     "name": "stdout",
     "output_type": "stream",
     "text": [
      "(158,)\n",
      "(18, 158)\n"
     ]
    }
   ],
   "source": [
    "ValDataAct = np.array(GenerateValTargetVector(RawTarget,ValidationPercent, (len(TrainingTarget))))\n",
    "ValData    = GenerateValData(RawData,ValidationPercent, (len(TrainingTarget)))\n",
    "print(ValDataAct.shape)\n",
    "print(ValData.shape)\n",
    "v = int(ValDataAct.shape[0])"
   ]
  },
  {
   "cell_type": "markdown",
   "metadata": {},
   "source": [
    "### Prepare Test Data"
   ]
  },
  {
   "cell_type": "code",
   "execution_count": 172,
   "metadata": {},
   "outputs": [
    {
     "name": "stdout",
     "output_type": "stream",
     "text": [
      "(157,)\n",
      "(18, 157)\n"
     ]
    }
   ],
   "source": [
    "TestDataAct = np.array(GenerateValTargetVector(RawTarget,TestPercent, (len(TrainingTarget)+len(ValDataAct))))\n",
    "TestData = GenerateValData(RawData,TestPercent, (len(TrainingTarget)+len(ValDataAct)))\n",
    "print(TestDataAct.shape)\n",
    "print(TestData.shape)\n",
    "te = int(TestDataAct.shape[0])"
   ]
  },
  {
   "cell_type": "code",
   "execution_count": 173,
   "metadata": {},
   "outputs": [],
   "source": [
    "# Initialize weights and bias as zero.\n",
    "W_now        = np.zeros(t)\n",
    "b = 0 \n",
    "TrainingData = np.transpose(TrainingData)\n",
    "ValData = np.transpose(ValData)\n",
    "TestData = np.transpose(TestData)"
   ]
  },
  {
   "cell_type": "code",
   "execution_count": 174,
   "metadata": {},
   "outputs": [],
   "source": [
    "for j in range(0,tr):\n",
    "\tz = (np.dot(W_now,TrainingData[j]) + b )\n",
    "\ta = 1.0 / (1.0 + math.exp(-z))\n",
    "\tW_next = W_now - learningRate*np.dot((a - TrainingTarget[j]), TrainingData[j])\n",
    "\tW_now = W_next\n",
    "\tb = b - learningRate*(a - TrainingTarget[j])"
   ]
  },
  {
   "cell_type": "code",
   "execution_count": 175,
   "metadata": {},
   "outputs": [],
   "source": [
    "#Training Accuracy\n",
    "predict = []\n",
    "for i in range(0,v):\n",
    "\tz = (np.dot((W_now),(TrainingData[i])) + b )\n",
    "\ta = 1.0 / (1.0 + math.exp(-z))\n",
    "\tpredict.append(a)\n",
    "TrainingAccuracy   = str(GetErms(predict,TrainingTarget))\n"
   ]
  },
  {
   "cell_type": "code",
   "execution_count": 178,
   "metadata": {},
   "outputs": [],
   "source": [
    "\n",
    "predict = []\n",
    "for i in range(0,v):\n",
    "\tz = (np.dot((W_now),(ValData[i])) + b )\n",
    "\ta = 1.0 / (1.0 + math.exp(-z))\n",
    "\tpredict.append(a)\n",
    "ValidationAccuracy = str(GetErms(predict,ValDataAct))\n"
   ]
  },
  {
   "cell_type": "code",
   "execution_count": 179,
   "metadata": {},
   "outputs": [],
   "source": [
    "\n",
    "predict = []\n",
    "for i in range(0,te):\n",
    "\tz = (np.dot((W_now),(ValData[i])) + b )\n",
    "\ta = 1.0 / (1.0 + math.exp(-z))\n",
    "\tpredict.append(a)\n",
    "TestAccuracy       = str(GetErms(predict,TestDataAct))"
   ]
  },
  {
   "cell_type": "code",
   "execution_count": 180,
   "metadata": {},
   "outputs": [
    {
     "name": "stdout",
     "output_type": "stream",
     "text": [
      "Training Accuracy   = 56.962025316455694\n",
      "Validation Accuracy = 55.69620253164557\n",
      "Testing Accuracy    = 45.859872611464965\n"
     ]
    }
   ],
   "source": [
    "print (\"Training Accuracy   = \" + str(float(TrainingAccuracy.split(',')[0])))\n",
    "print (\"Validation Accuracy = \" + str(float(ValidationAccuracy.split(',')[0])))\n",
    "print (\"Testing Accuracy    = \" + str(float(TestAccuracy.split(',')[0])))"
   ]
  },
  {
   "cell_type": "markdown",
   "metadata": {},
   "source": [
    "## Logistic Regression on Human Observed Dataset with Feature Subtraction\n"
   ]
  },
  {
   "cell_type": "markdown",
   "metadata": {},
   "source": [
    "### Fetch and Prepare Dataset\n",
    "\n"
   ]
  },
  {
   "cell_type": "code",
   "execution_count": 507,
   "metadata": {},
   "outputs": [
    {
     "name": "stdout",
     "output_type": "stream",
     "text": [
      "(9, 1581)\n"
     ]
    },
    {
     "name": "stderr",
     "output_type": "stream",
     "text": [
      "/anaconda3/lib/python3.6/site-packages/ipykernel_launcher.py:3: DeprecationWarning: 'U' mode is deprecated\n",
      "  This is separate from the ipykernel package so we can avoid doing imports until\n",
      "/anaconda3/lib/python3.6/site-packages/ipykernel_launcher.py:12: DeprecationWarning: 'U' mode is deprecated\n",
      "  if sys.path[0] == '':\n"
     ]
    }
   ],
   "source": [
    "IsSynthetic = False\n",
    "t = 9\n",
    "RawTarget = GetTargetVector('final_sub.csv',t)\n",
    "RawData   = GenerateRawData('final_sub.csv',IsSynthetic,t)\n",
    "print(RawData.shape)"
   ]
  },
  {
   "cell_type": "markdown",
   "metadata": {},
   "source": [
    "### Prepare Training Data\n",
    "\n"
   ]
  },
  {
   "cell_type": "code",
   "execution_count": 508,
   "metadata": {},
   "outputs": [
    {
     "name": "stdout",
     "output_type": "stream",
     "text": [
      "(1265,)\n",
      "(9, 1265)\n"
     ]
    }
   ],
   "source": [
    "TrainingTarget = np.array(GenerateTrainingTarget(RawTarget,TrainingPercent))\n",
    "TrainingData   = GenerateTrainingDataMatrix(RawData,TrainingPercent)\n",
    "print(TrainingTarget.shape)\n",
    "print(TrainingData.shape)\n",
    "tr = int(TrainingTarget.shape[0])"
   ]
  },
  {
   "cell_type": "markdown",
   "metadata": {},
   "source": [
    "### Prepare Validation Data"
   ]
  },
  {
   "cell_type": "code",
   "execution_count": 509,
   "metadata": {},
   "outputs": [
    {
     "name": "stdout",
     "output_type": "stream",
     "text": [
      "(158,)\n",
      "(9, 158)\n"
     ]
    }
   ],
   "source": [
    "ValDataAct = np.array(GenerateValTargetVector(RawTarget,ValidationPercent, (len(TrainingTarget))))\n",
    "ValData    = GenerateValData(RawData,ValidationPercent, (len(TrainingTarget)))\n",
    "print(ValDataAct.shape)\n",
    "print(ValData.shape)\n",
    "v = int(ValDataAct.shape[0])"
   ]
  },
  {
   "cell_type": "markdown",
   "metadata": {},
   "source": [
    "### Prepare Test Data"
   ]
  },
  {
   "cell_type": "code",
   "execution_count": 510,
   "metadata": {},
   "outputs": [
    {
     "name": "stdout",
     "output_type": "stream",
     "text": [
      "(157,)\n",
      "(9, 157)\n"
     ]
    }
   ],
   "source": [
    "TestDataAct = np.array(GenerateValTargetVector(RawTarget,TestPercent, (len(TrainingTarget)+len(ValDataAct))))\n",
    "TestData = GenerateValData(RawData,TestPercent, (len(TrainingTarget)+len(ValDataAct)))\n",
    "print(TestDataAct.shape)\n",
    "print(TestData.shape)\n",
    "te = int(TestDataAct.shape[0])"
   ]
  },
  {
   "cell_type": "code",
   "execution_count": 511,
   "metadata": {},
   "outputs": [],
   "source": [
    "# Initialize weights and bias as zero.\n",
    "W_now        = np.zeros(t)\n",
    "b = 0 \n",
    "TrainingData = np.transpose(TrainingData)\n",
    "ValData = np.transpose(ValData)\n",
    "TestData = np.transpose(TestData)"
   ]
  },
  {
   "cell_type": "code",
   "execution_count": 512,
   "metadata": {},
   "outputs": [],
   "source": [
    "for j in range(0,tr):\n",
    "\tz = (np.dot((W_now),(TrainingData[j])) + b )\n",
    "\ta = 1.0 / (1.0 + math.exp(-z))\n",
    "\tW_next = W_now - learningRate*np.dot((a - TrainingTarget[j]), TrainingData[j])\n",
    "\tW_now = W_next\n",
    "\tb = b - learningRate*(a - TrainingTarget[j])"
   ]
  },
  {
   "cell_type": "code",
   "execution_count": 513,
   "metadata": {},
   "outputs": [],
   "source": [
    "#Training Accuracy\n",
    "predict = []\n",
    "for i in range(0,tr):\n",
    "\tz = (np.dot((W_now),(TrainingData[i])) + b )\n",
    "\ta = 1.0 / (1.0 + math.exp(-z))\n",
    "\tpredict.append(a)\n",
    "TrainingAccuracy   = str(GetErms(predict,TrainingTarget))"
   ]
  },
  {
   "cell_type": "code",
   "execution_count": 514,
   "metadata": {},
   "outputs": [],
   "source": [
    "predict = []\n",
    "for i in range(0,v):\n",
    "\tz = (np.dot((W_now),(ValData[i])) + b )\n",
    "\ta = 1.0 / (1.0 + math.exp(-z))\n",
    "\tpredict.append(a)\n",
    "ValidationAccuracy = str(GetErms(predict,ValDataAct))"
   ]
  },
  {
   "cell_type": "code",
   "execution_count": 515,
   "metadata": {},
   "outputs": [],
   "source": [
    "predict = []\n",
    "for i in range(0,te):\n",
    "\tz = (np.dot((W_now),(TestData[i])) + b )\n",
    "\ta = 1.0 / (1.0 + math.exp(-z))\n",
    "\tpredict.append(a)\n",
    "TestAccuracy       = str(GetErms(predict,TestDataAct))"
   ]
  },
  {
   "cell_type": "code",
   "execution_count": 516,
   "metadata": {},
   "outputs": [
    {
     "name": "stdout",
     "output_type": "stream",
     "text": [
      "Training Accuracy   = 49.32806324110672\n",
      "Validation Accuracy = 51.265822784810126\n",
      "Testing Accuracy    = 54.140127388535035\n"
     ]
    }
   ],
   "source": [
    "print (\"Training Accuracy   = \" + str(float(TrainingAccuracy.split(',')[0])))\n",
    "print (\"Validation Accuracy = \" + str(float(ValidationAccuracy.split(',')[0])))\n",
    "print (\"Testing Accuracy    = \" + str(float(TestAccuracy.split(',')[0])))"
   ]
  },
  {
   "cell_type": "markdown",
   "metadata": {},
   "source": [
    "## Logistic Regression on GSC Dataset with Feature Concatenation\n",
    "\n"
   ]
  },
  {
   "cell_type": "markdown",
   "metadata": {},
   "source": [
    "### Fetch and Prepare Dataset\n",
    "\n",
    "\n"
   ]
  },
  {
   "cell_type": "code",
   "execution_count": 313,
   "metadata": {},
   "outputs": [
    {
     "name": "stderr",
     "output_type": "stream",
     "text": [
      "/anaconda3/lib/python3.6/site-packages/ipykernel_launcher.py:3: DeprecationWarning: 'U' mode is deprecated\n",
      "  This is separate from the ipykernel package so we can avoid doing imports until\n",
      "/anaconda3/lib/python3.6/site-packages/ipykernel_launcher.py:12: DeprecationWarning: 'U' mode is deprecated\n",
      "  if sys.path[0] == '':\n"
     ]
    },
    {
     "name": "stdout",
     "output_type": "stream",
     "text": [
      "(1024, 143062)\n"
     ]
    }
   ],
   "source": [
    "IsSynthetic = False\n",
    "t = 1024\n",
    "RawTarget = GetTargetVector('final-gsc-cat.csv',t)\n",
    "RawData   = GenerateRawData('final-gsc-cat.csv',IsSynthetic,t)\n",
    "print(RawData.shape)"
   ]
  },
  {
   "cell_type": "markdown",
   "metadata": {},
   "source": [
    "### Prepare Training Data\n",
    "\n"
   ]
  },
  {
   "cell_type": "code",
   "execution_count": 314,
   "metadata": {},
   "outputs": [
    {
     "name": "stdout",
     "output_type": "stream",
     "text": [
      "(114450,)\n",
      "(1024, 114450)\n"
     ]
    }
   ],
   "source": [
    "TrainingTarget = np.array(GenerateTrainingTarget(RawTarget,TrainingPercent))\n",
    "TrainingData   = GenerateTrainingDataMatrix(RawData,TrainingPercent)\n",
    "print(TrainingTarget.shape)\n",
    "print(TrainingData.shape)\n",
    "tr = int(TrainingTarget.shape[0])"
   ]
  },
  {
   "cell_type": "markdown",
   "metadata": {},
   "source": [
    "### Prepare Validation Data\n"
   ]
  },
  {
   "cell_type": "code",
   "execution_count": 315,
   "metadata": {},
   "outputs": [
    {
     "name": "stdout",
     "output_type": "stream",
     "text": [
      "(14306,)\n",
      "(1024, 14306)\n"
     ]
    }
   ],
   "source": [
    "ValDataAct = np.array(GenerateValTargetVector(RawTarget,ValidationPercent, (len(TrainingTarget))))\n",
    "ValData    = GenerateValData(RawData,ValidationPercent, (len(TrainingTarget)))\n",
    "print(ValDataAct.shape)\n",
    "print(ValData.shape)\n",
    "v = int(ValDataAct.shape[0])"
   ]
  },
  {
   "cell_type": "markdown",
   "metadata": {},
   "source": [
    "### Prepare Test Data\n"
   ]
  },
  {
   "cell_type": "code",
   "execution_count": 316,
   "metadata": {},
   "outputs": [
    {
     "name": "stdout",
     "output_type": "stream",
     "text": [
      "(14305,)\n",
      "(1024, 14305)\n"
     ]
    }
   ],
   "source": [
    "TestDataAct = np.array(GenerateValTargetVector(RawTarget,TestPercent, (len(TrainingTarget)+len(ValDataAct))))\n",
    "TestData = GenerateValData(RawData,TestPercent, (len(TrainingTarget)+len(ValDataAct)))\n",
    "print(TestDataAct.shape)\n",
    "print(TestData.shape)\n",
    "te = int(TestDataAct.shape[0])"
   ]
  },
  {
   "cell_type": "code",
   "execution_count": 317,
   "metadata": {},
   "outputs": [],
   "source": [
    "# Initialize weights and bias as zero.\n",
    "W_now        = np.zeros(t)\n",
    "b = 0 \n",
    "TrainingData = np.transpose(TrainingData)\n",
    "ValData = np.transpose(ValData)\n",
    "TestData = np.transpose(TestData)"
   ]
  },
  {
   "cell_type": "code",
   "execution_count": 318,
   "metadata": {},
   "outputs": [],
   "source": [
    "for j in range(0,tr):\n",
    "\tz = (np.dot((W_now),(TrainingData[j])) + b )\n",
    "\ta = 1.0 / (1.0 + math.exp(-z))\n",
    "\tW_next = W_now - learningRate*np.dot((a - TrainingTarget[j]), TrainingData[j])\n",
    "\tW_now = W_next\n",
    "\tb = b - learningRate*(a - TrainingTarget[j])"
   ]
  },
  {
   "cell_type": "code",
   "execution_count": 319,
   "metadata": {},
   "outputs": [],
   "source": [
    "#Training Accuracy\n",
    "predict = []\n",
    "for i in range(0,tr):\n",
    "\tz = (np.dot((W_now),(TrainingData[i])) + b )\n",
    "\ta = 1.0 / (1.0 + math.exp(-z))\n",
    "\tpredict.append(a)\n",
    "\n",
    "TrainingAccuracy   = str(GetErms(predict,TrainingTarget))"
   ]
  },
  {
   "cell_type": "code",
   "execution_count": 320,
   "metadata": {},
   "outputs": [],
   "source": [
    "predict = []\n",
    "\n",
    "for i in range(0,v):\n",
    "\tz = (np.dot((W_now),(ValData[i])) + b )\n",
    "\ta = 1.0 / (1.0 + math.exp(-z))\n",
    "\tpredict.append(a)\n",
    "ValidationAccuracy = str(GetErms(predict,ValDataAct))"
   ]
  },
  {
   "cell_type": "code",
   "execution_count": 321,
   "metadata": {},
   "outputs": [],
   "source": [
    "predict = []\n",
    "for i in range(0,te):\n",
    "\tz = (np.dot((W_now),(TestData[i])) + b )\n",
    "\ta = 1.0 / (1.0 + math.exp(-z))\n",
    "\tpredict.append(a)\n",
    "TestAccuracy       = str(GetErms(predict,TestDataAct))"
   ]
  },
  {
   "cell_type": "code",
   "execution_count": 327,
   "metadata": {},
   "outputs": [
    {
     "name": "stdout",
     "output_type": "stream",
     "text": [
      "Training Accuracy   = 55.83049366535605\n",
      "Validation Accuracy = 54.65538934712708\n",
      "Testing Accuracy    = 54.771059070255156\n"
     ]
    }
   ],
   "source": [
    "print (\"Training Accuracy   = \" + str(float(TrainingAccuracy.split(',')[0])))\n",
    "print (\"Validation Accuracy = \" + str(float(ValidationAccuracy.split(',')[0])))\n",
    "print (\"Testing Accuracy    = \" + str(float(TestAccuracy.split(',')[0])))"
   ]
  },
  {
   "cell_type": "markdown",
   "metadata": {},
   "source": [
    "## Logistic Regression on GSC Dataset with Feature Subtraction\n",
    "\n"
   ]
  },
  {
   "cell_type": "markdown",
   "metadata": {},
   "source": [
    "### Fetch and Prepare Dataset\n",
    "\n"
   ]
  },
  {
   "cell_type": "code",
   "execution_count": 328,
   "metadata": {},
   "outputs": [
    {
     "name": "stderr",
     "output_type": "stream",
     "text": [
      "/anaconda3/lib/python3.6/site-packages/ipykernel_launcher.py:3: DeprecationWarning: 'U' mode is deprecated\n",
      "  This is separate from the ipykernel package so we can avoid doing imports until\n",
      "/anaconda3/lib/python3.6/site-packages/ipykernel_launcher.py:12: DeprecationWarning: 'U' mode is deprecated\n",
      "  if sys.path[0] == '':\n"
     ]
    },
    {
     "name": "stdout",
     "output_type": "stream",
     "text": [
      "(512, 143062)\n"
     ]
    }
   ],
   "source": [
    "\n",
    "IsSynthetic = False\n",
    "t = 512\n",
    "RawTarget = GetTargetVector('final-gsc-sub.csv',t)\n",
    "RawData   = GenerateRawData('final-gsc-sub.csv',IsSynthetic,t)\n",
    "print(RawData.shape)"
   ]
  },
  {
   "cell_type": "markdown",
   "metadata": {},
   "source": [
    "### Prepare Training Data\n",
    "\n"
   ]
  },
  {
   "cell_type": "code",
   "execution_count": 329,
   "metadata": {},
   "outputs": [
    {
     "name": "stdout",
     "output_type": "stream",
     "text": [
      "(114450,)\n",
      "(512, 114450)\n"
     ]
    }
   ],
   "source": [
    "\n",
    "TrainingTarget = np.array(GenerateTrainingTarget(RawTarget,TrainingPercent))\n",
    "TrainingData   = GenerateTrainingDataMatrix(RawData,TrainingPercent)\n",
    "print(TrainingTarget.shape)\n",
    "print(TrainingData.shape)\n",
    "tr = int(TrainingTarget.shape[0])"
   ]
  },
  {
   "cell_type": "markdown",
   "metadata": {},
   "source": [
    "### Prepare Validation Data\n",
    "\n"
   ]
  },
  {
   "cell_type": "code",
   "execution_count": 330,
   "metadata": {},
   "outputs": [
    {
     "name": "stdout",
     "output_type": "stream",
     "text": [
      "(14306,)\n",
      "(512, 14306)\n"
     ]
    }
   ],
   "source": [
    "ValDataAct = np.array(GenerateValTargetVector(RawTarget,ValidationPercent, (len(TrainingTarget))))\n",
    "ValData    = GenerateValData(RawData,ValidationPercent, (len(TrainingTarget)))\n",
    "print(ValDataAct.shape)\n",
    "print(ValData.shape)\n",
    "v = int(ValDataAct.shape[0])"
   ]
  },
  {
   "cell_type": "markdown",
   "metadata": {},
   "source": [
    "### Prepare Test Data\n",
    "\n"
   ]
  },
  {
   "cell_type": "code",
   "execution_count": 331,
   "metadata": {},
   "outputs": [
    {
     "name": "stdout",
     "output_type": "stream",
     "text": [
      "(14305,)\n",
      "(512, 14305)\n"
     ]
    }
   ],
   "source": [
    "TestDataAct = np.array(GenerateValTargetVector(RawTarget,TestPercent, (len(TrainingTarget)+len(ValDataAct))))\n",
    "TestData = GenerateValData(RawData,TestPercent, (len(TrainingTarget)+len(ValDataAct)))\n",
    "print(TestDataAct.shape)\n",
    "print(TestData.shape)\n",
    "te = int(TestDataAct.shape[0])"
   ]
  },
  {
   "cell_type": "code",
   "execution_count": 332,
   "metadata": {},
   "outputs": [],
   "source": [
    "# Initialize weights and bias as zero.\n",
    "W_now        = np.zeros(t)\n",
    "b = 0 \n",
    "TrainingData = np.transpose(TrainingData)\n",
    "ValData = np.transpose(ValData)\n",
    "TestData = np.transpose(TestData)"
   ]
  },
  {
   "cell_type": "code",
   "execution_count": 333,
   "metadata": {},
   "outputs": [],
   "source": [
    "for j in range(0,tr):\n",
    "\tz = (np.dot((W_now),(TrainingData[j])) + b )\n",
    "\ta = 1.0 / (1.0 + math.exp(-z))\n",
    "\tW_next = W_now - learningRate*np.dot((a - TrainingTarget[j]), TrainingData[j])\n",
    "\tW_now = W_next\n",
    "\tb = b - learningRate*(a - TrainingTarget[j])"
   ]
  },
  {
   "cell_type": "code",
   "execution_count": 334,
   "metadata": {},
   "outputs": [],
   "source": [
    "#Training Accuracy\n",
    "predict = []\n",
    "for i in range(0,tr):\n",
    "\tz = (np.dot((W_now),(TrainingData[i])) + b )\n",
    "\ta = 1.0 / (1.0 + math.exp(-z))\n",
    "\tpredict.append(a)\n",
    "\n",
    "TrainingAccuracy   = str(GetErms(predict,TrainingTarget))"
   ]
  },
  {
   "cell_type": "code",
   "execution_count": 335,
   "metadata": {},
   "outputs": [],
   "source": [
    "\n",
    "predict = []\n",
    "\n",
    "for i in range(0,v):\n",
    "\tz = (np.dot((W_now),(ValData[i])) + b )\n",
    "\ta = 1.0 / (1.0 + math.exp(-z))\n",
    "\tpredict.append(a)\n",
    "ValidationAccuracy = str(GetErms(predict,ValDataAct))"
   ]
  },
  {
   "cell_type": "code",
   "execution_count": 336,
   "metadata": {},
   "outputs": [],
   "source": [
    "\n",
    "predict = []\n",
    "for i in range(0,te):\n",
    "\tz = (np.dot((W_now),(TestData[i])) + b )\n",
    "\ta = 1.0 / (1.0 + math.exp(-z))\n",
    "\tpredict.append(a)\n",
    "TestAccuracy       = str(GetErms(predict,TestDataAct))"
   ]
  },
  {
   "cell_type": "code",
   "execution_count": 337,
   "metadata": {},
   "outputs": [
    {
     "name": "stdout",
     "output_type": "stream",
     "text": [
      "Training Accuracy   = 77.25993883792049\n",
      "Validation Accuracy = 76.69509296798546\n",
      "Testing Accuracy    = 76.77735057672143\n"
     ]
    }
   ],
   "source": [
    "print (\"Training Accuracy   = \" + str(float(TrainingAccuracy.split(',')[0])))\n",
    "print (\"Validation Accuracy = \" + str(float(ValidationAccuracy.split(',')[0])))\n",
    "print (\"Testing Accuracy    = \" + str(float(TestAccuracy.split(',')[0])))"
   ]
  },
  {
   "cell_type": "markdown",
   "metadata": {},
   "source": [
    "## Neural Network on Human Observed Dataset with Feature Concatenation"
   ]
  },
  {
   "cell_type": "markdown",
   "metadata": {},
   "source": [
    "### Fetch and Prepare Dataset"
   ]
  },
  {
   "cell_type": "code",
   "execution_count": 338,
   "metadata": {},
   "outputs": [
    {
     "name": "stdout",
     "output_type": "stream",
     "text": [
      "(18, 1581)\n"
     ]
    },
    {
     "name": "stderr",
     "output_type": "stream",
     "text": [
      "/anaconda3/lib/python3.6/site-packages/ipykernel_launcher.py:3: DeprecationWarning: 'U' mode is deprecated\n",
      "  This is separate from the ipykernel package so we can avoid doing imports until\n",
      "/anaconda3/lib/python3.6/site-packages/ipykernel_launcher.py:12: DeprecationWarning: 'U' mode is deprecated\n",
      "  if sys.path[0] == '':\n"
     ]
    }
   ],
   "source": [
    "\n",
    "IsSynthetic = False\n",
    "t = 18\n",
    "RawTarget = GetTargetVector('final_cat.csv',t)\n",
    "RawData   = GenerateRawData('final_cat.csv',IsSynthetic,t)\n",
    "print(RawData.shape)"
   ]
  },
  {
   "cell_type": "markdown",
   "metadata": {},
   "source": [
    "### Prepare Training and Validation Data\n",
    "\n"
   ]
  },
  {
   "cell_type": "code",
   "execution_count": 339,
   "metadata": {},
   "outputs": [
    {
     "name": "stdout",
     "output_type": "stream",
     "text": [
      "(1423,)\n",
      "(18, 1423)\n"
     ]
    }
   ],
   "source": [
    "TrainingPercent = 90\n",
    "# Validation Percent will be 10% of the TrainingPercent\n",
    "TrainingTarget = np.array(GenerateTrainingTarget(RawTarget,TrainingPercent))\n",
    "TrainingData   = GenerateTrainingDataMatrix(RawData,TrainingPercent)\n",
    "print(TrainingTarget.shape)\n",
    "print(TrainingData.shape)\n",
    "tr = int(TrainingTarget.shape[0])"
   ]
  },
  {
   "cell_type": "markdown",
   "metadata": {},
   "source": [
    "### Prepare Test Data"
   ]
  },
  {
   "cell_type": "code",
   "execution_count": 340,
   "metadata": {},
   "outputs": [
    {
     "name": "stdout",
     "output_type": "stream",
     "text": [
      "(157,)\n",
      "(18, 157)\n"
     ]
    }
   ],
   "source": [
    "TestDataAct = np.array(GenerateValTargetVector(RawTarget,TestPercent, (len(TrainingTarget))))\n",
    "TestData = GenerateValData(RawData,TestPercent, (len(TrainingTarget)))\n",
    "print(TestDataAct.shape)\n",
    "print(TestData.shape)\n",
    "te = int(TestDataAct.shape[0])"
   ]
  },
  {
   "cell_type": "markdown",
   "metadata": {},
   "source": [
    "### Model Defination"
   ]
  },
  {
   "cell_type": "code",
   "execution_count": 341,
   "metadata": {},
   "outputs": [
    {
     "name": "stderr",
     "output_type": "stream",
     "text": [
      "/anaconda3/lib/python3.6/site-packages/h5py/__init__.py:36: FutureWarning: Conversion of the second argument of issubdtype from `float` to `np.floating` is deprecated. In future, it will be treated as `np.float64 == np.dtype(float).type`.\n",
      "  from ._conv import register_converters as _register_converters\n",
      "Using TensorFlow backend.\n"
     ]
    }
   ],
   "source": [
    "from keras.models import Sequential\n",
    "from keras.layers import Dense, Activation, Dropout\n",
    "from keras.callbacks import EarlyStopping, TensorBoard\n",
    "import pandas as pd\n",
    "import numpy as np\n",
    "\n",
    "input_size = 18\n",
    "drop_out = 0.2\n",
    "first_dense_layer_nodes  = 256\n",
    "second_dense_layer_nodes = 1\n",
    "\n",
    "def get_model():\n",
    "    \n",
    "   \n",
    "    model = Sequential()\n",
    "    \n",
    "    model.add(Dense(first_dense_layer_nodes, input_dim=input_size))\n",
    "    model.add(Activation('relu'))\n",
    "    \n",
    "  \n",
    "    model.add(Dropout(drop_out))\n",
    "    \n",
    "    model.add(Dense(second_dense_layer_nodes))\n",
    "    model.add(Activation('sigmoid'))\n",
    "    \n",
    "    #model.add(Dense(1))\n",
    "    #model.add(Activation('sigmoid'))\n",
    "    model.summary()\n",
    "    \n",
    "\n",
    "    model.compile(optimizer='rmsprop',\n",
    "                  loss='binary_crossentropy',\n",
    "                  metrics=['accuracy'])\n",
    "    \n",
    "    return model"
   ]
  },
  {
   "cell_type": "markdown",
   "metadata": {},
   "source": [
    "### Creating Model"
   ]
  },
  {
   "cell_type": "code",
   "execution_count": 342,
   "metadata": {},
   "outputs": [
    {
     "name": "stdout",
     "output_type": "stream",
     "text": [
      "_________________________________________________________________\n",
      "Layer (type)                 Output Shape              Param #   \n",
      "=================================================================\n",
      "dense_1 (Dense)              (None, 256)               4864      \n",
      "_________________________________________________________________\n",
      "activation_1 (Activation)    (None, 256)               0         \n",
      "_________________________________________________________________\n",
      "dropout_1 (Dropout)          (None, 256)               0         \n",
      "_________________________________________________________________\n",
      "dense_2 (Dense)              (None, 1)                 257       \n",
      "_________________________________________________________________\n",
      "activation_2 (Activation)    (None, 1)                 0         \n",
      "=================================================================\n",
      "Total params: 5,121\n",
      "Trainable params: 5,121\n",
      "Non-trainable params: 0\n",
      "_________________________________________________________________\n"
     ]
    }
   ],
   "source": [
    "model = get_model()"
   ]
  },
  {
   "cell_type": "code",
   "execution_count": 344,
   "metadata": {},
   "outputs": [
    {
     "name": "stdout",
     "output_type": "stream",
     "text": [
      "Train on 1280 samples, validate on 143 samples\n",
      "Epoch 1/10000\n",
      "1280/1280 [==============================] - 0s 363us/step - loss: 0.7143 - acc: 0.5227 - val_loss: 0.6921 - val_acc: 0.5105\n",
      "Epoch 2/10000\n",
      "1280/1280 [==============================] - 0s 38us/step - loss: 0.7105 - acc: 0.5234 - val_loss: 0.6831 - val_acc: 0.5455\n",
      "Epoch 3/10000\n",
      "1280/1280 [==============================] - 0s 50us/step - loss: 0.6902 - acc: 0.5445 - val_loss: 0.6816 - val_acc: 0.5524\n",
      "Epoch 4/10000\n",
      "1280/1280 [==============================] - 0s 39us/step - loss: 0.6896 - acc: 0.5430 - val_loss: 0.6830 - val_acc: 0.5734\n",
      "Epoch 5/10000\n",
      "1280/1280 [==============================] - 0s 25us/step - loss: 0.6903 - acc: 0.5438 - val_loss: 0.6822 - val_acc: 0.5664\n",
      "Epoch 6/10000\n",
      "1280/1280 [==============================] - 0s 53us/step - loss: 0.6952 - acc: 0.5391 - val_loss: 0.6845 - val_acc: 0.5524\n",
      "Epoch 7/10000\n",
      "1280/1280 [==============================] - 0s 28us/step - loss: 0.6891 - acc: 0.5461 - val_loss: 0.6853 - val_acc: 0.5524\n",
      "Epoch 8/10000\n",
      "1280/1280 [==============================] - 0s 33us/step - loss: 0.6877 - acc: 0.5492 - val_loss: 0.6845 - val_acc: 0.5524\n",
      "Epoch 9/10000\n",
      "1280/1280 [==============================] - 0s 29us/step - loss: 0.6879 - acc: 0.5531 - val_loss: 0.6814 - val_acc: 0.5524\n",
      "Epoch 10/10000\n",
      "1280/1280 [==============================] - 0s 27us/step - loss: 0.6968 - acc: 0.5445 - val_loss: 0.6820 - val_acc: 0.5664\n",
      "Epoch 11/10000\n",
      "1280/1280 [==============================] - 0s 22us/step - loss: 0.6817 - acc: 0.5578 - val_loss: 0.6833 - val_acc: 0.5594\n",
      "Epoch 12/10000\n",
      "1280/1280 [==============================] - 0s 23us/step - loss: 0.6879 - acc: 0.5516 - val_loss: 0.6818 - val_acc: 0.5664\n",
      "Epoch 13/10000\n",
      "1280/1280 [==============================] - 0s 21us/step - loss: 0.6809 - acc: 0.5625 - val_loss: 0.6936 - val_acc: 0.5315\n",
      "Epoch 14/10000\n",
      "1280/1280 [==============================] - 0s 21us/step - loss: 0.6796 - acc: 0.5664 - val_loss: 0.6922 - val_acc: 0.5385\n",
      "Epoch 15/10000\n",
      "1280/1280 [==============================] - 0s 28us/step - loss: 0.6802 - acc: 0.5578 - val_loss: 0.6829 - val_acc: 0.5664\n",
      "Epoch 16/10000\n",
      "1280/1280 [==============================] - 0s 31us/step - loss: 0.6787 - acc: 0.5852 - val_loss: 0.6835 - val_acc: 0.5664\n",
      "Epoch 17/10000\n",
      "1280/1280 [==============================] - 0s 29us/step - loss: 0.6742 - acc: 0.5672 - val_loss: 0.6843 - val_acc: 0.5664\n",
      "Epoch 18/10000\n",
      "1280/1280 [==============================] - 0s 32us/step - loss: 0.6712 - acc: 0.5812 - val_loss: 0.6840 - val_acc: 0.5734\n",
      "Epoch 19/10000\n",
      "1280/1280 [==============================] - 0s 23us/step - loss: 0.6771 - acc: 0.5656 - val_loss: 0.6838 - val_acc: 0.5594\n",
      "Epoch 20/10000\n",
      "1280/1280 [==============================] - 0s 20us/step - loss: 0.6722 - acc: 0.5812 - val_loss: 0.6815 - val_acc: 0.5734\n",
      "Epoch 21/10000\n",
      "1280/1280 [==============================] - 0s 23us/step - loss: 0.6718 - acc: 0.5750 - val_loss: 0.6841 - val_acc: 0.5245\n",
      "Epoch 22/10000\n",
      "1280/1280 [==============================] - 0s 23us/step - loss: 0.6676 - acc: 0.5992 - val_loss: 0.6855 - val_acc: 0.5385\n",
      "Epoch 23/10000\n",
      "1280/1280 [==============================] - 0s 21us/step - loss: 0.6660 - acc: 0.6031 - val_loss: 0.6799 - val_acc: 0.5664\n",
      "Epoch 24/10000\n",
      "1280/1280 [==============================] - 0s 22us/step - loss: 0.6733 - acc: 0.5867 - val_loss: 0.6795 - val_acc: 0.5455\n",
      "Epoch 25/10000\n",
      "1280/1280 [==============================] - 0s 27us/step - loss: 0.6697 - acc: 0.5984 - val_loss: 0.6808 - val_acc: 0.5455\n",
      "Epoch 26/10000\n",
      "1280/1280 [==============================] - 0s 31us/step - loss: 0.6626 - acc: 0.5992 - val_loss: 0.6814 - val_acc: 0.5524\n",
      "Epoch 27/10000\n",
      "1280/1280 [==============================] - 0s 24us/step - loss: 0.6631 - acc: 0.6133 - val_loss: 0.6860 - val_acc: 0.5385\n",
      "Epoch 28/10000\n",
      "1280/1280 [==============================] - 0s 27us/step - loss: 0.6637 - acc: 0.6180 - val_loss: 0.6814 - val_acc: 0.5524\n",
      "Epoch 29/10000\n",
      "1280/1280 [==============================] - 0s 31us/step - loss: 0.6680 - acc: 0.5883 - val_loss: 0.6887 - val_acc: 0.5385\n",
      "Epoch 30/10000\n",
      "1280/1280 [==============================] - 0s 22us/step - loss: 0.6665 - acc: 0.6008 - val_loss: 0.6906 - val_acc: 0.5874\n",
      "Epoch 31/10000\n",
      "1280/1280 [==============================] - 0s 30us/step - loss: 0.6658 - acc: 0.5961 - val_loss: 0.6814 - val_acc: 0.5524\n",
      "Epoch 32/10000\n",
      "1280/1280 [==============================] - 0s 29us/step - loss: 0.6617 - acc: 0.6211 - val_loss: 0.6865 - val_acc: 0.5315\n",
      "Epoch 33/10000\n",
      "1280/1280 [==============================] - 0s 39us/step - loss: 0.6583 - acc: 0.6133 - val_loss: 0.6945 - val_acc: 0.5804\n",
      "Epoch 34/10000\n",
      "1280/1280 [==============================] - 0s 27us/step - loss: 0.6611 - acc: 0.6063 - val_loss: 0.6843 - val_acc: 0.5594\n",
      "Epoch 35/10000\n",
      "1280/1280 [==============================] - 0s 108us/step - loss: 0.6580 - acc: 0.6125 - val_loss: 0.6817 - val_acc: 0.5524\n",
      "Epoch 36/10000\n",
      "1280/1280 [==============================] - 0s 41us/step - loss: 0.6524 - acc: 0.6172 - val_loss: 0.6815 - val_acc: 0.5455\n",
      "Epoch 37/10000\n",
      "1280/1280 [==============================] - 0s 27us/step - loss: 0.6547 - acc: 0.6102 - val_loss: 0.6876 - val_acc: 0.5664\n",
      "Epoch 38/10000\n",
      "1280/1280 [==============================] - 0s 29us/step - loss: 0.6553 - acc: 0.6242 - val_loss: 0.6920 - val_acc: 0.5664\n",
      "Epoch 39/10000\n",
      "1280/1280 [==============================] - 0s 21us/step - loss: 0.6562 - acc: 0.6242 - val_loss: 0.6831 - val_acc: 0.5315\n",
      "Epoch 40/10000\n",
      "1280/1280 [==============================] - 0s 28us/step - loss: 0.6509 - acc: 0.6148 - val_loss: 0.6814 - val_acc: 0.5664\n",
      "Epoch 41/10000\n",
      "1280/1280 [==============================] - 0s 25us/step - loss: 0.6487 - acc: 0.6227 - val_loss: 0.6823 - val_acc: 0.5524\n",
      "Epoch 42/10000\n",
      "1280/1280 [==============================] - 0s 26us/step - loss: 0.6473 - acc: 0.6172 - val_loss: 0.6820 - val_acc: 0.5385\n",
      "Epoch 43/10000\n",
      "1280/1280 [==============================] - 0s 31us/step - loss: 0.6460 - acc: 0.6164 - val_loss: 0.6859 - val_acc: 0.5455\n",
      "Epoch 44/10000\n",
      "1280/1280 [==============================] - 0s 31us/step - loss: 0.6481 - acc: 0.6281 - val_loss: 0.6817 - val_acc: 0.5524\n",
      "Epoch 45/10000\n",
      "1280/1280 [==============================] - 0s 28us/step - loss: 0.6449 - acc: 0.6383 - val_loss: 0.6816 - val_acc: 0.5035\n",
      "Epoch 46/10000\n",
      "1280/1280 [==============================] - 0s 26us/step - loss: 0.6423 - acc: 0.6289 - val_loss: 0.6854 - val_acc: 0.5245\n",
      "Epoch 47/10000\n",
      "1280/1280 [==============================] - 0s 30us/step - loss: 0.6413 - acc: 0.6352 - val_loss: 0.6839 - val_acc: 0.5175\n",
      "Epoch 48/10000\n",
      "1280/1280 [==============================] - 0s 24us/step - loss: 0.6446 - acc: 0.6391 - val_loss: 0.6860 - val_acc: 0.5734\n",
      "Epoch 49/10000\n",
      "1280/1280 [==============================] - 0s 27us/step - loss: 0.6421 - acc: 0.6445 - val_loss: 0.6825 - val_acc: 0.5594\n",
      "Epoch 50/10000\n",
      "1280/1280 [==============================] - 0s 25us/step - loss: 0.6372 - acc: 0.6680 - val_loss: 0.6830 - val_acc: 0.5245\n",
      "Epoch 51/10000\n",
      "1280/1280 [==============================] - 0s 23us/step - loss: 0.6360 - acc: 0.6461 - val_loss: 0.6847 - val_acc: 0.5734\n",
      "Epoch 52/10000\n",
      "1280/1280 [==============================] - 0s 27us/step - loss: 0.6346 - acc: 0.6602 - val_loss: 0.6829 - val_acc: 0.5594\n",
      "Epoch 53/10000\n",
      "1280/1280 [==============================] - 0s 25us/step - loss: 0.6357 - acc: 0.6594 - val_loss: 0.6982 - val_acc: 0.5944\n",
      "Epoch 54/10000\n",
      "1280/1280 [==============================] - 0s 50us/step - loss: 0.6319 - acc: 0.6555 - val_loss: 0.6878 - val_acc: 0.5315\n",
      "Epoch 55/10000\n",
      "1280/1280 [==============================] - 0s 29us/step - loss: 0.6383 - acc: 0.6500 - val_loss: 0.6875 - val_acc: 0.5594\n",
      "Epoch 56/10000\n",
      "1280/1280 [==============================] - 0s 31us/step - loss: 0.6316 - acc: 0.6516 - val_loss: 0.6818 - val_acc: 0.5455\n",
      "Epoch 57/10000\n",
      "1280/1280 [==============================] - 0s 27us/step - loss: 0.6316 - acc: 0.6523 - val_loss: 0.6851 - val_acc: 0.5385\n",
      "Epoch 58/10000\n",
      "1280/1280 [==============================] - 0s 25us/step - loss: 0.6315 - acc: 0.6523 - val_loss: 0.6828 - val_acc: 0.5385\n",
      "Epoch 59/10000\n"
     ]
    },
    {
     "name": "stdout",
     "output_type": "stream",
     "text": [
      "1280/1280 [==============================] - 0s 26us/step - loss: 0.6362 - acc: 0.6234 - val_loss: 0.6889 - val_acc: 0.5175\n",
      "Epoch 60/10000\n",
      "1280/1280 [==============================] - 0s 24us/step - loss: 0.6272 - acc: 0.6586 - val_loss: 0.6877 - val_acc: 0.5455\n",
      "Epoch 61/10000\n",
      "1280/1280 [==============================] - 0s 29us/step - loss: 0.6300 - acc: 0.6648 - val_loss: 0.6928 - val_acc: 0.5664\n",
      "Epoch 62/10000\n",
      "1280/1280 [==============================] - 0s 32us/step - loss: 0.6222 - acc: 0.6703 - val_loss: 0.6871 - val_acc: 0.5315\n",
      "Epoch 63/10000\n",
      "1280/1280 [==============================] - 0s 29us/step - loss: 0.6265 - acc: 0.6664 - val_loss: 0.6873 - val_acc: 0.5315\n",
      "Epoch 64/10000\n",
      "1280/1280 [==============================] - 0s 23us/step - loss: 0.6255 - acc: 0.6695 - val_loss: 0.6967 - val_acc: 0.5594\n",
      "Epoch 65/10000\n",
      "1280/1280 [==============================] - 0s 23us/step - loss: 0.6211 - acc: 0.6531 - val_loss: 0.6897 - val_acc: 0.5105\n",
      "Epoch 66/10000\n",
      "1280/1280 [==============================] - 0s 21us/step - loss: 0.6220 - acc: 0.6578 - val_loss: 0.6903 - val_acc: 0.5315\n",
      "Epoch 67/10000\n",
      "1280/1280 [==============================] - 0s 23us/step - loss: 0.6130 - acc: 0.6922 - val_loss: 0.6848 - val_acc: 0.5315\n",
      "Epoch 68/10000\n",
      "1280/1280 [==============================] - 0s 26us/step - loss: 0.6220 - acc: 0.6656 - val_loss: 0.6903 - val_acc: 0.5524\n",
      "Epoch 69/10000\n",
      "1280/1280 [==============================] - 0s 25us/step - loss: 0.6225 - acc: 0.6703 - val_loss: 0.6939 - val_acc: 0.5664\n",
      "Epoch 70/10000\n",
      "1280/1280 [==============================] - 0s 25us/step - loss: 0.6188 - acc: 0.6695 - val_loss: 0.6917 - val_acc: 0.5035\n",
      "Epoch 71/10000\n",
      "1280/1280 [==============================] - 0s 31us/step - loss: 0.6116 - acc: 0.6898 - val_loss: 0.6944 - val_acc: 0.5175\n",
      "Epoch 72/10000\n",
      "1280/1280 [==============================] - 0s 23us/step - loss: 0.6124 - acc: 0.6609 - val_loss: 0.6855 - val_acc: 0.5524\n",
      "Epoch 73/10000\n",
      "1280/1280 [==============================] - 0s 23us/step - loss: 0.6165 - acc: 0.6664 - val_loss: 0.6917 - val_acc: 0.5315\n",
      "Epoch 74/10000\n",
      "1280/1280 [==============================] - 0s 22us/step - loss: 0.6116 - acc: 0.6695 - val_loss: 0.6962 - val_acc: 0.5524\n",
      "Epoch 75/10000\n",
      "1280/1280 [==============================] - 0s 22us/step - loss: 0.6141 - acc: 0.6719 - val_loss: 0.6854 - val_acc: 0.5455\n",
      "Epoch 76/10000\n",
      "1280/1280 [==============================] - 0s 24us/step - loss: 0.6079 - acc: 0.6891 - val_loss: 0.6952 - val_acc: 0.5524\n",
      "Epoch 77/10000\n",
      "1280/1280 [==============================] - 0s 20us/step - loss: 0.6010 - acc: 0.6883 - val_loss: 0.6910 - val_acc: 0.5035\n",
      "Epoch 78/10000\n",
      "1280/1280 [==============================] - 0s 21us/step - loss: 0.6061 - acc: 0.6898 - val_loss: 0.6962 - val_acc: 0.5594\n",
      "Epoch 79/10000\n",
      "1280/1280 [==============================] - 0s 21us/step - loss: 0.6119 - acc: 0.6633 - val_loss: 0.7064 - val_acc: 0.5524\n",
      "Epoch 80/10000\n",
      "1280/1280 [==============================] - 0s 20us/step - loss: 0.6045 - acc: 0.6867 - val_loss: 0.6926 - val_acc: 0.5245\n",
      "Epoch 81/10000\n",
      "1280/1280 [==============================] - 0s 31us/step - loss: 0.6019 - acc: 0.6820 - val_loss: 0.6960 - val_acc: 0.5245\n",
      "Epoch 82/10000\n",
      "1280/1280 [==============================] - 0s 27us/step - loss: 0.6007 - acc: 0.7008 - val_loss: 0.6957 - val_acc: 0.5524\n",
      "Epoch 83/10000\n",
      "1280/1280 [==============================] - 0s 25us/step - loss: 0.6049 - acc: 0.6781 - val_loss: 0.6929 - val_acc: 0.5315\n",
      "Epoch 84/10000\n",
      "1280/1280 [==============================] - 0s 29us/step - loss: 0.5953 - acc: 0.6969 - val_loss: 0.6935 - val_acc: 0.5385\n",
      "Epoch 85/10000\n",
      "1280/1280 [==============================] - 0s 36us/step - loss: 0.6014 - acc: 0.6937 - val_loss: 0.6981 - val_acc: 0.5385\n",
      "Epoch 86/10000\n",
      "1280/1280 [==============================] - 0s 23us/step - loss: 0.5986 - acc: 0.6906 - val_loss: 0.6962 - val_acc: 0.5455\n",
      "Epoch 87/10000\n",
      "1280/1280 [==============================] - 0s 39us/step - loss: 0.5902 - acc: 0.6953 - val_loss: 0.6922 - val_acc: 0.5315\n",
      "Epoch 88/10000\n",
      "1280/1280 [==============================] - 0s 24us/step - loss: 0.5974 - acc: 0.6953 - val_loss: 0.6924 - val_acc: 0.5105\n",
      "Epoch 89/10000\n",
      "1280/1280 [==============================] - 0s 26us/step - loss: 0.5977 - acc: 0.7055 - val_loss: 0.6970 - val_acc: 0.5245\n",
      "Epoch 90/10000\n",
      "1280/1280 [==============================] - 0s 36us/step - loss: 0.5897 - acc: 0.7141 - val_loss: 0.6984 - val_acc: 0.5594\n",
      "Epoch 91/10000\n",
      "1280/1280 [==============================] - 0s 25us/step - loss: 0.5879 - acc: 0.7148 - val_loss: 0.7003 - val_acc: 0.5455\n",
      "Epoch 92/10000\n",
      "1280/1280 [==============================] - 0s 23us/step - loss: 0.5891 - acc: 0.6977 - val_loss: 0.6982 - val_acc: 0.5315\n",
      "Epoch 93/10000\n",
      "1280/1280 [==============================] - 0s 26us/step - loss: 0.5917 - acc: 0.6930 - val_loss: 0.6971 - val_acc: 0.5385\n",
      "Epoch 94/10000\n",
      "1280/1280 [==============================] - 0s 25us/step - loss: 0.5896 - acc: 0.7039 - val_loss: 0.7192 - val_acc: 0.5524\n",
      "Epoch 95/10000\n",
      "1280/1280 [==============================] - 0s 24us/step - loss: 0.5919 - acc: 0.7000 - val_loss: 0.7059 - val_acc: 0.5315\n",
      "Epoch 96/10000\n",
      "1280/1280 [==============================] - 0s 29us/step - loss: 0.5855 - acc: 0.7031 - val_loss: 0.6968 - val_acc: 0.5245\n",
      "Epoch 97/10000\n",
      "1280/1280 [==============================] - 0s 30us/step - loss: 0.5842 - acc: 0.7125 - val_loss: 0.7062 - val_acc: 0.5385\n",
      "Epoch 98/10000\n",
      "1280/1280 [==============================] - 0s 32us/step - loss: 0.5841 - acc: 0.7008 - val_loss: 0.7037 - val_acc: 0.5385\n",
      "Epoch 99/10000\n",
      "1280/1280 [==============================] - 0s 25us/step - loss: 0.5795 - acc: 0.7031 - val_loss: 0.6983 - val_acc: 0.5385\n",
      "Epoch 100/10000\n",
      "1280/1280 [==============================] - 0s 26us/step - loss: 0.5825 - acc: 0.7078 - val_loss: 0.7017 - val_acc: 0.5385\n",
      "Epoch 101/10000\n",
      "1280/1280 [==============================] - 0s 25us/step - loss: 0.5798 - acc: 0.7086 - val_loss: 0.7133 - val_acc: 0.5245\n",
      "Epoch 102/10000\n",
      "1280/1280 [==============================] - 0s 26us/step - loss: 0.5805 - acc: 0.7070 - val_loss: 0.7040 - val_acc: 0.5524\n",
      "Epoch 103/10000\n",
      "1280/1280 [==============================] - 0s 35us/step - loss: 0.5727 - acc: 0.7164 - val_loss: 0.7036 - val_acc: 0.5385\n",
      "Epoch 104/10000\n",
      "1280/1280 [==============================] - 0s 26us/step - loss: 0.5827 - acc: 0.7109 - val_loss: 0.6994 - val_acc: 0.5664\n",
      "Epoch 105/10000\n",
      "1280/1280 [==============================] - 0s 23us/step - loss: 0.5795 - acc: 0.7000 - val_loss: 0.7019 - val_acc: 0.5455\n",
      "Epoch 106/10000\n",
      "1280/1280 [==============================] - 0s 29us/step - loss: 0.5719 - acc: 0.7219 - val_loss: 0.6992 - val_acc: 0.5385\n",
      "Epoch 107/10000\n",
      "1280/1280 [==============================] - 0s 23us/step - loss: 0.5735 - acc: 0.7141 - val_loss: 0.7047 - val_acc: 0.5455\n",
      "Epoch 108/10000\n",
      "1280/1280 [==============================] - 0s 25us/step - loss: 0.5763 - acc: 0.6891 - val_loss: 0.7030 - val_acc: 0.5455\n",
      "Epoch 109/10000\n",
      "1280/1280 [==============================] - 0s 29us/step - loss: 0.5673 - acc: 0.7164 - val_loss: 0.7053 - val_acc: 0.5385\n",
      "Epoch 110/10000\n",
      "1280/1280 [==============================] - 0s 26us/step - loss: 0.5675 - acc: 0.7203 - val_loss: 0.7035 - val_acc: 0.5245\n",
      "Epoch 111/10000\n",
      "1280/1280 [==============================] - 0s 22us/step - loss: 0.5657 - acc: 0.7266 - val_loss: 0.7087 - val_acc: 0.5315\n",
      "Epoch 112/10000\n",
      "1280/1280 [==============================] - 0s 29us/step - loss: 0.5788 - acc: 0.7031 - val_loss: 0.7187 - val_acc: 0.5385\n",
      "Epoch 113/10000\n",
      "1280/1280 [==============================] - 0s 22us/step - loss: 0.5617 - acc: 0.7352 - val_loss: 0.7219 - val_acc: 0.5315\n",
      "Epoch 114/10000\n",
      "1280/1280 [==============================] - 0s 27us/step - loss: 0.5678 - acc: 0.7227 - val_loss: 0.7194 - val_acc: 0.5385\n",
      "Epoch 115/10000\n",
      "1280/1280 [==============================] - 0s 20us/step - loss: 0.5612 - acc: 0.7289 - val_loss: 0.7069 - val_acc: 0.5315\n",
      "Epoch 116/10000\n",
      "1280/1280 [==============================] - 0s 28us/step - loss: 0.5642 - acc: 0.7156 - val_loss: 0.7151 - val_acc: 0.5175\n",
      "Epoch 117/10000\n",
      "1280/1280 [==============================] - 0s 24us/step - loss: 0.5689 - acc: 0.7062 - val_loss: 0.7106 - val_acc: 0.5455\n"
     ]
    },
    {
     "name": "stdout",
     "output_type": "stream",
     "text": [
      "Epoch 118/10000\n",
      "1280/1280 [==============================] - 0s 24us/step - loss: 0.5639 - acc: 0.7180 - val_loss: 0.7065 - val_acc: 0.5455\n",
      "Epoch 119/10000\n",
      "1280/1280 [==============================] - 0s 22us/step - loss: 0.5540 - acc: 0.7422 - val_loss: 0.7136 - val_acc: 0.5105\n",
      "Epoch 120/10000\n",
      "1280/1280 [==============================] - 0s 20us/step - loss: 0.5582 - acc: 0.7359 - val_loss: 0.7344 - val_acc: 0.5385\n",
      "Epoch 121/10000\n",
      "1280/1280 [==============================] - 0s 21us/step - loss: 0.5552 - acc: 0.7258 - val_loss: 0.7172 - val_acc: 0.5175\n",
      "Epoch 122/10000\n",
      "1280/1280 [==============================] - 0s 23us/step - loss: 0.5594 - acc: 0.7344 - val_loss: 0.7107 - val_acc: 0.5455\n",
      "Epoch 123/10000\n",
      "1280/1280 [==============================] - 0s 19us/step - loss: 0.5615 - acc: 0.7172 - val_loss: 0.7097 - val_acc: 0.5524\n",
      "Epoch 124/10000\n",
      "1280/1280 [==============================] - 0s 23us/step - loss: 0.5621 - acc: 0.7297 - val_loss: 0.7100 - val_acc: 0.5175\n",
      "Epoch 00124: early stopping\n"
     ]
    }
   ],
   "source": [
    "validation_data_split = 0.1\n",
    "num_epochs = 10000\n",
    "model_batch_size = 128\n",
    "tb_batch_size = 32\n",
    "early_patience = 100\n",
    "\n",
    "tensorboard_cb   = TensorBoard(log_dir='logs', batch_size= tb_batch_size, write_graph= True)\n",
    "earlystopping_cb = EarlyStopping(monitor='val_loss', verbose=1, patience=early_patience, mode='min')\n",
    "TrainingData = np.transpose(TrainingData)\n",
    "TestData = np.transpose(TestData)\n",
    "# Process Dataset\n",
    "processedData, processedLabel = TrainingData, TrainingTarget\n",
    "history = model.fit(processedData\n",
    "                    , processedLabel\n",
    "                    , validation_split=validation_data_split\n",
    "                    , epochs=num_epochs\n",
    "                    , batch_size=model_batch_size\n",
    "                    , callbacks = [tensorboard_cb,earlystopping_cb]\n",
    "                   )"
   ]
  },
  {
   "cell_type": "markdown",
   "metadata": {},
   "source": [
    "### Training and Validation Graphs"
   ]
  },
  {
   "cell_type": "code",
   "execution_count": 347,
   "metadata": {},
   "outputs": [
    {
     "data": {
      "text/plain": [
       "array([<matplotlib.axes._subplots.AxesSubplot object at 0x1a3752ae80>,\n",
       "       <matplotlib.axes._subplots.AxesSubplot object at 0x1a3758b1d0>,\n",
       "       <matplotlib.axes._subplots.AxesSubplot object at 0x1a37605390>,\n",
       "       <matplotlib.axes._subplots.AxesSubplot object at 0x1a37622550>],\n",
       "      dtype=object)"
      ]
     },
     "execution_count": 347,
     "metadata": {},
     "output_type": "execute_result"
    },
    {
     "data": {
      "image/png": "[encoded data removed]",
      "text/plain": [
       "<Figure size 720x1080 with 4 Axes>"
      ]
     },
     "metadata": {},
     "output_type": "display_data"
    }
   ],
   "source": [
    "%matplotlib inline\n",
    "df = pd.DataFrame(history.history)\n",
    "df.plot(subplots=True, grid=True, figsize=(10,15))"
   ]
  },
  {
   "cell_type": "markdown",
   "metadata": {},
   "source": [
    "### Testing Accuracy"
   ]
  },
  {
   "cell_type": "code",
   "execution_count": 355,
   "metadata": {},
   "outputs": [],
   "source": [
    "y = model.predict(TestData)\n",
    "y = np.around(y)"
   ]
  },
  {
   "cell_type": "code",
   "execution_count": 360,
   "metadata": {},
   "outputs": [],
   "source": [
    "correct = 0\n",
    "wrong   = 0\n",
    "j = 0\n",
    "for i in TestDataAct:\n",
    "    if y[j]==i:\n",
    "        correct = correct + 1\n",
    "        j = j + 1\n",
    "    else:\n",
    "        wrong = wrong + 1\n",
    "        j = j + 1"
   ]
  },
  {
   "cell_type": "code",
   "execution_count": 364,
   "metadata": {},
   "outputs": [
    {
     "name": "stdout",
     "output_type": "stream",
     "text": [
      "Errors: 66  Correct :91\n",
      "Testing Accuracy: 57.961783439490446\n"
     ]
    }
   ],
   "source": [
    "print(\"Errors: \" + str(wrong), \" Correct :\" + str(correct))\n",
    "\n",
    "print(\"Testing Accuracy: \" + str(correct/(correct+wrong)*100))"
   ]
  },
  {
   "cell_type": "markdown",
   "metadata": {},
   "source": [
    "## Neural Network on Human Observed Dataset with Feature Subtraction"
   ]
  },
  {
   "cell_type": "markdown",
   "metadata": {},
   "source": [
    "### Fetch and Prepare Dataset\n"
   ]
  },
  {
   "cell_type": "code",
   "execution_count": 412,
   "metadata": {},
   "outputs": [
    {
     "name": "stderr",
     "output_type": "stream",
     "text": [
      "/anaconda3/lib/python3.6/site-packages/ipykernel_launcher.py:3: DeprecationWarning: 'U' mode is deprecated\n",
      "  This is separate from the ipykernel package so we can avoid doing imports until\n",
      "/anaconda3/lib/python3.6/site-packages/ipykernel_launcher.py:12: DeprecationWarning: 'U' mode is deprecated\n",
      "  if sys.path[0] == '':\n"
     ]
    },
    {
     "name": "stdout",
     "output_type": "stream",
     "text": [
      "(9, 1583)\n"
     ]
    }
   ],
   "source": [
    "IsSynthetic = False\n",
    "t = 9\n",
    "RawTarget = GetTargetVector('final1600sub.csv',t)\n",
    "RawData   = GenerateRawData('final1600sub.csv',IsSynthetic,t)\n",
    "print(RawData.shape)"
   ]
  },
  {
   "cell_type": "markdown",
   "metadata": {},
   "source": [
    "### Prepare Training and Validation Data\n",
    "\n"
   ]
  },
  {
   "cell_type": "code",
   "execution_count": 413,
   "metadata": {},
   "outputs": [
    {
     "name": "stdout",
     "output_type": "stream",
     "text": [
      "(1425,)\n",
      "(9, 1425)\n"
     ]
    }
   ],
   "source": [
    "TrainingPercent = 90\n",
    "# Validation Percent will be 10% of the TrainingPercent\n",
    "TrainingTarget = np.array(GenerateTrainingTarget(RawTarget,TrainingPercent))\n",
    "TrainingData   = GenerateTrainingDataMatrix(RawData,TrainingPercent)\n",
    "print(TrainingTarget.shape)\n",
    "print(TrainingData.shape)\n",
    "tr = int(TrainingTarget.shape[0])"
   ]
  },
  {
   "cell_type": "markdown",
   "metadata": {},
   "source": [
    "### Prepare Test Data"
   ]
  },
  {
   "cell_type": "code",
   "execution_count": 414,
   "metadata": {},
   "outputs": [
    {
     "name": "stdout",
     "output_type": "stream",
     "text": [
      "(157,)\n",
      "(9, 157)\n"
     ]
    }
   ],
   "source": [
    "TestDataAct = np.array(GenerateValTargetVector(RawTarget,TestPercent, (len(TrainingTarget))))\n",
    "TestData = GenerateValData(RawData,TestPercent, (len(TrainingTarget)))\n",
    "print(TestDataAct.shape)\n",
    "print(TestData.shape)\n",
    "te = int(TestDataAct.shape[0])"
   ]
  },
  {
   "cell_type": "markdown",
   "metadata": {},
   "source": [
    "### Model Definition"
   ]
  },
  {
   "cell_type": "code",
   "execution_count": 415,
   "metadata": {},
   "outputs": [],
   "source": [
    "from keras.models import Sequential\n",
    "from keras.layers import Dense, Activation, Dropout\n",
    "from keras.callbacks import EarlyStopping, TensorBoard\n",
    "import pandas as pd\n",
    "import numpy as np\n",
    "\n",
    "input_size = 9\n",
    "drop_out = 0.2\n",
    "first_dense_layer_nodes  = 256\n",
    "second_dense_layer_nodes = 1\n",
    "\n",
    "def get_model():\n",
    "    \n",
    "   \n",
    "    model = Sequential()\n",
    "    \n",
    "    model.add(Dense(first_dense_layer_nodes, input_dim=input_size))\n",
    "    model.add(Activation('relu'))\n",
    "    \n",
    "  \n",
    "    model.add(Dropout(drop_out))\n",
    "    \n",
    "    model.add(Dense(second_dense_layer_nodes))\n",
    "    model.add(Activation('sigmoid'))\n",
    "    \n",
    "    #model.add(Dense(1))\n",
    "    #model.add(Activation('sigmoid'))\n",
    "    model.summary()\n",
    "    \n",
    "\n",
    "    model.compile(optimizer='rmsprop',\n",
    "                  loss='binary_crossentropy',\n",
    "                  metrics=['accuracy'])\n",
    "    \n",
    "    return model"
   ]
  },
  {
   "cell_type": "markdown",
   "metadata": {},
   "source": [
    "### Creating Model"
   ]
  },
  {
   "cell_type": "code",
   "execution_count": 416,
   "metadata": {},
   "outputs": [
    {
     "name": "stdout",
     "output_type": "stream",
     "text": [
      "_________________________________________________________________\n",
      "Layer (type)                 Output Shape              Param #   \n",
      "=================================================================\n",
      "dense_7 (Dense)              (None, 256)               2560      \n",
      "_________________________________________________________________\n",
      "activation_7 (Activation)    (None, 256)               0         \n",
      "_________________________________________________________________\n",
      "dropout_4 (Dropout)          (None, 256)               0         \n",
      "_________________________________________________________________\n",
      "dense_8 (Dense)              (None, 1)                 257       \n",
      "_________________________________________________________________\n",
      "activation_8 (Activation)    (None, 1)                 0         \n",
      "=================================================================\n",
      "Total params: 2,817\n",
      "Trainable params: 2,817\n",
      "Non-trainable params: 0\n",
      "_________________________________________________________________\n"
     ]
    }
   ],
   "source": [
    "model = get_model()"
   ]
  },
  {
   "cell_type": "code",
   "execution_count": 417,
   "metadata": {},
   "outputs": [
    {
     "name": "stdout",
     "output_type": "stream",
     "text": [
      "Train on 1282 samples, validate on 143 samples\n",
      "Epoch 1/10000\n",
      "1282/1282 [==============================] - 0s 290us/step - loss: 0.5876 - acc: 0.7293 - val_loss: 0.5003 - val_acc: 0.8042\n",
      "Epoch 2/10000\n",
      "1282/1282 [==============================] - 0s 23us/step - loss: 0.4591 - acc: 0.8370 - val_loss: 0.4046 - val_acc: 0.8951\n",
      "Epoch 3/10000\n",
      "1282/1282 [==============================] - 0s 20us/step - loss: 0.3923 - acc: 0.8752 - val_loss: 0.3646 - val_acc: 0.8951\n",
      "Epoch 4/10000\n",
      "1282/1282 [==============================] - 0s 26us/step - loss: 0.3444 - acc: 0.8814 - val_loss: 0.3356 - val_acc: 0.8881\n",
      "Epoch 5/10000\n",
      "1282/1282 [==============================] - 0s 20us/step - loss: 0.3136 - acc: 0.8822 - val_loss: 0.3007 - val_acc: 0.9161\n",
      "Epoch 6/10000\n",
      "1282/1282 [==============================] - 0s 20us/step - loss: 0.2922 - acc: 0.8885 - val_loss: 0.3017 - val_acc: 0.9091\n",
      "Epoch 7/10000\n",
      "1282/1282 [==============================] - 0s 28us/step - loss: 0.2775 - acc: 0.8892 - val_loss: 0.2797 - val_acc: 0.9091\n",
      "Epoch 8/10000\n",
      "1282/1282 [==============================] - 0s 19us/step - loss: 0.2630 - acc: 0.8939 - val_loss: 0.2730 - val_acc: 0.9091\n",
      "Epoch 9/10000\n",
      "1282/1282 [==============================] - 0s 35us/step - loss: 0.2612 - acc: 0.8885 - val_loss: 0.2655 - val_acc: 0.9091\n",
      "Epoch 10/10000\n",
      "1282/1282 [==============================] - 0s 35us/step - loss: 0.2562 - acc: 0.9002 - val_loss: 0.2653 - val_acc: 0.9091\n",
      "Epoch 11/10000\n",
      "1282/1282 [==============================] - 0s 24us/step - loss: 0.2502 - acc: 0.8939 - val_loss: 0.2627 - val_acc: 0.9091\n",
      "Epoch 12/10000\n",
      "1282/1282 [==============================] - 0s 15us/step - loss: 0.2473 - acc: 0.8955 - val_loss: 0.2678 - val_acc: 0.9091\n",
      "Epoch 13/10000\n",
      "1282/1282 [==============================] - 0s 17us/step - loss: 0.2427 - acc: 0.8947 - val_loss: 0.2597 - val_acc: 0.9091\n",
      "Epoch 14/10000\n",
      "1282/1282 [==============================] - 0s 18us/step - loss: 0.2304 - acc: 0.9056 - val_loss: 0.2866 - val_acc: 0.9161\n",
      "Epoch 15/10000\n",
      "1282/1282 [==============================] - 0s 19us/step - loss: 0.2295 - acc: 0.9048 - val_loss: 0.2503 - val_acc: 0.9091\n",
      "Epoch 16/10000\n",
      "1282/1282 [==============================] - 0s 18us/step - loss: 0.2305 - acc: 0.9119 - val_loss: 0.2448 - val_acc: 0.9091\n",
      "Epoch 17/10000\n",
      "1282/1282 [==============================] - 0s 22us/step - loss: 0.2290 - acc: 0.9095 - val_loss: 0.2464 - val_acc: 0.9091\n",
      "Epoch 18/10000\n",
      "1282/1282 [==============================] - 0s 20us/step - loss: 0.2227 - acc: 0.9119 - val_loss: 0.2427 - val_acc: 0.9091\n",
      "Epoch 19/10000\n",
      "1282/1282 [==============================] - 0s 20us/step - loss: 0.2270 - acc: 0.9064 - val_loss: 0.2462 - val_acc: 0.9161\n",
      "Epoch 20/10000\n",
      "1282/1282 [==============================] - 0s 18us/step - loss: 0.2222 - acc: 0.9103 - val_loss: 0.2522 - val_acc: 0.9161\n",
      "Epoch 21/10000\n",
      "1282/1282 [==============================] - 0s 21us/step - loss: 0.2185 - acc: 0.9080 - val_loss: 0.2373 - val_acc: 0.9091\n",
      "Epoch 22/10000\n",
      "1282/1282 [==============================] - 0s 20us/step - loss: 0.2206 - acc: 0.9103 - val_loss: 0.2388 - val_acc: 0.9161\n",
      "Epoch 23/10000\n",
      "1282/1282 [==============================] - 0s 21us/step - loss: 0.2228 - acc: 0.9072 - val_loss: 0.2411 - val_acc: 0.9161\n",
      "Epoch 24/10000\n",
      "1282/1282 [==============================] - 0s 22us/step - loss: 0.2207 - acc: 0.9150 - val_loss: 0.2424 - val_acc: 0.9161\n",
      "Epoch 25/10000\n",
      "1282/1282 [==============================] - 0s 21us/step - loss: 0.2145 - acc: 0.9126 - val_loss: 0.2383 - val_acc: 0.9021\n",
      "Epoch 26/10000\n",
      "1282/1282 [==============================] - 0s 24us/step - loss: 0.2137 - acc: 0.9103 - val_loss: 0.2345 - val_acc: 0.9091\n",
      "Epoch 27/10000\n",
      "1282/1282 [==============================] - 0s 18us/step - loss: 0.2136 - acc: 0.9165 - val_loss: 0.2397 - val_acc: 0.9231\n",
      "Epoch 28/10000\n",
      "1282/1282 [==============================] - 0s 23us/step - loss: 0.2099 - acc: 0.9142 - val_loss: 0.2724 - val_acc: 0.9301\n",
      "Epoch 29/10000\n",
      "1282/1282 [==============================] - 0s 18us/step - loss: 0.2121 - acc: 0.9150 - val_loss: 0.2327 - val_acc: 0.9091\n",
      "Epoch 30/10000\n",
      "1282/1282 [==============================] - 0s 22us/step - loss: 0.2131 - acc: 0.9126 - val_loss: 0.2320 - val_acc: 0.9091\n",
      "Epoch 31/10000\n",
      "1282/1282 [==============================] - 0s 20us/step - loss: 0.2048 - acc: 0.9189 - val_loss: 0.2325 - val_acc: 0.9091\n",
      "Epoch 32/10000\n",
      "1282/1282 [==============================] - 0s 21us/step - loss: 0.2034 - acc: 0.9173 - val_loss: 0.2467 - val_acc: 0.9161\n",
      "Epoch 33/10000\n",
      "1282/1282 [==============================] - 0s 18us/step - loss: 0.2004 - acc: 0.9228 - val_loss: 0.2397 - val_acc: 0.9161\n",
      "Epoch 34/10000\n",
      "1282/1282 [==============================] - 0s 21us/step - loss: 0.2040 - acc: 0.9126 - val_loss: 0.2491 - val_acc: 0.9161\n",
      "Epoch 35/10000\n",
      "1282/1282 [==============================] - 0s 19us/step - loss: 0.1978 - acc: 0.9228 - val_loss: 0.2620 - val_acc: 0.9161\n",
      "Epoch 36/10000\n",
      "1282/1282 [==============================] - 0s 19us/step - loss: 0.2042 - acc: 0.9181 - val_loss: 0.2520 - val_acc: 0.9161\n",
      "Epoch 37/10000\n",
      "1282/1282 [==============================] - 0s 18us/step - loss: 0.1998 - acc: 0.9181 - val_loss: 0.2370 - val_acc: 0.9021\n",
      "Epoch 38/10000\n",
      "1282/1282 [==============================] - 0s 25us/step - loss: 0.1992 - acc: 0.9228 - val_loss: 0.2355 - val_acc: 0.9091\n",
      "Epoch 39/10000\n",
      "1282/1282 [==============================] - 0s 17us/step - loss: 0.1991 - acc: 0.9181 - val_loss: 0.2485 - val_acc: 0.9091\n",
      "Epoch 40/10000\n",
      "1282/1282 [==============================] - 0s 16us/step - loss: 0.2015 - acc: 0.9212 - val_loss: 0.2327 - val_acc: 0.9091\n",
      "Epoch 41/10000\n",
      "1282/1282 [==============================] - 0s 17us/step - loss: 0.1926 - acc: 0.9267 - val_loss: 0.2473 - val_acc: 0.9091\n",
      "Epoch 42/10000\n",
      "1282/1282 [==============================] - 0s 21us/step - loss: 0.1999 - acc: 0.9267 - val_loss: 0.2375 - val_acc: 0.9161\n",
      "Epoch 43/10000\n",
      "1282/1282 [==============================] - 0s 15us/step - loss: 0.1957 - acc: 0.9243 - val_loss: 0.2366 - val_acc: 0.9161\n",
      "Epoch 44/10000\n",
      "1282/1282 [==============================] - 0s 18us/step - loss: 0.1939 - acc: 0.9259 - val_loss: 0.2343 - val_acc: 0.9161\n",
      "Epoch 45/10000\n",
      "1282/1282 [==============================] - 0s 18us/step - loss: 0.1953 - acc: 0.9259 - val_loss: 0.2484 - val_acc: 0.9091\n",
      "Epoch 46/10000\n",
      "1282/1282 [==============================] - 0s 18us/step - loss: 0.1959 - acc: 0.9275 - val_loss: 0.2431 - val_acc: 0.9161\n",
      "Epoch 47/10000\n",
      "1282/1282 [==============================] - 0s 20us/step - loss: 0.1905 - acc: 0.9212 - val_loss: 0.2304 - val_acc: 0.9091\n",
      "Epoch 48/10000\n",
      "1282/1282 [==============================] - 0s 20us/step - loss: 0.1861 - acc: 0.9282 - val_loss: 0.2287 - val_acc: 0.9091\n",
      "Epoch 49/10000\n",
      "1282/1282 [==============================] - 0s 24us/step - loss: 0.1908 - acc: 0.9267 - val_loss: 0.2315 - val_acc: 0.9161\n",
      "Epoch 50/10000\n",
      "1282/1282 [==============================] - 0s 21us/step - loss: 0.1868 - acc: 0.9251 - val_loss: 0.2266 - val_acc: 0.9091\n",
      "Epoch 51/10000\n",
      "1282/1282 [==============================] - 0s 29us/step - loss: 0.1864 - acc: 0.9290 - val_loss: 0.2348 - val_acc: 0.9231\n",
      "Epoch 52/10000\n",
      "1282/1282 [==============================] - 0s 27us/step - loss: 0.1871 - acc: 0.9259 - val_loss: 0.2487 - val_acc: 0.9161\n",
      "Epoch 53/10000\n",
      "1282/1282 [==============================] - 0s 28us/step - loss: 0.1899 - acc: 0.9314 - val_loss: 0.2307 - val_acc: 0.9161\n",
      "Epoch 54/10000\n",
      "1282/1282 [==============================] - 0s 28us/step - loss: 0.1825 - acc: 0.9282 - val_loss: 0.2251 - val_acc: 0.9091\n",
      "Epoch 55/10000\n",
      "1282/1282 [==============================] - 0s 25us/step - loss: 0.1891 - acc: 0.9298 - val_loss: 0.2286 - val_acc: 0.9161\n",
      "Epoch 56/10000\n",
      "1282/1282 [==============================] - 0s 27us/step - loss: 0.1807 - acc: 0.9243 - val_loss: 0.2255 - val_acc: 0.9161\n",
      "Epoch 57/10000\n",
      "1282/1282 [==============================] - 0s 21us/step - loss: 0.1823 - acc: 0.9282 - val_loss: 0.2170 - val_acc: 0.9161\n",
      "Epoch 58/10000\n",
      "1282/1282 [==============================] - 0s 16us/step - loss: 0.1819 - acc: 0.9267 - val_loss: 0.2173 - val_acc: 0.9161\n",
      "Epoch 59/10000\n"
     ]
    },
    {
     "name": "stdout",
     "output_type": "stream",
     "text": [
      "1282/1282 [==============================] - 0s 18us/step - loss: 0.1787 - acc: 0.9282 - val_loss: 0.2278 - val_acc: 0.9161\n",
      "Epoch 60/10000\n",
      "1282/1282 [==============================] - 0s 15us/step - loss: 0.1807 - acc: 0.9321 - val_loss: 0.2259 - val_acc: 0.9161\n",
      "Epoch 61/10000\n",
      "1282/1282 [==============================] - 0s 15us/step - loss: 0.1800 - acc: 0.9345 - val_loss: 0.2243 - val_acc: 0.9161\n",
      "Epoch 62/10000\n",
      "1282/1282 [==============================] - 0s 17us/step - loss: 0.1805 - acc: 0.9306 - val_loss: 0.2187 - val_acc: 0.9091\n",
      "Epoch 63/10000\n",
      "1282/1282 [==============================] - 0s 18us/step - loss: 0.1811 - acc: 0.9306 - val_loss: 0.2438 - val_acc: 0.9231\n",
      "Epoch 64/10000\n",
      "1282/1282 [==============================] - 0s 15us/step - loss: 0.1815 - acc: 0.9306 - val_loss: 0.2353 - val_acc: 0.9231\n",
      "Epoch 65/10000\n",
      "1282/1282 [==============================] - 0s 16us/step - loss: 0.1800 - acc: 0.9314 - val_loss: 0.2252 - val_acc: 0.9161\n",
      "Epoch 66/10000\n",
      "1282/1282 [==============================] - 0s 14us/step - loss: 0.1766 - acc: 0.9306 - val_loss: 0.2327 - val_acc: 0.9231\n",
      "Epoch 67/10000\n",
      "1282/1282 [==============================] - 0s 15us/step - loss: 0.1774 - acc: 0.9282 - val_loss: 0.2281 - val_acc: 0.9231\n",
      "Epoch 68/10000\n",
      "1282/1282 [==============================] - 0s 18us/step - loss: 0.1703 - acc: 0.9345 - val_loss: 0.2128 - val_acc: 0.9161\n",
      "Epoch 69/10000\n",
      "1282/1282 [==============================] - 0s 18us/step - loss: 0.1748 - acc: 0.9353 - val_loss: 0.2128 - val_acc: 0.9161\n",
      "Epoch 70/10000\n",
      "1282/1282 [==============================] - 0s 16us/step - loss: 0.1740 - acc: 0.9298 - val_loss: 0.2121 - val_acc: 0.9161\n",
      "Epoch 71/10000\n",
      "1282/1282 [==============================] - 0s 20us/step - loss: 0.1780 - acc: 0.9314 - val_loss: 0.2116 - val_acc: 0.9161\n",
      "Epoch 72/10000\n",
      "1282/1282 [==============================] - 0s 24us/step - loss: 0.1744 - acc: 0.9282 - val_loss: 0.2099 - val_acc: 0.9161\n",
      "Epoch 73/10000\n",
      "1282/1282 [==============================] - 0s 25us/step - loss: 0.1706 - acc: 0.9298 - val_loss: 0.2185 - val_acc: 0.9231\n",
      "Epoch 74/10000\n",
      "1282/1282 [==============================] - 0s 27us/step - loss: 0.1740 - acc: 0.9345 - val_loss: 0.2034 - val_acc: 0.9161\n",
      "Epoch 75/10000\n",
      "1282/1282 [==============================] - 0s 17us/step - loss: 0.1716 - acc: 0.9329 - val_loss: 0.2101 - val_acc: 0.9231\n",
      "Epoch 76/10000\n",
      "1282/1282 [==============================] - 0s 18us/step - loss: 0.1708 - acc: 0.9337 - val_loss: 0.2098 - val_acc: 0.9161\n",
      "Epoch 77/10000\n",
      "1282/1282 [==============================] - 0s 21us/step - loss: 0.1736 - acc: 0.9298 - val_loss: 0.2200 - val_acc: 0.9231\n",
      "Epoch 78/10000\n",
      "1282/1282 [==============================] - 0s 39us/step - loss: 0.1661 - acc: 0.9368 - val_loss: 0.2095 - val_acc: 0.9161\n",
      "Epoch 79/10000\n",
      "1282/1282 [==============================] - 0s 33us/step - loss: 0.1633 - acc: 0.9353 - val_loss: 0.2121 - val_acc: 0.9161\n",
      "Epoch 80/10000\n",
      "1282/1282 [==============================] - 0s 33us/step - loss: 0.1696 - acc: 0.9360 - val_loss: 0.2114 - val_acc: 0.9161\n",
      "Epoch 81/10000\n",
      "1282/1282 [==============================] - 0s 27us/step - loss: 0.1653 - acc: 0.9384 - val_loss: 0.2065 - val_acc: 0.9161\n",
      "Epoch 82/10000\n",
      "1282/1282 [==============================] - 0s 26us/step - loss: 0.1677 - acc: 0.9423 - val_loss: 0.2105 - val_acc: 0.9161\n",
      "Epoch 83/10000\n",
      "1282/1282 [==============================] - 0s 29us/step - loss: 0.1683 - acc: 0.9384 - val_loss: 0.2092 - val_acc: 0.9231\n",
      "Epoch 84/10000\n",
      "1282/1282 [==============================] - 0s 32us/step - loss: 0.1631 - acc: 0.9407 - val_loss: 0.2133 - val_acc: 0.9231\n",
      "Epoch 85/10000\n",
      "1282/1282 [==============================] - 0s 19us/step - loss: 0.1588 - acc: 0.9384 - val_loss: 0.2082 - val_acc: 0.9161\n",
      "Epoch 86/10000\n",
      "1282/1282 [==============================] - 0s 19us/step - loss: 0.1614 - acc: 0.9415 - val_loss: 0.2129 - val_acc: 0.9161\n",
      "Epoch 87/10000\n",
      "1282/1282 [==============================] - 0s 20us/step - loss: 0.1595 - acc: 0.9384 - val_loss: 0.2093 - val_acc: 0.9231\n",
      "Epoch 88/10000\n",
      "1282/1282 [==============================] - 0s 19us/step - loss: 0.1574 - acc: 0.9431 - val_loss: 0.2180 - val_acc: 0.9231\n",
      "Epoch 89/10000\n",
      "1282/1282 [==============================] - 0s 24us/step - loss: 0.1630 - acc: 0.9368 - val_loss: 0.2091 - val_acc: 0.9231\n",
      "Epoch 90/10000\n",
      "1282/1282 [==============================] - 0s 21us/step - loss: 0.1636 - acc: 0.9345 - val_loss: 0.2162 - val_acc: 0.9231\n",
      "Epoch 91/10000\n",
      "1282/1282 [==============================] - 0s 20us/step - loss: 0.1542 - acc: 0.9446 - val_loss: 0.2089 - val_acc: 0.9231\n",
      "Epoch 92/10000\n",
      "1282/1282 [==============================] - ETA: 0s - loss: 0.2086 - acc: 0.914 - 0s 22us/step - loss: 0.1587 - acc: 0.9368 - val_loss: 0.2062 - val_acc: 0.9301\n",
      "Epoch 93/10000\n",
      "1282/1282 [==============================] - 0s 20us/step - loss: 0.1564 - acc: 0.9415 - val_loss: 0.2047 - val_acc: 0.9301\n",
      "Epoch 94/10000\n",
      "1282/1282 [==============================] - 0s 19us/step - loss: 0.1551 - acc: 0.9423 - val_loss: 0.2026 - val_acc: 0.9231\n",
      "Epoch 95/10000\n",
      "1282/1282 [==============================] - 0s 20us/step - loss: 0.1575 - acc: 0.9407 - val_loss: 0.2115 - val_acc: 0.9231\n",
      "Epoch 96/10000\n",
      "1282/1282 [==============================] - 0s 20us/step - loss: 0.1566 - acc: 0.9407 - val_loss: 0.2075 - val_acc: 0.9231\n",
      "Epoch 97/10000\n",
      "1282/1282 [==============================] - 0s 24us/step - loss: 0.1575 - acc: 0.9384 - val_loss: 0.2025 - val_acc: 0.9231\n",
      "Epoch 98/10000\n",
      "1282/1282 [==============================] - 0s 19us/step - loss: 0.1540 - acc: 0.9399 - val_loss: 0.2199 - val_acc: 0.9231\n",
      "Epoch 99/10000\n",
      "1282/1282 [==============================] - 0s 22us/step - loss: 0.1586 - acc: 0.9407 - val_loss: 0.2000 - val_acc: 0.9371\n",
      "Epoch 100/10000\n",
      "1282/1282 [==============================] - 0s 22us/step - loss: 0.1524 - acc: 0.9454 - val_loss: 0.2094 - val_acc: 0.9371\n",
      "Epoch 101/10000\n",
      "1282/1282 [==============================] - 0s 20us/step - loss: 0.1564 - acc: 0.9392 - val_loss: 0.2034 - val_acc: 0.9301\n",
      "Epoch 102/10000\n",
      "1282/1282 [==============================] - 0s 19us/step - loss: 0.1521 - acc: 0.9470 - val_loss: 0.2037 - val_acc: 0.9301\n",
      "Epoch 103/10000\n",
      "1282/1282 [==============================] - 0s 21us/step - loss: 0.1562 - acc: 0.9407 - val_loss: 0.2102 - val_acc: 0.9371\n",
      "Epoch 104/10000\n",
      "1282/1282 [==============================] - 0s 22us/step - loss: 0.1540 - acc: 0.9431 - val_loss: 0.2022 - val_acc: 0.9301\n",
      "Epoch 105/10000\n",
      "1282/1282 [==============================] - 0s 31us/step - loss: 0.1566 - acc: 0.9423 - val_loss: 0.2021 - val_acc: 0.9371\n",
      "Epoch 106/10000\n",
      "1282/1282 [==============================] - 0s 29us/step - loss: 0.1492 - acc: 0.9438 - val_loss: 0.1988 - val_acc: 0.9301\n",
      "Epoch 107/10000\n",
      "1282/1282 [==============================] - 0s 34us/step - loss: 0.1497 - acc: 0.9454 - val_loss: 0.2061 - val_acc: 0.9371\n",
      "Epoch 108/10000\n",
      "1282/1282 [==============================] - 0s 20us/step - loss: 0.1541 - acc: 0.9438 - val_loss: 0.1996 - val_acc: 0.9301\n",
      "Epoch 109/10000\n",
      "1282/1282 [==============================] - 0s 17us/step - loss: 0.1493 - acc: 0.9438 - val_loss: 0.2020 - val_acc: 0.9371\n",
      "Epoch 110/10000\n",
      "1282/1282 [==============================] - 0s 18us/step - loss: 0.1454 - acc: 0.9470 - val_loss: 0.1943 - val_acc: 0.9371\n",
      "Epoch 111/10000\n",
      "1282/1282 [==============================] - 0s 21us/step - loss: 0.1473 - acc: 0.9446 - val_loss: 0.1930 - val_acc: 0.9371\n",
      "Epoch 112/10000\n",
      "1282/1282 [==============================] - 0s 18us/step - loss: 0.1488 - acc: 0.9454 - val_loss: 0.1970 - val_acc: 0.9371\n",
      "Epoch 113/10000\n",
      "1282/1282 [==============================] - 0s 16us/step - loss: 0.1458 - acc: 0.9454 - val_loss: 0.1986 - val_acc: 0.9371\n",
      "Epoch 114/10000\n",
      "1282/1282 [==============================] - 0s 15us/step - loss: 0.1463 - acc: 0.9493 - val_loss: 0.2030 - val_acc: 0.9371\n",
      "Epoch 115/10000\n",
      "1282/1282 [==============================] - 0s 16us/step - loss: 0.1479 - acc: 0.9485 - val_loss: 0.2008 - val_acc: 0.9371\n",
      "Epoch 116/10000\n",
      "1282/1282 [==============================] - 0s 16us/step - loss: 0.1462 - acc: 0.9431 - val_loss: 0.1945 - val_acc: 0.9371\n",
      "Epoch 117/10000\n"
     ]
    },
    {
     "name": "stdout",
     "output_type": "stream",
     "text": [
      "1282/1282 [==============================] - 0s 18us/step - loss: 0.1454 - acc: 0.9415 - val_loss: 0.1916 - val_acc: 0.9371\n",
      "Epoch 118/10000\n",
      "1282/1282 [==============================] - 0s 15us/step - loss: 0.1452 - acc: 0.9438 - val_loss: 0.1935 - val_acc: 0.9371\n",
      "Epoch 119/10000\n",
      "1282/1282 [==============================] - 0s 19us/step - loss: 0.1473 - acc: 0.9462 - val_loss: 0.1937 - val_acc: 0.9371\n",
      "Epoch 120/10000\n",
      "1282/1282 [==============================] - 0s 20us/step - loss: 0.1458 - acc: 0.9446 - val_loss: 0.1987 - val_acc: 0.9371\n",
      "Epoch 121/10000\n",
      "1282/1282 [==============================] - 0s 18us/step - loss: 0.1443 - acc: 0.9438 - val_loss: 0.1885 - val_acc: 0.9371\n",
      "Epoch 122/10000\n",
      "1282/1282 [==============================] - 0s 20us/step - loss: 0.1456 - acc: 0.9485 - val_loss: 0.1812 - val_acc: 0.9371\n",
      "Epoch 123/10000\n",
      "1282/1282 [==============================] - 0s 20us/step - loss: 0.1408 - acc: 0.9509 - val_loss: 0.1824 - val_acc: 0.9371\n",
      "Epoch 124/10000\n",
      "1282/1282 [==============================] - 0s 19us/step - loss: 0.1449 - acc: 0.9392 - val_loss: 0.1838 - val_acc: 0.9371\n",
      "Epoch 125/10000\n",
      "1282/1282 [==============================] - 0s 19us/step - loss: 0.1391 - acc: 0.9485 - val_loss: 0.1868 - val_acc: 0.9441\n",
      "Epoch 126/10000\n",
      "1282/1282 [==============================] - 0s 20us/step - loss: 0.1411 - acc: 0.9477 - val_loss: 0.1780 - val_acc: 0.9371\n",
      "Epoch 127/10000\n",
      "1282/1282 [==============================] - 0s 19us/step - loss: 0.1413 - acc: 0.9423 - val_loss: 0.1825 - val_acc: 0.9441\n",
      "Epoch 128/10000\n",
      "1282/1282 [==============================] - 0s 20us/step - loss: 0.1382 - acc: 0.9438 - val_loss: 0.1905 - val_acc: 0.9441\n",
      "Epoch 129/10000\n",
      "1282/1282 [==============================] - 0s 20us/step - loss: 0.1423 - acc: 0.9462 - val_loss: 0.1899 - val_acc: 0.9441\n",
      "Epoch 130/10000\n",
      "1282/1282 [==============================] - 0s 19us/step - loss: 0.1417 - acc: 0.9477 - val_loss: 0.1861 - val_acc: 0.9441\n",
      "Epoch 131/10000\n",
      "1282/1282 [==============================] - 0s 19us/step - loss: 0.1410 - acc: 0.9462 - val_loss: 0.1831 - val_acc: 0.9371\n",
      "Epoch 132/10000\n",
      "1282/1282 [==============================] - 0s 19us/step - loss: 0.1367 - acc: 0.9509 - val_loss: 0.1981 - val_acc: 0.9441\n",
      "Epoch 133/10000\n",
      "1282/1282 [==============================] - 0s 19us/step - loss: 0.1401 - acc: 0.9485 - val_loss: 0.1810 - val_acc: 0.9371\n",
      "Epoch 134/10000\n",
      "1282/1282 [==============================] - 0s 20us/step - loss: 0.1375 - acc: 0.9485 - val_loss: 0.1802 - val_acc: 0.9441\n",
      "Epoch 135/10000\n",
      "1282/1282 [==============================] - 0s 22us/step - loss: 0.1367 - acc: 0.9485 - val_loss: 0.1779 - val_acc: 0.9371\n",
      "Epoch 136/10000\n",
      "1282/1282 [==============================] - 0s 21us/step - loss: 0.1393 - acc: 0.9431 - val_loss: 0.1806 - val_acc: 0.9371\n",
      "Epoch 137/10000\n",
      "1282/1282 [==============================] - 0s 21us/step - loss: 0.1363 - acc: 0.9485 - val_loss: 0.1815 - val_acc: 0.9371\n",
      "Epoch 138/10000\n",
      "1282/1282 [==============================] - 0s 20us/step - loss: 0.1332 - acc: 0.9493 - val_loss: 0.1960 - val_acc: 0.9371\n",
      "Epoch 139/10000\n",
      "1282/1282 [==============================] - 0s 20us/step - loss: 0.1343 - acc: 0.9548 - val_loss: 0.1950 - val_acc: 0.9441\n",
      "Epoch 140/10000\n",
      "1282/1282 [==============================] - 0s 20us/step - loss: 0.1343 - acc: 0.9454 - val_loss: 0.1883 - val_acc: 0.9441\n",
      "Epoch 141/10000\n",
      "1282/1282 [==============================] - 0s 30us/step - loss: 0.1403 - acc: 0.9485 - val_loss: 0.1816 - val_acc: 0.9371\n",
      "Epoch 142/10000\n",
      "1282/1282 [==============================] - 0s 21us/step - loss: 0.1386 - acc: 0.9493 - val_loss: 0.1809 - val_acc: 0.9371\n",
      "Epoch 143/10000\n",
      "1282/1282 [==============================] - 0s 25us/step - loss: 0.1349 - acc: 0.9540 - val_loss: 0.1889 - val_acc: 0.9441\n",
      "Epoch 144/10000\n",
      "1282/1282 [==============================] - 0s 83us/step - loss: 0.1308 - acc: 0.9493 - val_loss: 0.1821 - val_acc: 0.9371\n",
      "Epoch 145/10000\n",
      "1282/1282 [==============================] - 0s 79us/step - loss: 0.1355 - acc: 0.9493 - val_loss: 0.1761 - val_acc: 0.9371\n",
      "Epoch 146/10000\n",
      "1282/1282 [==============================] - 0s 44us/step - loss: 0.1372 - acc: 0.9431 - val_loss: 0.1784 - val_acc: 0.9441\n",
      "Epoch 147/10000\n",
      "1282/1282 [==============================] - 0s 23us/step - loss: 0.1319 - acc: 0.9501 - val_loss: 0.1767 - val_acc: 0.9371\n",
      "Epoch 148/10000\n",
      "1282/1282 [==============================] - 0s 25us/step - loss: 0.1376 - acc: 0.9431 - val_loss: 0.1853 - val_acc: 0.9441\n",
      "Epoch 149/10000\n",
      "1282/1282 [==============================] - 0s 24us/step - loss: 0.1315 - acc: 0.9477 - val_loss: 0.1921 - val_acc: 0.9441\n",
      "Epoch 150/10000\n",
      "1282/1282 [==============================] - 0s 28us/step - loss: 0.1342 - acc: 0.9438 - val_loss: 0.2001 - val_acc: 0.9441\n",
      "Epoch 151/10000\n",
      "1282/1282 [==============================] - 0s 32us/step - loss: 0.1389 - acc: 0.9438 - val_loss: 0.1775 - val_acc: 0.9371\n",
      "Epoch 152/10000\n",
      "1282/1282 [==============================] - 0s 29us/step - loss: 0.1337 - acc: 0.9493 - val_loss: 0.1789 - val_acc: 0.9371\n",
      "Epoch 153/10000\n",
      "1282/1282 [==============================] - 0s 25us/step - loss: 0.1302 - acc: 0.9462 - val_loss: 0.1822 - val_acc: 0.9441\n",
      "Epoch 154/10000\n",
      "1282/1282 [==============================] - 0s 31us/step - loss: 0.1253 - acc: 0.9524 - val_loss: 0.1716 - val_acc: 0.9371\n",
      "Epoch 155/10000\n",
      "1282/1282 [==============================] - 0s 27us/step - loss: 0.1323 - acc: 0.9485 - val_loss: 0.1827 - val_acc: 0.9441\n",
      "Epoch 156/10000\n",
      "1282/1282 [==============================] - 0s 23us/step - loss: 0.1283 - acc: 0.9524 - val_loss: 0.1793 - val_acc: 0.9441\n",
      "Epoch 157/10000\n",
      "1282/1282 [==============================] - 0s 22us/step - loss: 0.1324 - acc: 0.9438 - val_loss: 0.1770 - val_acc: 0.9371\n",
      "Epoch 158/10000\n",
      "1282/1282 [==============================] - 0s 22us/step - loss: 0.1337 - acc: 0.9485 - val_loss: 0.1753 - val_acc: 0.9441\n",
      "Epoch 159/10000\n",
      "1282/1282 [==============================] - 0s 19us/step - loss: 0.1265 - acc: 0.9532 - val_loss: 0.1797 - val_acc: 0.9441\n",
      "Epoch 160/10000\n",
      "1282/1282 [==============================] - 0s 20us/step - loss: 0.1239 - acc: 0.9493 - val_loss: 0.1761 - val_acc: 0.9371\n",
      "Epoch 161/10000\n",
      "1282/1282 [==============================] - 0s 20us/step - loss: 0.1316 - acc: 0.9477 - val_loss: 0.1730 - val_acc: 0.9441\n",
      "Epoch 162/10000\n",
      "1282/1282 [==============================] - 0s 20us/step - loss: 0.1279 - acc: 0.9493 - val_loss: 0.1733 - val_acc: 0.9371\n",
      "Epoch 163/10000\n",
      "1282/1282 [==============================] - 0s 20us/step - loss: 0.1311 - acc: 0.9501 - val_loss: 0.1736 - val_acc: 0.9371\n",
      "Epoch 164/10000\n",
      "1282/1282 [==============================] - 0s 21us/step - loss: 0.1285 - acc: 0.9555 - val_loss: 0.1806 - val_acc: 0.9441\n",
      "Epoch 165/10000\n",
      "1282/1282 [==============================] - 0s 31us/step - loss: 0.1261 - acc: 0.9477 - val_loss: 0.1750 - val_acc: 0.9441\n",
      "Epoch 166/10000\n",
      "1282/1282 [==============================] - 0s 20us/step - loss: 0.1304 - acc: 0.9485 - val_loss: 0.1710 - val_acc: 0.9441\n",
      "Epoch 167/10000\n",
      "1282/1282 [==============================] - 0s 19us/step - loss: 0.1346 - acc: 0.9438 - val_loss: 0.1729 - val_acc: 0.9441\n",
      "Epoch 168/10000\n",
      "1282/1282 [==============================] - 0s 20us/step - loss: 0.1267 - acc: 0.9555 - val_loss: 0.1766 - val_acc: 0.9441\n",
      "Epoch 169/10000\n",
      "1282/1282 [==============================] - 0s 22us/step - loss: 0.1268 - acc: 0.9501 - val_loss: 0.1726 - val_acc: 0.9441\n",
      "Epoch 170/10000\n",
      "1282/1282 [==============================] - 0s 20us/step - loss: 0.1267 - acc: 0.9477 - val_loss: 0.1768 - val_acc: 0.9441\n",
      "Epoch 171/10000\n",
      "1282/1282 [==============================] - 0s 21us/step - loss: 0.1272 - acc: 0.9563 - val_loss: 0.1779 - val_acc: 0.9441\n",
      "Epoch 172/10000\n",
      "1282/1282 [==============================] - 0s 19us/step - loss: 0.1294 - acc: 0.9462 - val_loss: 0.1753 - val_acc: 0.9441\n",
      "Epoch 173/10000\n",
      "1282/1282 [==============================] - 0s 23us/step - loss: 0.1216 - acc: 0.9563 - val_loss: 0.1985 - val_acc: 0.9441\n",
      "Epoch 174/10000\n",
      "1282/1282 [==============================] - 0s 19us/step - loss: 0.1290 - acc: 0.9462 - val_loss: 0.1792 - val_acc: 0.9441\n",
      "Epoch 175/10000\n"
     ]
    },
    {
     "name": "stdout",
     "output_type": "stream",
     "text": [
      "1282/1282 [==============================] - 0s 20us/step - loss: 0.1268 - acc: 0.9485 - val_loss: 0.1859 - val_acc: 0.9441\n",
      "Epoch 176/10000\n",
      "1282/1282 [==============================] - 0s 20us/step - loss: 0.1220 - acc: 0.9501 - val_loss: 0.1721 - val_acc: 0.9371\n",
      "Epoch 177/10000\n",
      "1282/1282 [==============================] - 0s 22us/step - loss: 0.1270 - acc: 0.9509 - val_loss: 0.1765 - val_acc: 0.9441\n",
      "Epoch 178/10000\n",
      "1282/1282 [==============================] - 0s 16us/step - loss: 0.1272 - acc: 0.9532 - val_loss: 0.1724 - val_acc: 0.9371\n",
      "Epoch 179/10000\n",
      "1282/1282 [==============================] - 0s 17us/step - loss: 0.1249 - acc: 0.9524 - val_loss: 0.1736 - val_acc: 0.9441\n",
      "Epoch 180/10000\n",
      "1282/1282 [==============================] - 0s 17us/step - loss: 0.1215 - acc: 0.9485 - val_loss: 0.1821 - val_acc: 0.9441\n",
      "Epoch 181/10000\n",
      "1282/1282 [==============================] - 0s 19us/step - loss: 0.1232 - acc: 0.9540 - val_loss: 0.1733 - val_acc: 0.9441\n",
      "Epoch 182/10000\n",
      "1282/1282 [==============================] - 0s 20us/step - loss: 0.1266 - acc: 0.9493 - val_loss: 0.1732 - val_acc: 0.9441\n",
      "Epoch 183/10000\n",
      "1282/1282 [==============================] - 0s 20us/step - loss: 0.1209 - acc: 0.9524 - val_loss: 0.1725 - val_acc: 0.9441\n",
      "Epoch 184/10000\n",
      "1282/1282 [==============================] - 0s 19us/step - loss: 0.1159 - acc: 0.9579 - val_loss: 0.1800 - val_acc: 0.9441\n",
      "Epoch 185/10000\n",
      "1282/1282 [==============================] - 0s 18us/step - loss: 0.1228 - acc: 0.9485 - val_loss: 0.1744 - val_acc: 0.9441\n",
      "Epoch 186/10000\n",
      "1282/1282 [==============================] - 0s 23us/step - loss: 0.1239 - acc: 0.9524 - val_loss: 0.1730 - val_acc: 0.9371\n",
      "Epoch 187/10000\n",
      "1282/1282 [==============================] - 0s 23us/step - loss: 0.1232 - acc: 0.9493 - val_loss: 0.1739 - val_acc: 0.9441\n",
      "Epoch 188/10000\n",
      "1282/1282 [==============================] - 0s 21us/step - loss: 0.1200 - acc: 0.9548 - val_loss: 0.1795 - val_acc: 0.9441\n",
      "Epoch 189/10000\n",
      "1282/1282 [==============================] - 0s 19us/step - loss: 0.1204 - acc: 0.9516 - val_loss: 0.1673 - val_acc: 0.9371\n",
      "Epoch 190/10000\n",
      "1282/1282 [==============================] - 0s 20us/step - loss: 0.1215 - acc: 0.9532 - val_loss: 0.1698 - val_acc: 0.9371\n",
      "Epoch 191/10000\n",
      "1282/1282 [==============================] - 0s 21us/step - loss: 0.1177 - acc: 0.9555 - val_loss: 0.1771 - val_acc: 0.9441\n",
      "Epoch 192/10000\n",
      "1282/1282 [==============================] - 0s 20us/step - loss: 0.1181 - acc: 0.9524 - val_loss: 0.1735 - val_acc: 0.9441\n",
      "Epoch 193/10000\n",
      "1282/1282 [==============================] - 0s 20us/step - loss: 0.1224 - acc: 0.9501 - val_loss: 0.1707 - val_acc: 0.9371\n",
      "Epoch 194/10000\n",
      "1282/1282 [==============================] - 0s 21us/step - loss: 0.1187 - acc: 0.9563 - val_loss: 0.1683 - val_acc: 0.9371\n",
      "Epoch 195/10000\n",
      "1282/1282 [==============================] - 0s 22us/step - loss: 0.1174 - acc: 0.9524 - val_loss: 0.1692 - val_acc: 0.9371\n",
      "Epoch 196/10000\n",
      "1282/1282 [==============================] - 0s 22us/step - loss: 0.1229 - acc: 0.9532 - val_loss: 0.1682 - val_acc: 0.9441\n",
      "Epoch 197/10000\n",
      "1282/1282 [==============================] - 0s 21us/step - loss: 0.1264 - acc: 0.9501 - val_loss: 0.1733 - val_acc: 0.9441\n",
      "Epoch 198/10000\n",
      "1282/1282 [==============================] - 0s 21us/step - loss: 0.1222 - acc: 0.9493 - val_loss: 0.1736 - val_acc: 0.9441\n",
      "Epoch 199/10000\n",
      "1282/1282 [==============================] - 0s 20us/step - loss: 0.1171 - acc: 0.9501 - val_loss: 0.1833 - val_acc: 0.9441\n",
      "Epoch 200/10000\n",
      "1282/1282 [==============================] - 0s 31us/step - loss: 0.1185 - acc: 0.9594 - val_loss: 0.1758 - val_acc: 0.9441\n",
      "Epoch 201/10000\n",
      "1282/1282 [==============================] - 0s 23us/step - loss: 0.1178 - acc: 0.9555 - val_loss: 0.1687 - val_acc: 0.9441\n",
      "Epoch 202/10000\n",
      "1282/1282 [==============================] - 0s 21us/step - loss: 0.1157 - acc: 0.9563 - val_loss: 0.1807 - val_acc: 0.9441\n",
      "Epoch 203/10000\n",
      "1282/1282 [==============================] - 0s 25us/step - loss: 0.1200 - acc: 0.9540 - val_loss: 0.1803 - val_acc: 0.9441\n",
      "Epoch 204/10000\n",
      "1282/1282 [==============================] - 0s 27us/step - loss: 0.1231 - acc: 0.9532 - val_loss: 0.1688 - val_acc: 0.9441\n",
      "Epoch 205/10000\n",
      "1282/1282 [==============================] - 0s 26us/step - loss: 0.1122 - acc: 0.9548 - val_loss: 0.1671 - val_acc: 0.9510\n",
      "Epoch 206/10000\n",
      "1282/1282 [==============================] - 0s 20us/step - loss: 0.1139 - acc: 0.9555 - val_loss: 0.1719 - val_acc: 0.9441\n",
      "Epoch 207/10000\n",
      "1282/1282 [==============================] - 0s 22us/step - loss: 0.1145 - acc: 0.9516 - val_loss: 0.1758 - val_acc: 0.9441\n",
      "Epoch 208/10000\n",
      "1282/1282 [==============================] - 0s 22us/step - loss: 0.1149 - acc: 0.9579 - val_loss: 0.1699 - val_acc: 0.9371\n",
      "Epoch 209/10000\n",
      "1282/1282 [==============================] - 0s 19us/step - loss: 0.1161 - acc: 0.9524 - val_loss: 0.1740 - val_acc: 0.9441\n",
      "Epoch 210/10000\n",
      "1282/1282 [==============================] - 0s 22us/step - loss: 0.1171 - acc: 0.9516 - val_loss: 0.1700 - val_acc: 0.9441\n",
      "Epoch 211/10000\n",
      "1282/1282 [==============================] - 0s 21us/step - loss: 0.1184 - acc: 0.9548 - val_loss: 0.1712 - val_acc: 0.9371\n",
      "Epoch 212/10000\n",
      "1282/1282 [==============================] - 0s 21us/step - loss: 0.1156 - acc: 0.9555 - val_loss: 0.1735 - val_acc: 0.9441\n",
      "Epoch 213/10000\n",
      "1282/1282 [==============================] - 0s 19us/step - loss: 0.1192 - acc: 0.9509 - val_loss: 0.1713 - val_acc: 0.9441\n",
      "Epoch 214/10000\n",
      "1282/1282 [==============================] - 0s 19us/step - loss: 0.1166 - acc: 0.9548 - val_loss: 0.1755 - val_acc: 0.9441\n",
      "Epoch 215/10000\n",
      "1282/1282 [==============================] - 0s 19us/step - loss: 0.1074 - acc: 0.9587 - val_loss: 0.1770 - val_acc: 0.9441\n",
      "Epoch 216/10000\n",
      "1282/1282 [==============================] - 0s 19us/step - loss: 0.1159 - acc: 0.9540 - val_loss: 0.1715 - val_acc: 0.9371\n",
      "Epoch 217/10000\n",
      "1282/1282 [==============================] - 0s 20us/step - loss: 0.1097 - acc: 0.9524 - val_loss: 0.1711 - val_acc: 0.9441\n",
      "Epoch 218/10000\n",
      "1282/1282 [==============================] - 0s 20us/step - loss: 0.1147 - acc: 0.9587 - val_loss: 0.1779 - val_acc: 0.9441\n",
      "Epoch 219/10000\n",
      "1282/1282 [==============================] - 0s 18us/step - loss: 0.1166 - acc: 0.9532 - val_loss: 0.1735 - val_acc: 0.9441\n",
      "Epoch 220/10000\n",
      "1282/1282 [==============================] - 0s 20us/step - loss: 0.1115 - acc: 0.9579 - val_loss: 0.1717 - val_acc: 0.9441\n",
      "Epoch 221/10000\n",
      "1282/1282 [==============================] - 0s 20us/step - loss: 0.1138 - acc: 0.9563 - val_loss: 0.1760 - val_acc: 0.9441\n",
      "Epoch 222/10000\n",
      "1282/1282 [==============================] - 0s 19us/step - loss: 0.1100 - acc: 0.9516 - val_loss: 0.1782 - val_acc: 0.9441\n",
      "Epoch 223/10000\n",
      "1282/1282 [==============================] - 0s 19us/step - loss: 0.1088 - acc: 0.9602 - val_loss: 0.1730 - val_acc: 0.9441\n",
      "Epoch 224/10000\n",
      "1282/1282 [==============================] - 0s 19us/step - loss: 0.1123 - acc: 0.9524 - val_loss: 0.1733 - val_acc: 0.9441\n",
      "Epoch 225/10000\n",
      "1282/1282 [==============================] - 0s 20us/step - loss: 0.1137 - acc: 0.9532 - val_loss: 0.1714 - val_acc: 0.9441\n",
      "Epoch 226/10000\n",
      "1282/1282 [==============================] - 0s 20us/step - loss: 0.1157 - acc: 0.9587 - val_loss: 0.1771 - val_acc: 0.9441\n",
      "Epoch 227/10000\n",
      "1282/1282 [==============================] - 0s 21us/step - loss: 0.1132 - acc: 0.9571 - val_loss: 0.1724 - val_acc: 0.9441\n",
      "Epoch 228/10000\n",
      "1282/1282 [==============================] - 0s 20us/step - loss: 0.1126 - acc: 0.9571 - val_loss: 0.1723 - val_acc: 0.9441\n",
      "Epoch 229/10000\n",
      "1282/1282 [==============================] - 0s 22us/step - loss: 0.1094 - acc: 0.9579 - val_loss: 0.1705 - val_acc: 0.9441\n",
      "Epoch 230/10000\n",
      "1282/1282 [==============================] - 0s 21us/step - loss: 0.1105 - acc: 0.9579 - val_loss: 0.1715 - val_acc: 0.9441\n",
      "Epoch 231/10000\n",
      "1282/1282 [==============================] - 0s 22us/step - loss: 0.1107 - acc: 0.9594 - val_loss: 0.1727 - val_acc: 0.9441\n",
      "Epoch 232/10000\n",
      "1282/1282 [==============================] - 0s 19us/step - loss: 0.1138 - acc: 0.9555 - val_loss: 0.1775 - val_acc: 0.9441\n",
      "Epoch 233/10000\n"
     ]
    },
    {
     "name": "stdout",
     "output_type": "stream",
     "text": [
      "1282/1282 [==============================] - 0s 19us/step - loss: 0.1164 - acc: 0.9563 - val_loss: 0.1736 - val_acc: 0.9441\n",
      "Epoch 234/10000\n",
      "1282/1282 [==============================] - 0s 19us/step - loss: 0.1088 - acc: 0.9618 - val_loss: 0.1681 - val_acc: 0.9441\n",
      "Epoch 235/10000\n",
      "1282/1282 [==============================] - 0s 32us/step - loss: 0.1115 - acc: 0.9618 - val_loss: 0.1864 - val_acc: 0.9441\n",
      "Epoch 236/10000\n",
      "1282/1282 [==============================] - 0s 22us/step - loss: 0.1104 - acc: 0.9571 - val_loss: 0.1751 - val_acc: 0.9441\n",
      "Epoch 237/10000\n",
      "1282/1282 [==============================] - 0s 21us/step - loss: 0.1117 - acc: 0.9563 - val_loss: 0.1851 - val_acc: 0.9441\n",
      "Epoch 238/10000\n",
      "1282/1282 [==============================] - 0s 21us/step - loss: 0.1101 - acc: 0.9579 - val_loss: 0.1754 - val_acc: 0.9441\n",
      "Epoch 239/10000\n",
      "1282/1282 [==============================] - 0s 23us/step - loss: 0.1118 - acc: 0.9524 - val_loss: 0.1822 - val_acc: 0.9441\n",
      "Epoch 240/10000\n",
      "1282/1282 [==============================] - 0s 20us/step - loss: 0.1089 - acc: 0.9548 - val_loss: 0.1749 - val_acc: 0.9441\n",
      "Epoch 241/10000\n",
      "1282/1282 [==============================] - 0s 25us/step - loss: 0.1116 - acc: 0.9540 - val_loss: 0.1747 - val_acc: 0.9441\n",
      "Epoch 242/10000\n",
      "1282/1282 [==============================] - 0s 21us/step - loss: 0.1078 - acc: 0.9555 - val_loss: 0.1737 - val_acc: 0.9441\n",
      "Epoch 243/10000\n",
      "1282/1282 [==============================] - 0s 24us/step - loss: 0.1037 - acc: 0.9594 - val_loss: 0.1804 - val_acc: 0.9441\n",
      "Epoch 244/10000\n",
      "1282/1282 [==============================] - 0s 25us/step - loss: 0.1088 - acc: 0.9618 - val_loss: 0.1854 - val_acc: 0.9441\n",
      "Epoch 245/10000\n",
      "1282/1282 [==============================] - 0s 23us/step - loss: 0.1049 - acc: 0.9594 - val_loss: 0.1761 - val_acc: 0.9441\n",
      "Epoch 246/10000\n",
      "1282/1282 [==============================] - 0s 27us/step - loss: 0.1056 - acc: 0.9587 - val_loss: 0.1772 - val_acc: 0.9441\n",
      "Epoch 247/10000\n",
      "1282/1282 [==============================] - 0s 27us/step - loss: 0.1108 - acc: 0.9587 - val_loss: 0.1742 - val_acc: 0.9441\n",
      "Epoch 248/10000\n",
      "1282/1282 [==============================] - 0s 24us/step - loss: 0.1078 - acc: 0.9587 - val_loss: 0.1843 - val_acc: 0.9441\n",
      "Epoch 249/10000\n",
      "1282/1282 [==============================] - 0s 21us/step - loss: 0.1078 - acc: 0.9571 - val_loss: 0.1719 - val_acc: 0.9371\n",
      "Epoch 250/10000\n",
      "1282/1282 [==============================] - 0s 21us/step - loss: 0.1054 - acc: 0.9602 - val_loss: 0.1834 - val_acc: 0.9441\n",
      "Epoch 251/10000\n",
      "1282/1282 [==============================] - 0s 21us/step - loss: 0.1072 - acc: 0.9563 - val_loss: 0.1755 - val_acc: 0.9441\n",
      "Epoch 252/10000\n",
      "1282/1282 [==============================] - 0s 21us/step - loss: 0.1054 - acc: 0.9633 - val_loss: 0.1713 - val_acc: 0.9441\n",
      "Epoch 253/10000\n",
      "1282/1282 [==============================] - 0s 22us/step - loss: 0.1087 - acc: 0.9602 - val_loss: 0.1736 - val_acc: 0.9441\n",
      "Epoch 254/10000\n",
      "1282/1282 [==============================] - 0s 56us/step - loss: 0.1049 - acc: 0.9555 - val_loss: 0.1761 - val_acc: 0.9441\n",
      "Epoch 255/10000\n",
      "1282/1282 [==============================] - 0s 47us/step - loss: 0.1073 - acc: 0.9594 - val_loss: 0.1841 - val_acc: 0.9441\n",
      "Epoch 256/10000\n",
      "1282/1282 [==============================] - 0s 39us/step - loss: 0.1035 - acc: 0.9626 - val_loss: 0.1827 - val_acc: 0.9371\n",
      "Epoch 257/10000\n",
      "1282/1282 [==============================] - 0s 28us/step - loss: 0.1098 - acc: 0.9540 - val_loss: 0.1742 - val_acc: 0.9441\n",
      "Epoch 258/10000\n",
      "1282/1282 [==============================] - 0s 35us/step - loss: 0.1047 - acc: 0.9571 - val_loss: 0.1775 - val_acc: 0.9441\n",
      "Epoch 259/10000\n",
      "1282/1282 [==============================] - 0s 30us/step - loss: 0.1032 - acc: 0.9610 - val_loss: 0.1748 - val_acc: 0.9441\n",
      "Epoch 260/10000\n",
      "1282/1282 [==============================] - 0s 22us/step - loss: 0.1116 - acc: 0.9571 - val_loss: 0.1766 - val_acc: 0.9441\n",
      "Epoch 261/10000\n",
      "1282/1282 [==============================] - 0s 15us/step - loss: 0.1036 - acc: 0.9626 - val_loss: 0.1734 - val_acc: 0.9441\n",
      "Epoch 262/10000\n",
      "1282/1282 [==============================] - 0s 38us/step - loss: 0.1065 - acc: 0.9626 - val_loss: 0.1761 - val_acc: 0.9441\n",
      "Epoch 263/10000\n",
      "1282/1282 [==============================] - 0s 19us/step - loss: 0.1072 - acc: 0.9555 - val_loss: 0.1744 - val_acc: 0.9371\n",
      "Epoch 264/10000\n",
      "1282/1282 [==============================] - 0s 30us/step - loss: 0.1097 - acc: 0.9548 - val_loss: 0.1779 - val_acc: 0.9441\n",
      "Epoch 265/10000\n",
      "1282/1282 [==============================] - 0s 21us/step - loss: 0.1032 - acc: 0.9610 - val_loss: 0.1769 - val_acc: 0.9371\n",
      "Epoch 266/10000\n",
      "1282/1282 [==============================] - 0s 54us/step - loss: 0.1111 - acc: 0.9555 - val_loss: 0.1771 - val_acc: 0.9441\n",
      "Epoch 267/10000\n",
      "1282/1282 [==============================] - 0s 30us/step - loss: 0.1005 - acc: 0.9602 - val_loss: 0.1839 - val_acc: 0.9441\n",
      "Epoch 268/10000\n",
      "1282/1282 [==============================] - 0s 22us/step - loss: 0.1050 - acc: 0.9594 - val_loss: 0.1750 - val_acc: 0.9441\n",
      "Epoch 269/10000\n",
      "1282/1282 [==============================] - 0s 23us/step - loss: 0.1044 - acc: 0.9610 - val_loss: 0.1844 - val_acc: 0.9371\n",
      "Epoch 270/10000\n",
      "1282/1282 [==============================] - 0s 27us/step - loss: 0.1134 - acc: 0.9587 - val_loss: 0.1836 - val_acc: 0.9371\n",
      "Epoch 271/10000\n",
      "1282/1282 [==============================] - 0s 21us/step - loss: 0.1067 - acc: 0.9610 - val_loss: 0.1739 - val_acc: 0.9441\n",
      "Epoch 272/10000\n",
      "1282/1282 [==============================] - 0s 22us/step - loss: 0.1006 - acc: 0.9571 - val_loss: 0.1845 - val_acc: 0.9441\n",
      "Epoch 273/10000\n",
      "1282/1282 [==============================] - 0s 22us/step - loss: 0.1103 - acc: 0.9555 - val_loss: 0.1752 - val_acc: 0.9441\n",
      "Epoch 274/10000\n",
      "1282/1282 [==============================] - 0s 22us/step - loss: 0.1093 - acc: 0.9602 - val_loss: 0.1758 - val_acc: 0.9441\n",
      "Epoch 275/10000\n",
      "1282/1282 [==============================] - 0s 22us/step - loss: 0.1008 - acc: 0.9641 - val_loss: 0.1771 - val_acc: 0.9441\n",
      "Epoch 276/10000\n",
      "1282/1282 [==============================] - 0s 23us/step - loss: 0.1007 - acc: 0.9571 - val_loss: 0.1727 - val_acc: 0.9441\n",
      "Epoch 277/10000\n",
      "1282/1282 [==============================] - 0s 18us/step - loss: 0.1026 - acc: 0.9571 - val_loss: 0.1731 - val_acc: 0.9441\n",
      "Epoch 278/10000\n",
      "1282/1282 [==============================] - 0s 21us/step - loss: 0.1077 - acc: 0.9516 - val_loss: 0.1856 - val_acc: 0.9371\n",
      "Epoch 279/10000\n",
      "1282/1282 [==============================] - 0s 30us/step - loss: 0.1017 - acc: 0.9571 - val_loss: 0.1743 - val_acc: 0.9441\n",
      "Epoch 280/10000\n",
      "1282/1282 [==============================] - 0s 29us/step - loss: 0.1006 - acc: 0.9594 - val_loss: 0.1736 - val_acc: 0.9441\n",
      "Epoch 281/10000\n",
      "1282/1282 [==============================] - 0s 21us/step - loss: 0.1002 - acc: 0.9602 - val_loss: 0.1878 - val_acc: 0.9441\n",
      "Epoch 282/10000\n",
      "1282/1282 [==============================] - 0s 33us/step - loss: 0.1019 - acc: 0.9649 - val_loss: 0.1806 - val_acc: 0.9441\n",
      "Epoch 283/10000\n",
      "1282/1282 [==============================] - 0s 21us/step - loss: 0.1056 - acc: 0.9587 - val_loss: 0.1773 - val_acc: 0.9441\n",
      "Epoch 284/10000\n",
      "1282/1282 [==============================] - 0s 21us/step - loss: 0.1024 - acc: 0.9626 - val_loss: 0.1846 - val_acc: 0.9441\n",
      "Epoch 285/10000\n",
      "1282/1282 [==============================] - 0s 23us/step - loss: 0.1031 - acc: 0.9516 - val_loss: 0.1725 - val_acc: 0.9441\n",
      "Epoch 286/10000\n",
      "1282/1282 [==============================] - 0s 17us/step - loss: 0.1017 - acc: 0.9587 - val_loss: 0.1829 - val_acc: 0.9441\n",
      "Epoch 287/10000\n",
      "1282/1282 [==============================] - 0s 22us/step - loss: 0.1016 - acc: 0.9602 - val_loss: 0.1796 - val_acc: 0.9441\n",
      "Epoch 288/10000\n",
      "1282/1282 [==============================] - 0s 18us/step - loss: 0.1029 - acc: 0.9618 - val_loss: 0.1765 - val_acc: 0.9441\n",
      "Epoch 289/10000\n",
      "1282/1282 [==============================] - 0s 22us/step - loss: 0.0973 - acc: 0.9610 - val_loss: 0.1705 - val_acc: 0.9441\n",
      "Epoch 290/10000\n",
      "1282/1282 [==============================] - 0s 27us/step - loss: 0.1033 - acc: 0.9610 - val_loss: 0.1752 - val_acc: 0.9371\n",
      "Epoch 291/10000\n"
     ]
    },
    {
     "name": "stdout",
     "output_type": "stream",
     "text": [
      "1282/1282 [==============================] - 0s 19us/step - loss: 0.0995 - acc: 0.9626 - val_loss: 0.1703 - val_acc: 0.9441\n",
      "Epoch 292/10000\n",
      "1282/1282 [==============================] - 0s 19us/step - loss: 0.0957 - acc: 0.9602 - val_loss: 0.1837 - val_acc: 0.9371\n",
      "Epoch 293/10000\n",
      "1282/1282 [==============================] - 0s 21us/step - loss: 0.1018 - acc: 0.9626 - val_loss: 0.1781 - val_acc: 0.9441\n",
      "Epoch 294/10000\n",
      "1282/1282 [==============================] - 0s 24us/step - loss: 0.1001 - acc: 0.9594 - val_loss: 0.1766 - val_acc: 0.9441\n",
      "Epoch 295/10000\n",
      "1282/1282 [==============================] - 0s 20us/step - loss: 0.0989 - acc: 0.9594 - val_loss: 0.1958 - val_acc: 0.9371\n",
      "Epoch 296/10000\n",
      "1282/1282 [==============================] - 0s 23us/step - loss: 0.1014 - acc: 0.9626 - val_loss: 0.1814 - val_acc: 0.9441\n",
      "Epoch 297/10000\n",
      "1282/1282 [==============================] - 0s 20us/step - loss: 0.1045 - acc: 0.9602 - val_loss: 0.1811 - val_acc: 0.9441\n",
      "Epoch 298/10000\n",
      "1282/1282 [==============================] - 0s 21us/step - loss: 0.1011 - acc: 0.9641 - val_loss: 0.1767 - val_acc: 0.9441\n",
      "Epoch 299/10000\n",
      "1282/1282 [==============================] - 0s 25us/step - loss: 0.0940 - acc: 0.9633 - val_loss: 0.1760 - val_acc: 0.9441\n",
      "Epoch 300/10000\n",
      "1282/1282 [==============================] - 0s 22us/step - loss: 0.0985 - acc: 0.9610 - val_loss: 0.1810 - val_acc: 0.9371\n",
      "Epoch 301/10000\n",
      "1282/1282 [==============================] - 0s 29us/step - loss: 0.0990 - acc: 0.9649 - val_loss: 0.1800 - val_acc: 0.9441\n",
      "Epoch 302/10000\n",
      "1282/1282 [==============================] - 0s 24us/step - loss: 0.1012 - acc: 0.9555 - val_loss: 0.1938 - val_acc: 0.9371\n",
      "Epoch 303/10000\n",
      "1282/1282 [==============================] - 0s 19us/step - loss: 0.1060 - acc: 0.9571 - val_loss: 0.1809 - val_acc: 0.9441\n",
      "Epoch 304/10000\n",
      "1282/1282 [==============================] - 0s 20us/step - loss: 0.0949 - acc: 0.9657 - val_loss: 0.1773 - val_acc: 0.9441\n",
      "Epoch 305/10000\n",
      "1282/1282 [==============================] - 0s 21us/step - loss: 0.0999 - acc: 0.9618 - val_loss: 0.1792 - val_acc: 0.9441\n",
      "Epoch 00305: early stopping\n"
     ]
    }
   ],
   "source": [
    "validation_data_split = 0.1\n",
    "num_epochs = 10000\n",
    "model_batch_size = 128\n",
    "tb_batch_size = 32\n",
    "early_patience = 100\n",
    "\n",
    "tensorboard_cb   = TensorBoard(log_dir='logs', batch_size= tb_batch_size, write_graph= True)\n",
    "earlystopping_cb = EarlyStopping(monitor='val_loss', verbose=1, patience=early_patience, mode='min')\n",
    "TrainingData = np.transpose(TrainingData)\n",
    "TestData = np.transpose(TestData)\n",
    "# Process Dataset\n",
    "processedData, processedLabel = TrainingData, TrainingTarget\n",
    "history = model.fit(processedData\n",
    "                    , processedLabel\n",
    "                    , validation_split=validation_data_split\n",
    "                    , epochs=num_epochs\n",
    "                    , batch_size=model_batch_size\n",
    "                    , callbacks = [tensorboard_cb,earlystopping_cb]\n",
    "                   )"
   ]
  },
  {
   "cell_type": "markdown",
   "metadata": {},
   "source": [
    "### Training and Validation Graphs"
   ]
  },
  {
   "cell_type": "code",
   "execution_count": 418,
   "metadata": {},
   "outputs": [
    {
     "data": {
      "text/plain": [
       "array([<matplotlib.axes._subplots.AxesSubplot object at 0x1a380b9b00>,\n",
       "       <matplotlib.axes._subplots.AxesSubplot object at 0x1a38b162b0>,\n",
       "       <matplotlib.axes._subplots.AxesSubplot object at 0x1a38b6a470>,\n",
       "       <matplotlib.axes._subplots.AxesSubplot object at 0x1a38912668>],\n",
       "      dtype=object)"
      ]
     },
     "execution_count": 418,
     "metadata": {},
     "output_type": "execute_result"
    },
    {
     "data": {
      "image/png": "[encoded data removed]",
      "text/plain": [
       "<Figure size 720x1080 with 4 Axes>"
      ]
     },
     "metadata": {},
     "output_type": "display_data"
    }
   ],
   "source": [
    "%matplotlib inline\n",
    "df = pd.DataFrame(history.history)\n",
    "df.plot(subplots=True, grid=True, figsize=(10,15))"
   ]
  },
  {
   "cell_type": "markdown",
   "metadata": {},
   "source": [
    "### Testing Accuracy"
   ]
  },
  {
   "cell_type": "code",
   "execution_count": 419,
   "metadata": {},
   "outputs": [
    {
     "name": "stdout",
     "output_type": "stream",
     "text": [
      "Errors: 19  Correct :138\n",
      "Testing Accuracy: 87.89808917197452\n"
     ]
    }
   ],
   "source": [
    "y = model.predict(TestData)\n",
    "y = np.around(y)\n",
    "correct = 0\n",
    "wrong   = 0\n",
    "j = 0\n",
    "for i in TestDataAct:\n",
    "    if y[j]==i:\n",
    "        correct = correct + 1\n",
    "        j = j + 1\n",
    "    else:\n",
    "        wrong = wrong + 1\n",
    "        j = j + 1\n",
    "print(\"Errors: \" + str(wrong), \" Correct :\" + str(correct))\n",
    "\n",
    "print(\"Testing Accuracy: \" + str(correct/(correct+wrong)*100))"
   ]
  },
  {
   "cell_type": "markdown",
   "metadata": {},
   "source": [
    "## Neural Network on GSC Dataset with Feature Concatenation"
   ]
  },
  {
   "cell_type": "markdown",
   "metadata": {},
   "source": [
    "### Fetch and Prepare Dataset\n",
    "\n"
   ]
  },
  {
   "cell_type": "code",
   "execution_count": 480,
   "metadata": {},
   "outputs": [
    {
     "name": "stderr",
     "output_type": "stream",
     "text": [
      "/anaconda3/lib/python3.6/site-packages/ipykernel_launcher.py:3: DeprecationWarning: 'U' mode is deprecated\n",
      "  This is separate from the ipykernel package so we can avoid doing imports until\n",
      "/anaconda3/lib/python3.6/site-packages/ipykernel_launcher.py:12: DeprecationWarning: 'U' mode is deprecated\n",
      "  if sys.path[0] == '':\n"
     ]
    },
    {
     "name": "stdout",
     "output_type": "stream",
     "text": [
      "(1024, 143062)\n"
     ]
    }
   ],
   "source": [
    "IsSynthetic = False\n",
    "t = 1024\n",
    "RawTarget = GetTargetVector('final-gsc-cat.csv',t)\n",
    "RawData   = GenerateRawData('final-gsc-cat.csv',IsSynthetic,t)\n",
    "print(RawData.shape)"
   ]
  },
  {
   "cell_type": "markdown",
   "metadata": {},
   "source": [
    "### Prepare Training and Validation Data\n",
    "\n"
   ]
  },
  {
   "cell_type": "code",
   "execution_count": 481,
   "metadata": {},
   "outputs": [
    {
     "name": "stdout",
     "output_type": "stream",
     "text": [
      "(128756,)\n",
      "(1024, 128756)\n"
     ]
    }
   ],
   "source": [
    "TrainingPercent = 90\n",
    "# Validation Percent will be 10% of the TrainingPercent\n",
    "TrainingTarget = np.array(GenerateTrainingTarget(RawTarget,TrainingPercent))\n",
    "TrainingData   = GenerateTrainingDataMatrix(RawData,TrainingPercent)\n",
    "print(TrainingTarget.shape)\n",
    "print(TrainingData.shape)\n",
    "tr = int(TrainingTarget.shape[0])"
   ]
  },
  {
   "cell_type": "markdown",
   "metadata": {},
   "source": [
    "### Prepare Test Data"
   ]
  },
  {
   "cell_type": "code",
   "execution_count": 482,
   "metadata": {},
   "outputs": [
    {
     "name": "stdout",
     "output_type": "stream",
     "text": [
      "(14305,)\n",
      "(1024, 14305)\n"
     ]
    }
   ],
   "source": [
    "TestDataAct = np.array(GenerateValTargetVector(RawTarget,TestPercent, (len(TrainingTarget))))\n",
    "TestData = GenerateValData(RawData,TestPercent, (len(TrainingTarget)))\n",
    "print(TestDataAct.shape)\n",
    "print(TestData.shape)\n",
    "te = int(TestDataAct.shape[0])"
   ]
  },
  {
   "cell_type": "markdown",
   "metadata": {},
   "source": [
    "### Model Definition\n"
   ]
  },
  {
   "cell_type": "code",
   "execution_count": 483,
   "metadata": {},
   "outputs": [],
   "source": [
    "from keras.models import Sequential\n",
    "from keras.layers import Dense, Activation, Dropout\n",
    "from keras.callbacks import EarlyStopping, TensorBoard\n",
    "import pandas as pd\n",
    "import numpy as np\n",
    "\n",
    "input_size = 1024\n",
    "drop_out = 0.2\n",
    "first_dense_layer_nodes  = 256\n",
    "second_dense_layer_nodes = 1\n",
    "\n",
    "def get_model():\n",
    "    \n",
    "   \n",
    "    model = Sequential()\n",
    "    \n",
    "    model.add(Dense(first_dense_layer_nodes, input_dim=input_size))\n",
    "    model.add(Activation('relu'))\n",
    "    \n",
    "  \n",
    "    model.add(Dropout(drop_out))\n",
    "    \n",
    "    model.add(Dense(second_dense_layer_nodes))\n",
    "    model.add(Activation('sigmoid'))\n",
    "    \n",
    "    #model.add(Dense(1))\n",
    "    #model.add(Activation('sigmoid'))\n",
    "    model.summary()\n",
    "    \n",
    "\n",
    "    model.compile(optimizer='rmsprop',\n",
    "                  loss='binary_crossentropy',\n",
    "                  metrics=['accuracy'])\n",
    "    \n",
    "    return model"
   ]
  },
  {
   "cell_type": "markdown",
   "metadata": {},
   "source": [
    "### Creating Model"
   ]
  },
  {
   "cell_type": "code",
   "execution_count": 484,
   "metadata": {},
   "outputs": [
    {
     "name": "stdout",
     "output_type": "stream",
     "text": [
      "_________________________________________________________________\n",
      "Layer (type)                 Output Shape              Param #   \n",
      "=================================================================\n",
      "dense_17 (Dense)             (None, 512)               524800    \n",
      "_________________________________________________________________\n",
      "activation_17 (Activation)   (None, 512)               0         \n",
      "_________________________________________________________________\n",
      "dropout_9 (Dropout)          (None, 512)               0         \n",
      "_________________________________________________________________\n",
      "dense_18 (Dense)             (None, 1)                 513       \n",
      "_________________________________________________________________\n",
      "activation_18 (Activation)   (None, 1)                 0         \n",
      "=================================================================\n",
      "Total params: 525,313\n",
      "Trainable params: 525,313\n",
      "Non-trainable params: 0\n",
      "_________________________________________________________________\n"
     ]
    }
   ],
   "source": [
    "model = get_model()"
   ]
  },
  {
   "cell_type": "code",
   "execution_count": 485,
   "metadata": {},
   "outputs": [
    {
     "name": "stdout",
     "output_type": "stream",
     "text": [
      "Train on 115880 samples, validate on 12876 samples\n",
      "Epoch 1/30\n",
      "115880/115880 [==============================] - 19s 161us/step - loss: 0.4833 - acc: 0.7618 - val_loss: 0.3825 - val_acc: 0.8267\n",
      "Epoch 2/30\n",
      "115880/115880 [==============================] - 12s 102us/step - loss: 0.3164 - acc: 0.8624 - val_loss: 0.3240 - val_acc: 0.8468\n",
      "Epoch 3/30\n",
      "115880/115880 [==============================] - 15s 131us/step - loss: 0.2349 - acc: 0.9021 - val_loss: 0.2545 - val_acc: 0.8891\n",
      "Epoch 4/30\n",
      "115880/115880 [==============================] - 15s 128us/step - loss: 0.1810 - acc: 0.9261 - val_loss: 0.2197 - val_acc: 0.9047\n",
      "Epoch 5/30\n",
      "115880/115880 [==============================] - 12s 104us/step - loss: 0.1479 - acc: 0.9411 - val_loss: 0.2158 - val_acc: 0.9195\n",
      "Epoch 6/30\n",
      "115880/115880 [==============================] - 14s 124us/step - loss: 0.1221 - acc: 0.9518 - val_loss: 0.2232 - val_acc: 0.9115\n",
      "Epoch 7/30\n",
      "115880/115880 [==============================] - 14s 119us/step - loss: 0.1019 - acc: 0.9605 - val_loss: 0.1846 - val_acc: 0.9315\n",
      "Epoch 8/30\n",
      "115880/115880 [==============================] - 13s 112us/step - loss: 0.0867 - acc: 0.9662 - val_loss: 0.1783 - val_acc: 0.9358\n",
      "Epoch 9/30\n",
      "115880/115880 [==============================] - 13s 112us/step - loss: 0.0745 - acc: 0.9720 - val_loss: 0.1873 - val_acc: 0.9366\n",
      "Epoch 10/30\n",
      "115880/115880 [==============================] - 14s 119us/step - loss: 0.0630 - acc: 0.9760 - val_loss: 0.1933 - val_acc: 0.9348\n",
      "Epoch 11/30\n",
      "115880/115880 [==============================] - 13s 116us/step - loss: 0.0557 - acc: 0.9791 - val_loss: 0.2399 - val_acc: 0.9304\n",
      "Epoch 12/30\n",
      "115880/115880 [==============================] - 17s 144us/step - loss: 0.0489 - acc: 0.9820 - val_loss: 0.2212 - val_acc: 0.9369\n",
      "Epoch 13/30\n",
      "115880/115880 [==============================] - 13s 108us/step - loss: 0.0450 - acc: 0.9837 - val_loss: 0.2479 - val_acc: 0.9275\n",
      "Epoch 14/30\n",
      "115880/115880 [==============================] - 15s 127us/step - loss: 0.0405 - acc: 0.9850 - val_loss: 0.2110 - val_acc: 0.9417\n",
      "Epoch 15/30\n",
      "115880/115880 [==============================] - 12s 106us/step - loss: 0.0364 - acc: 0.9868 - val_loss: 0.3385 - val_acc: 0.9134\n",
      "Epoch 16/30\n",
      "115880/115880 [==============================] - 14s 121us/step - loss: 0.0319 - acc: 0.9885 - val_loss: 0.2480 - val_acc: 0.9385\n",
      "Epoch 17/30\n",
      "115880/115880 [==============================] - 15s 131us/step - loss: 0.0305 - acc: 0.9891 - val_loss: 0.2430 - val_acc: 0.9378\n",
      "Epoch 18/30\n",
      "115880/115880 [==============================] - 11s 96us/step - loss: 0.0267 - acc: 0.9905 - val_loss: 0.2671 - val_acc: 0.9381\n",
      "Epoch 00018: early stopping\n"
     ]
    }
   ],
   "source": [
    "validation_data_split = 0.1\n",
    "num_epochs = 30\n",
    "model_batch_size = 128\n",
    "tb_batch_size = 32\n",
    "early_patience = 10\n",
    "\n",
    "tensorboard_cb   = TensorBoard(log_dir='logs', batch_size= tb_batch_size, write_graph= True)\n",
    "earlystopping_cb = EarlyStopping(monitor='val_loss', verbose=1, patience=early_patience, mode='min')\n",
    "TrainingData = np.transpose(TrainingData)\n",
    "TestData = np.transpose(TestData)\n",
    "# Process Dataset\n",
    "processedData, processedLabel = TrainingData, TrainingTarget\n",
    "history = model.fit(processedData\n",
    "                    , processedLabel\n",
    "                    , validation_split=validation_data_split\n",
    "                    , epochs=num_epochs\n",
    "                    , batch_size=model_batch_size\n",
    "                    , callbacks = [tensorboard_cb,earlystopping_cb]\n",
    "                   )"
   ]
  },
  {
   "cell_type": "markdown",
   "metadata": {},
   "source": [
    "### Training and Validation Graphs"
   ]
  },
  {
   "cell_type": "code",
   "execution_count": 486,
   "metadata": {},
   "outputs": [
    {
     "data": {
      "text/plain": [
       "array([<matplotlib.axes._subplots.AxesSubplot object at 0x1a39851c50>,\n",
       "       <matplotlib.axes._subplots.AxesSubplot object at 0x1a3abcddd8>,\n",
       "       <matplotlib.axes._subplots.AxesSubplot object at 0x1a3ab59f98>,\n",
       "       <matplotlib.axes._subplots.AxesSubplot object at 0x1a3ab3d198>],\n",
       "      dtype=object)"
      ]
     },
     "execution_count": 486,
     "metadata": {},
     "output_type": "execute_result"
    },
    {
     "data": {
      "image/png": "[encoded data removed]",
      "text/plain": [
       "<Figure size 720x1080 with 4 Axes>"
      ]
     },
     "metadata": {},
     "output_type": "display_data"
    }
   ],
   "source": [
    "%matplotlib inline\n",
    "df = pd.DataFrame(history.history)\n",
    "df.plot(subplots=True, grid=True, figsize=(10,15))"
   ]
  },
  {
   "cell_type": "markdown",
   "metadata": {},
   "source": [
    "### Testing Accuracy"
   ]
  },
  {
   "cell_type": "code",
   "execution_count": 487,
   "metadata": {},
   "outputs": [
    {
     "name": "stdout",
     "output_type": "stream",
     "text": [
      "Errors: 866  Correct :13439\n",
      "Testing Accuracy: 93.94617266689968\n"
     ]
    }
   ],
   "source": [
    "y = model.predict(TestData)\n",
    "y = np.around(y)\n",
    "correct = 0\n",
    "wrong   = 0\n",
    "j = 0\n",
    "for i in TestDataAct:\n",
    "    if y[j]==i:\n",
    "        correct = correct + 1\n",
    "        j = j + 1\n",
    "    else:\n",
    "        wrong = wrong + 1\n",
    "        j = j + 1\n",
    "print(\"Errors: \" + str(wrong), \" Correct :\" + str(correct))\n",
    "\n",
    "print(\"Testing Accuracy: \" + str(correct/(correct+wrong)*100))"
   ]
  },
  {
   "cell_type": "markdown",
   "metadata": {},
   "source": [
    "## Neural Network on GSC Dataset with Feature Subtraction\n"
   ]
  },
  {
   "cell_type": "markdown",
   "metadata": {},
   "source": [
    "### Fetch and Prepare Dataset"
   ]
  },
  {
   "cell_type": "code",
   "execution_count": 488,
   "metadata": {},
   "outputs": [
    {
     "name": "stderr",
     "output_type": "stream",
     "text": [
      "/anaconda3/lib/python3.6/site-packages/ipykernel_launcher.py:3: DeprecationWarning: 'U' mode is deprecated\n",
      "  This is separate from the ipykernel package so we can avoid doing imports until\n",
      "/anaconda3/lib/python3.6/site-packages/ipykernel_launcher.py:12: DeprecationWarning: 'U' mode is deprecated\n",
      "  if sys.path[0] == '':\n"
     ]
    },
    {
     "name": "stdout",
     "output_type": "stream",
     "text": [
      "(512, 143062)\n"
     ]
    }
   ],
   "source": [
    "IsSynthetic = False\n",
    "t = 512\n",
    "RawTarget = GetTargetVector('final-gsc-sub.csv',t)\n",
    "RawData   = GenerateRawData('final-gsc-sub.csv',IsSynthetic,t)\n",
    "print(RawData.shape)"
   ]
  },
  {
   "cell_type": "markdown",
   "metadata": {},
   "source": [
    "### Prepare Training and Validation Dataset\n",
    "\n",
    "\n"
   ]
  },
  {
   "cell_type": "code",
   "execution_count": 489,
   "metadata": {},
   "outputs": [
    {
     "name": "stdout",
     "output_type": "stream",
     "text": [
      "(128756,)\n",
      "(512, 128756)\n"
     ]
    }
   ],
   "source": [
    "TrainingPercent = 90\n",
    "# Validation Percent will be 10% of the TrainingPercent\n",
    "TrainingTarget = np.array(GenerateTrainingTarget(RawTarget,TrainingPercent))\n",
    "TrainingData   = GenerateTrainingDataMatrix(RawData,TrainingPercent)\n",
    "print(TrainingTarget.shape)\n",
    "print(TrainingData.shape)\n",
    "tr = int(TrainingTarget.shape[0])"
   ]
  },
  {
   "cell_type": "markdown",
   "metadata": {},
   "source": [
    "### Prepare Test Dataset\n",
    "\n",
    "\n"
   ]
  },
  {
   "cell_type": "code",
   "execution_count": 490,
   "metadata": {},
   "outputs": [
    {
     "name": "stdout",
     "output_type": "stream",
     "text": [
      "(14305,)\n",
      "(512, 14305)\n"
     ]
    }
   ],
   "source": [
    "TestDataAct = np.array(GenerateValTargetVector(RawTarget,TestPercent, (len(TrainingTarget))))\n",
    "TestData = GenerateValData(RawData,TestPercent, (len(TrainingTarget)))\n",
    "print(TestDataAct.shape)\n",
    "print(TestData.shape)\n",
    "te = int(TestDataAct.shape[0])"
   ]
  },
  {
   "cell_type": "markdown",
   "metadata": {},
   "source": [
    "### Model Definition\n",
    "\n"
   ]
  },
  {
   "cell_type": "code",
   "execution_count": 491,
   "metadata": {},
   "outputs": [],
   "source": [
    "from keras.models import Sequential\n",
    "from keras.layers import Dense, Activation, Dropout\n",
    "from keras.callbacks import EarlyStopping, TensorBoard\n",
    "import pandas as pd\n",
    "import numpy as np\n",
    "\n",
    "input_size = 512\n",
    "drop_out = 0.2\n",
    "first_dense_layer_nodes  = 256\n",
    "second_dense_layer_nodes = 1\n",
    "\n",
    "def get_model():\n",
    "    \n",
    "   \n",
    "    model = Sequential()\n",
    "    \n",
    "    model.add(Dense(first_dense_layer_nodes, input_dim=input_size))\n",
    "    model.add(Activation('relu'))\n",
    "    \n",
    "  \n",
    "    model.add(Dropout(drop_out))\n",
    "    \n",
    "    model.add(Dense(second_dense_layer_nodes))\n",
    "    model.add(Activation('sigmoid'))\n",
    "    \n",
    "    #model.add(Dense(1))\n",
    "    #model.add(Activation('sigmoid'))\n",
    "    model.summary()\n",
    "    \n",
    "\n",
    "    model.compile(optimizer='rmsprop',\n",
    "                  loss='binary_crossentropy',\n",
    "                  metrics=['accuracy'])\n",
    "    \n",
    "    return model"
   ]
  },
  {
   "cell_type": "markdown",
   "metadata": {},
   "source": [
    "### Create Model"
   ]
  },
  {
   "cell_type": "code",
   "execution_count": 492,
   "metadata": {},
   "outputs": [
    {
     "name": "stdout",
     "output_type": "stream",
     "text": [
      "_________________________________________________________________\n",
      "Layer (type)                 Output Shape              Param #   \n",
      "=================================================================\n",
      "dense_19 (Dense)             (None, 256)               131328    \n",
      "_________________________________________________________________\n",
      "activation_19 (Activation)   (None, 256)               0         \n",
      "_________________________________________________________________\n",
      "dropout_10 (Dropout)         (None, 256)               0         \n",
      "_________________________________________________________________\n",
      "dense_20 (Dense)             (None, 1)                 257       \n",
      "_________________________________________________________________\n",
      "activation_20 (Activation)   (None, 1)                 0         \n",
      "=================================================================\n",
      "Total params: 131,585\n",
      "Trainable params: 131,585\n",
      "Non-trainable params: 0\n",
      "_________________________________________________________________\n"
     ]
    }
   ],
   "source": [
    "model = get_model()"
   ]
  },
  {
   "cell_type": "code",
   "execution_count": 493,
   "metadata": {},
   "outputs": [
    {
     "name": "stdout",
     "output_type": "stream",
     "text": [
      "Train on 115880 samples, validate on 12876 samples\n",
      "Epoch 1/50\n",
      "115880/115880 [==============================] - 7s 62us/step - loss: 0.4832 - acc: 0.7656 - val_loss: 0.4072 - val_acc: 0.8173\n",
      "Epoch 2/50\n",
      "115880/115880 [==============================] - 4s 34us/step - loss: 0.3984 - acc: 0.8206 - val_loss: 0.4597 - val_acc: 0.7897\n",
      "Epoch 3/50\n",
      "115880/115880 [==============================] - 6s 49us/step - loss: 0.3554 - acc: 0.8447 - val_loss: 0.3693 - val_acc: 0.8381\n",
      "Epoch 4/50\n",
      "115880/115880 [==============================] - 4s 37us/step - loss: 0.3235 - acc: 0.8594 - val_loss: 0.3604 - val_acc: 0.8443\n",
      "Epoch 5/50\n",
      "115880/115880 [==============================] - 6s 54us/step - loss: 0.2979 - acc: 0.8728 - val_loss: 0.3542 - val_acc: 0.8489\n",
      "Epoch 6/50\n",
      "115880/115880 [==============================] - 6s 49us/step - loss: 0.2765 - acc: 0.8836 - val_loss: 0.3614 - val_acc: 0.8448\n",
      "Epoch 7/50\n",
      "115880/115880 [==============================] - 5s 45us/step - loss: 0.2565 - acc: 0.8922 - val_loss: 0.3734 - val_acc: 0.8442\n",
      "Epoch 8/50\n",
      "115880/115880 [==============================] - 6s 54us/step - loss: 0.2383 - acc: 0.9012 - val_loss: 0.3570 - val_acc: 0.8512\n",
      "Epoch 9/50\n",
      "115880/115880 [==============================] - 5s 46us/step - loss: 0.2222 - acc: 0.9094 - val_loss: 0.3836 - val_acc: 0.8435\n",
      "Epoch 10/50\n",
      "115880/115880 [==============================] - 5s 44us/step - loss: 0.2091 - acc: 0.9145 - val_loss: 0.3635 - val_acc: 0.8546\n",
      "Epoch 11/50\n",
      "115880/115880 [==============================] - 5s 41us/step - loss: 0.1956 - acc: 0.9209 - val_loss: 0.3706 - val_acc: 0.8517\n",
      "Epoch 12/50\n",
      "115880/115880 [==============================] - 4s 33us/step - loss: 0.1841 - acc: 0.9256 - val_loss: 0.4514 - val_acc: 0.8341\n",
      "Epoch 13/50\n",
      "115880/115880 [==============================] - 5s 46us/step - loss: 0.1750 - acc: 0.9300 - val_loss: 0.3883 - val_acc: 0.8532\n",
      "Epoch 14/50\n",
      "115880/115880 [==============================] - 5s 41us/step - loss: 0.1630 - acc: 0.9349 - val_loss: 0.3981 - val_acc: 0.8557\n",
      "Epoch 15/50\n",
      "115880/115880 [==============================] - 5s 41us/step - loss: 0.1536 - acc: 0.9393 - val_loss: 0.4074 - val_acc: 0.8528\n",
      "Epoch 00015: early stopping\n"
     ]
    }
   ],
   "source": [
    "validation_data_split = 0.1\n",
    "num_epochs = 50\n",
    "model_batch_size = 128\n",
    "tb_batch_size = 32\n",
    "early_patience = 10\n",
    "\n",
    "tensorboard_cb   = TensorBoard(log_dir='logs', batch_size= tb_batch_size, write_graph= True)\n",
    "earlystopping_cb = EarlyStopping(monitor='val_loss', verbose=1, patience=early_patience, mode='min')\n",
    "TrainingData = np.transpose(TrainingData)\n",
    "TestData = np.transpose(TestData)\n",
    "# Process Dataset\n",
    "processedData, processedLabel = TrainingData, TrainingTarget\n",
    "history = model.fit(processedData\n",
    "                    , processedLabel\n",
    "                    , validation_split=validation_data_split\n",
    "                    , epochs=num_epochs\n",
    "                    , batch_size=model_batch_size\n",
    "                    , callbacks = [tensorboard_cb,earlystopping_cb]\n",
    "                   )"
   ]
  },
  {
   "cell_type": "markdown",
   "metadata": {},
   "source": [
    "### Training and Validation Graphs"
   ]
  },
  {
   "cell_type": "code",
   "execution_count": 494,
   "metadata": {},
   "outputs": [
    {
     "data": {
      "text/plain": [
       "array([<matplotlib.axes._subplots.AxesSubplot object at 0x1a1cb718d0>,\n",
       "       <matplotlib.axes._subplots.AxesSubplot object at 0x1a3bff69e8>,\n",
       "       <matplotlib.axes._subplots.AxesSubplot object at 0x1a3bfb5ba8>,\n",
       "       <matplotlib.axes._subplots.AxesSubplot object at 0x1a3bfe7d68>],\n",
       "      dtype=object)"
      ]
     },
     "execution_count": 494,
     "metadata": {},
     "output_type": "execute_result"
    },
    {
     "data": {
      "image/png": "[encoded data removed]",
      "text/plain": [
       "<Figure size 720x1080 with 4 Axes>"
      ]
     },
     "metadata": {},
     "output_type": "display_data"
    }
   ],
   "source": [
    "%matplotlib inline\n",
    "df = pd.DataFrame(history.history)\n",
    "df.plot(subplots=True, grid=True, figsize=(10,15))"
   ]
  },
  {
   "cell_type": "markdown",
   "metadata": {},
   "source": [
    "### Testing Accuracy"
   ]
  },
  {
   "cell_type": "code",
   "execution_count": 495,
   "metadata": {},
   "outputs": [
    {
     "name": "stdout",
     "output_type": "stream",
     "text": [
      "Errors: 2098  Correct :12207\n",
      "Testing Accuracy: 85.33379937084935\n"
     ]
    }
   ],
   "source": [
    "y = model.predict(TestData)\n",
    "y = np.around(y)\n",
    "correct = 0\n",
    "wrong   = 0\n",
    "j = 0\n",
    "for i in TestDataAct:\n",
    "    if y[j]==i:\n",
    "        correct = correct + 1\n",
    "        j = j + 1\n",
    "    else:\n",
    "        wrong = wrong + 1\n",
    "        j = j + 1\n",
    "print(\"Errors: \" + str(wrong), \" Correct :\" + str(correct))\n",
    "\n",
    "print(\"Testing Accuracy: \" + str(correct/(correct+wrong)*100))"
   ]
  },
  {
   "cell_type": "markdown",
   "metadata": {},
   "source": [
    "## Code for Data Preprocessing"
   ]
  },
  {
   "cell_type": "markdown",
   "metadata": {},
   "source": [
    "### Preprocessing"
   ]
  },
  {
   "cell_type": "code",
   "execution_count": null,
   "metadata": {},
   "outputs": [],
   "source": [
    "'''\n",
    "import csv\n",
    "\n",
    "f1 = open('same_pairs.csv', 'r')\n",
    "f2 = open('GSC-Features.csv', 'r')\n",
    "f22 = open('GSC-Features.csv', 'r')\n",
    "f3 = open('results-final.csv', 'w')\n",
    "f4 = open('diffn_pairs_shu.csv', 'r')\n",
    "\n",
    "c1 = csv.reader(f1)\n",
    "c2 = csv.reader(f2)\n",
    "c3 = csv.writer(f3)\n",
    "c4 = csv.reader(f4)\n",
    "c5 = csv.reader(f22)\n",
    "\n",
    "\n",
    "masterlist = list(c2)\n",
    "masterlist2 = list(c5)\n",
    "\n",
    "row = 1\n",
    "for hosts_row in c1:\n",
    "    if(row==1):\n",
    "    \trow = 2\n",
    "    \tcontinue\n",
    "    results=[]\n",
    "    for master_row in masterlist:\n",
    "\n",
    "        if hosts_row[0] == master_row[0]:\n",
    "            results.append(master_row[1:513])\n",
    "        if hosts_row[1] == master_row[0]:\n",
    "        \tresults.append(master_row[1:513])\n",
    "        \n",
    "    results.append(hosts_row[2])\n",
    "    list = [y for x in results for y in x]\n",
    "\n",
    "    #print(list)\n",
    "    c3.writerow(list)\n",
    "\n",
    "\n",
    "row = 1\n",
    "\n",
    "for hosts_row in c4:\n",
    "\tif(row>71532):\n",
    "\t\tbreak\n",
    "\t\t\n",
    "\tresults=[]\n",
    "\n",
    "\tfor master_row in masterlist2:\n",
    "\t\tif hosts_row[0] == master_row[0]:\n",
    "\t\t\tresults.append(master_row[1:513])\n",
    "\t\tif hosts_row[1] == master_row[0]:\n",
    "\t\t\tresults.append(master_row[1:513])\n",
    "    \n",
    "\tresults.append(hosts_row[2])\n",
    "\tlist = [y for x in results for y in x]\n",
    "\tc3.writerow(list)\n",
    "\trow =row + 1\n",
    "        \n",
    "\n",
    "\n",
    "f1.close()\n",
    "f2.close()\n",
    "'''"
   ]
  },
  {
   "cell_type": "markdown",
   "metadata": {},
   "source": [
    "### Shuffle Data"
   ]
  },
  {
   "cell_type": "code",
   "execution_count": null,
   "metadata": {},
   "outputs": [],
   "source": [
    "'''\n",
    "import numpy as np\n",
    "import pandas as pd\n",
    "\n",
    "def shuffler(filename):\n",
    "  df = pd.read_csv(filename, header=0)\n",
    "  # return the pandas dataframe\n",
    "  return df.reindex(np.random.permutation(df.index))\n",
    "\n",
    "\n",
    "def main(outputfilename):\n",
    "  shuffler('final_results_sub.csv').to_csv(outputfilename, sep=',',header=0 , index=0)\n",
    "\n",
    "if __name__ == '__main__': \n",
    "  main('final_sub.csv')\n",
    "'''"
   ]
  },
  {
   "cell_type": "markdown",
   "metadata": {},
   "source": [
    "### Detecting columns with all the values zero in GSC Dataset"
   ]
  },
  {
   "cell_type": "code",
   "execution_count": null,
   "metadata": {},
   "outputs": [],
   "source": [
    "'''\n",
    "import csv\n",
    "import pandas as pd\n",
    "import numpy as np\n",
    "\n",
    "list = []\n",
    "df = pd.DataFrame(data=[])\n",
    "df = pd.read_csv('final-gsc-sub.csv')\n",
    "#print(df)\t\n",
    "num = np.asarray(df)\n",
    "print(num.shape)\n",
    "row, col = num.shape\n",
    "col = col - 2\n",
    "print(\"Col\",col)\n",
    "for i in range(col):\n",
    "\tsum =0\n",
    "\tfor j in range(row):\n",
    "\t\tsum = sum + num[j][i]\n",
    "\tif(sum==0):\n",
    "\t\tprint(\"Column index\",i,\"is ZERO\")\n",
    "'''"
   ]
  }
 ],
 "metadata": {
  "kernelspec": {
   "display_name": "Python 3",
   "language": "python",
   "name": "python3"
  },
  "language_info": {
   "codemirror_mode": {
    "name": "ipython",
    "version": 3
   },
   "file_extension": ".py",
   "mimetype": "text/x-python",
   "name": "python",
   "nbconvert_exporter": "python",
   "pygments_lexer": "ipython3",
   "version": "3.6.5"
  }
 },
 "nbformat": 4,
 "nbformat_minor": 2
}
